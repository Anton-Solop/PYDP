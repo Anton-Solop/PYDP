{
 "cells": [
  {
   "cell_type": "code",
   "execution_count": 8,
   "id": "2434a329",
   "metadata": {},
   "outputs": [
    {
     "name": "stdout",
     "output_type": "stream",
     "text": [
      "phrases of equal length\n",
      "phrase2 is bigger than phrase1\n"
     ]
    }
   ],
   "source": [
    "phrase_1 = 'Насколько проще было бы писать программы, если бы не заказчики'\n",
    "phrase_2 = 'Насколько проще было бы писать программы, если бы не заказчики'\n",
    "if len(phrase_1) == len(phrase_2):\n",
    "    print ('phrases of equal length')\n",
    "elif len(phrase_1) > len(phrase_2):\n",
    "    print ('phrase1 is bigger than phrase2')\n",
    "print ('phrase2 is bigger than phrase1')"
   ]
  },
  {
   "cell_type": "code",
   "execution_count": 9,
   "id": "2763ab9c",
   "metadata": {},
   "outputs": [
    {
     "name": "stdout",
     "output_type": "stream",
     "text": [
      "phrase1 is bigger than phrase2\n",
      "phrase2 is bigger than phrase1\n"
     ]
    }
   ],
   "source": [
    "phrase_1 = 'Насколько проще было бы писать программы, если бы не заказчики'\n",
    "phrase_2 = '640Кб должно хватить для любых задач. Билл Гейтс (по легенде)'\n",
    "if len(phrase_1) == len(phrase_2):\n",
    "    print ('phrases of equal length')\n",
    "elif len(phrase_1) > len(phrase_2):\n",
    "    print ('phrase1 is bigger than phrase2')\n",
    "print ('phrase2 is bigger than phrase1')"
   ]
  },
  {
   "cell_type": "code",
   "execution_count": 10,
   "id": "f204ee2c",
   "metadata": {},
   "outputs": [
    {
     "name": "stdout",
     "output_type": "stream",
     "text": [
      "phrase2 is bigger than phrase1\n"
     ]
    }
   ],
   "source": [
    "phrase_2 = 'Насколько проще было бы писать программы, если бы не заказчики'\n",
    "phrase_1 = '640Кб должно хватить для любых задач. Билл Гейтс (по легенде)'\n",
    "if len(phrase_1) == len(phrase_2):\n",
    "    print ('phrases of equal length')\n",
    "elif len(phrase_1) > len(phrase_2):\n",
    "    print ('phrase1 is bigger than phrase2')\n",
    "print ('phrase2 is bigger than phrase1')"
   ]
  }
 ],
 "metadata": {
  "kernelspec": {
   "display_name": "Python 3",
   "language": "python",
   "name": "python3"
  },
  "language_info": {
   "codemirror_mode": {
    "name": "ipython",
    "version": 3
   },
   "file_extension": ".py",
   "mimetype": "text/x-python",
   "name": "python",
   "nbconvert_exporter": "python",
   "pygments_lexer": "ipython3",
   "version": "3.8.8"
  }
 },
 "nbformat": 4,
 "nbformat_minor": 5
}
