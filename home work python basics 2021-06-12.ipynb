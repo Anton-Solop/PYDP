{
 "cells": [
  {
   "cell_type": "markdown",
   "id": "473e5219",
   "metadata": {},
   "source": [
    "### Домашнее задание к лекции \"Основы Python\""
   ]
  },
  {
   "cell_type": "markdown",
   "id": "c4df357f",
   "metadata": {},
   "source": [
    "### Оглавление\n",
    "  \n",
    "1. [Задание 1](#task1)   \n",
    "2. [Задание 2](#task2)  \n",
    "3. [Задание 3](#task3)  \n",
    "4. [Задание 4](#task4)  \n",
    "5. [Задание 5](#task5) \n",
    "6. [Задание 6](#task6) \n"
   ]
  },
  {
   "cell_type": "markdown",
   "id": "5ec72bd9",
   "metadata": {},
   "source": [
    "###### 1. Задание 1 <a id='task1'></a>"
   ]
  },
  {
   "cell_type": "code",
   "execution_count": 3,
   "id": "002db49c",
   "metadata": {},
   "outputs": [
    {
     "name": "stdout",
     "output_type": "stream",
     "text": [
      "Фразы равной длины\n"
     ]
    }
   ],
   "source": [
    "phrase_1 = 'Насколько проще было бы писать программы, если бы не заказчики'\n",
    "phrase_2 = 'Насколько проще было бы писать программы, если бы не заказчики'\n",
    "if len(phrase_1) == len(phrase_2):\n",
    "    print('Фразы равной длины')\n",
    "elif len(phrase_1) > len(phrase_2):\n",
    "    print('Фраза 1 длиннее фразы 2')\n",
    "elif len(phrase_1) < len(phrase_2):\n",
    "    print('Фраза 2 длиннее фразы 1')"
   ]
  },
  {
   "cell_type": "code",
   "execution_count": 5,
   "id": "aca4164e",
   "metadata": {},
   "outputs": [
    {
     "name": "stdout",
     "output_type": "stream",
     "text": [
      "Фраза 1 длиннее фразы 2\n"
     ]
    }
   ],
   "source": [
    "phrase_1 = 'Насколько проще было бы писать программы, если бы не заказчики'\n",
    "phrase_2 = '640Кб должно хватить для любых задач. Билл Гейтс (по легенде)'\n",
    "if len(phrase_1) == len(phrase_2):\n",
    "    print('Фразы равной длины')\n",
    "elif len(phrase_1) > len(phrase_2):\n",
    "    print('Фраза 1 длиннее фразы 2')\n",
    "elif len(phrase_1) < len(phrase_2):\n",
    "    print('Фраза 2 длиннее фразы 1')"
   ]
  },
  {
   "cell_type": "code",
   "execution_count": 6,
   "id": "d62ccaa6",
   "metadata": {},
   "outputs": [
    {
     "name": "stdout",
     "output_type": "stream",
     "text": [
      "Фраза 2 длиннее фразы 1\n"
     ]
    }
   ],
   "source": [
    "phrase_1 = '640Кб должно хватить для любых задач. Билл Гейтс (по легенде)'\n",
    "phrase_2 = 'Насколько проще было бы писать программы, если бы не заказчики'\n",
    "if len(phrase_1) == len(phrase_2):\n",
    "    print('Фразы равной длины')\n",
    "elif len(phrase_1) > len(phrase_2):\n",
    "    print('Фраза 1 длиннее фразы 2')\n",
    "elif len(phrase_1) < len(phrase_2):\n",
    "    print('Фраза 2 длиннее фразы 1')"
   ]
  },
  {
   "cell_type": "markdown",
   "id": "c93d780e",
   "metadata": {},
   "source": [
    " ###### 2. Задание 2 <a id='task2'></a>"
   ]
  },
  {
   "cell_type": "code",
   "execution_count": null,
   "id": "7cf61e7a",
   "metadata": {},
   "outputs": [],
   "source": [
    "# Определят является ли год високосным.\n",
    "year_input = int(input(\"Введите год для проверки: \"))\n",
    "# print(\"Вы ввели  год: \", year_input)\n",
    "if (year_input % 4 == 0 and year_input % 100 != 0) or year_input % 400 == 0:\n",
    "    print(year_input, \"год является високосным (366 дней).\")\n",
    "else:\n",
    "    print(year_input, \"год не високосный (365 дней).\")"
   ]
  },
  {
   "cell_type": "markdown",
   "id": "b5ac8434",
   "metadata": {},
   "source": [
    " ###### 3. Задание 3 <a id='task3'></a>"
   ]
  },
  {
   "cell_type": "code",
   "execution_count": 10,
   "id": "b41cd3cf",
   "metadata": {},
   "outputs": [
    {
     "name": "stdout",
     "output_type": "stream",
     "text": [
      "Определение знака Зодиака по дате рождения\n",
      "\n",
      "Введите год рождения (например:  1980 -- значит 1980 год): 1970\n",
      "Введите месяц рождения (например:  8 -- значит август): 9\n",
      "Введите число рождения (например: 26 -- значит 26 число): 3\n",
      "\n",
      "Ваш день рождения  03 September 1970 , находится в знаке Девы.\n"
     ]
    }
   ],
   "source": [
    "# Определяет знак Зодиака по дате, с учётом високосных годов.\n",
    "import datetime\n",
    "print(\"Определение знака Зодиака по дате рождения\")\n",
    "print()\n",
    "# Вводим дату : год, месяц, число)\n",
    "year_input = int(\n",
    "    input(\"Введите год рождения (например:  1980 -- значит 1980 год): \"))\n",
    "month_input = int(\n",
    "    input(\"Введите месяц рождения (например:  8 -- значит август): \"))\n",
    "day_input = int(\n",
    "    input(\"Введите число рождения (например: 26 -- значит 26 число): \"))\n",
    "birthday_date = datetime.datetime(year_input, month_input, day_input)\n",
    "dt_string = birthday_date.strftime(\"%d %B %Y\")\n",
    "print()\n",
    "print(\"Ваш день рождения \", dt_string, \", находится в знаке\", end=' ')\n",
    "# Поиск знака Зодиака по дате в интервалах временных периодов знаков.\n",
    "if datetime.datetime(year_input, 3, 21) <= birthday_date <= datetime.datetime(year_input, 4, 19):\n",
    "    # Aries\n",
    "    print(\"Овна.\")\n",
    "elif datetime.datetime(year_input, 4, 20) <= birthday_date <= datetime.datetime(year_input, 5, 20):\n",
    "    # Taurus\n",
    "    print(\"Тельца.\")\n",
    "elif datetime.datetime(year_input, 5, 21) <= birthday_date <= datetime.datetime(year_input, 6, 20):\n",
    "    # Gemini\n",
    "    print(\"Близнеца.\")\n",
    "elif datetime.datetime(year_input, 6, 21) <= birthday_date <= datetime.datetime(year_input, 7, 22):\n",
    "    # Cancer\n",
    "    print(\"Рака.\")\n",
    "elif datetime.datetime(year_input, 7, 23) <= birthday_date <= datetime.datetime(year_input, 8, 22):\n",
    "    # Leo\n",
    "    print(\"Льва.\")\n",
    "elif datetime.datetime(year_input, 8, 23) <= birthday_date <= datetime.datetime(year_input, 9, 22):\n",
    "    # Virgo\n",
    "    print(\"Девы.\")\n",
    "elif datetime.datetime(year_input, 9, 23) <= birthday_date <= datetime.datetime(year_input, 10, 22):\n",
    "    # Libra\n",
    "    print(\"Весов.\")\n",
    "elif datetime.datetime(year_input, 10, 23) <= birthday_date <= datetime.datetime(year_input, 11, 21):\n",
    "    # Scorpio\n",
    "    print(\"Скорпиона.\")\n",
    "elif datetime.datetime(year_input, 11, 22) <= birthday_date <= datetime.datetime(year_input, 12, 21):\n",
    "    # Sagittarius\n",
    "    print(\"Стрельца.\")\n",
    "elif datetime.datetime(year_input, 12, 22) <= birthday_date <= datetime.datetime(year_input, 1, 19):\n",
    "    # Capricorn\n",
    "    print(\"Козерога.\")\n",
    "elif datetime.datetime(year_input, 1, 20) <= birthday_date <= datetime.datetime(year_input, 2, 18):\n",
    "    # Aquarius\n",
    "    print(\"Водолея.\")\n",
    "elif datetime.datetime(year_input, 2, 19) <= birthday_date <= datetime.datetime(year_input, 3, 20):\n",
    "    # Pisces\n",
    "    print(\"Рыб.\")"
   ]
  },
  {
   "cell_type": "markdown",
   "id": "02cbb959",
   "metadata": {},
   "source": [
    " ###### 4. Задание 4 <a id='task4'></a>"
   ]
  },
  {
   "cell_type": "code",
   "execution_count": 13,
   "id": "868d06a3",
   "metadata": {},
   "outputs": [
    {
     "name": "stdout",
     "output_type": "stream",
     "text": [
      "Для подбора упаковки, введите размеры товара в сантиметрах.\n",
      "Длина: 123\n",
      "Ширина: 33\n",
      "Высота: 2\n",
      "\n",
      "Коробка №2\n"
     ]
    }
   ],
   "source": [
    "# Определяет тип упаковки в зависимости от размера товара.\n",
    "print(\"Для подбора упаковки, введите размеры товара в сантиметрах.\")\n",
    "length = int(\n",
    "    input(\"Длина: \"))\n",
    "width = int(\n",
    "    input(\"Ширина: \"))\n",
    "height = int(\n",
    "    input(\"Высота: \"))\n",
    "print()\n",
    "if length > 200:\n",
    "    print(\"Упаковка для лыж\")\n",
    "elif width < 15 and height < 15 and length < 15:\n",
    "    print(\"Коробка №1\")\n",
    "elif 15 < width < 50 or 15 < height < 50 or 15 < length < 50:\n",
    "    print(\"Коробка №2\")\n",
    "else:\n",
    "    print(\"Стандартная коробка №3\")"
   ]
  },
  {
   "cell_type": "markdown",
   "id": "e99f7d6c",
   "metadata": {},
   "source": [
    " ###### 5. Задание 5 <a id='task5'></a>"
   ]
  },
  {
   "cell_type": "code",
   "execution_count": 14,
   "id": "470b4acb",
   "metadata": {},
   "outputs": [
    {
     "name": "stdout",
     "output_type": "stream",
     "text": [
      "Для определения является ли билет “счастливым” , введите его шестизначный номер.\n",
      "Номер билета: 123345\n",
      "Несчастливый билет\n"
     ]
    }
   ],
   "source": [
    "print(\"Для определения является ли билет “счастливым” , введите его шестизначный номер.\")\n",
    "ver_num = [\n",
    "    ver_num for ver_num in (input(\"Номер билета: \"))]\n",
    "if (int(ver_num[-1])+int(ver_num[-2])+int(ver_num[-3])) == (int(ver_num[0])+int(ver_num[1])+int(ver_num[2])):\n",
    "    print(\"Счастливый билет\")\n",
    "else:\n",
    "    print(\"Несчастливый билет\")"
   ]
  },
  {
   "cell_type": "markdown",
   "id": "ac07bfbe",
   "metadata": {},
   "source": [
    " ###### 6. Задание 6 <a id='task6'></a>"
   ]
  },
  {
   "cell_type": "code",
   "execution_count": 15,
   "id": "f7588478",
   "metadata": {},
   "outputs": [
    {
     "name": "stdout",
     "output_type": "stream",
     "text": [
      "Введите тип фигуры (Круг, Треугольник, Прямоугольник): Круг\n",
      "Введите радиус круга: 3\n",
      "Площадь круга:  28.26\n"
     ]
    }
   ],
   "source": [
    "type = input(\"Введите тип фигуры (Круг, Треугольник, Прямоугольник): \")\n",
    "if type == \"Круг\":\n",
    "    rad = int(input(\"Введите радиус круга: \"))\n",
    "    square = 3.14*(rad**2)\n",
    "    print(\"Площадь круга: \", (3.14*(rad**2)))\n",
    "elif type == \"Треугольник\":\n",
    "    side_a=int(input(\"Введите длину стороны A: \"))\n",
    "    side_b=int(input(\"Введите длину стороны B: \"))\n",
    "    side_c=int(input(\"Введите длину стороны C: \"))\n",
    "    p=(side_a+side_b+side_c)/2\n",
    "    print(\"Площадь треугольника: \", (p*(p-side_a)*(p-side_b)*(p-side_c))**0.5)\n",
    "elif type == \"Прямоугольник\":\n",
    "    side_a=int(input(\"Введите длину стороны A: \"))\n",
    "    side_b=int(input(\"Введите длину стороны B: \"))\n",
    "    print(\"Площадь прямоугольника: \", side_a*side_b)\n",
    "else:\n",
    "    print(\" Неправильное название фигуры \")"
   ]
  }
 ],
 "metadata": {
  "kernelspec": {
   "display_name": "Python 3",
   "language": "python",
   "name": "python3"
  },
  "language_info": {
   "codemirror_mode": {
    "name": "ipython",
    "version": 3
   },
   "file_extension": ".py",
   "mimetype": "text/x-python",
   "name": "python",
   "nbconvert_exporter": "python",
   "pygments_lexer": "ipython3",
   "version": "3.8.8"
  },
  "varInspector": {
   "cols": {
    "lenName": 16,
    "lenType": 16,
    "lenVar": 40
   },
   "kernels_config": {
    "python": {
     "delete_cmd_postfix": "",
     "delete_cmd_prefix": "del ",
     "library": "var_list.py",
     "varRefreshCmd": "print(var_dic_list())"
    },
    "r": {
     "delete_cmd_postfix": ") ",
     "delete_cmd_prefix": "rm(",
     "library": "var_list.r",
     "varRefreshCmd": "cat(var_dic_list()) "
    }
   },
   "types_to_exclude": [
    "module",
    "function",
    "builtin_function_or_method",
    "instance",
    "_Feature"
   ],
   "window_display": false
  }
 },
 "nbformat": 4,
 "nbformat_minor": 5
}
