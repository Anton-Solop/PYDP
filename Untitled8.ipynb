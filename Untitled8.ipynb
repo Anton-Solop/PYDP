{
 "cells": [
  {
   "cell_type": "markdown",
   "id": "64af7650",
   "metadata": {},
   "source": [
    "### Домашнее задание к лекции \"Основы Python\""
   ]
  },
  {
   "cell_type": "markdown",
   "id": "c35f41eb",
   "metadata": {},
   "source": [
    "### Оглавление\n",
    "  \n",
    "1. [Задание 1](#task1)   \n",
    "2. [ >>>  и  ...](#task2)  \n",
    "3. [Функция int() в Python](#task3)  \n",
    "4. [Методы списков Python](#task4)  \n",
    "5. [len()](#task5) \n",
    "6. [Получение пользовательского ввода в Python с input()](#task6) \n"
   ]
  },
  {
   "cell_type": "markdown",
   "id": "082d9ce7",
   "metadata": {},
   "source": [
    "###### 1. Задание 1 <a id='task1'></a>"
   ]
  },
  {
   "cell_type": "code",
   "execution_count": 3,
   "id": "4072c451",
   "metadata": {},
   "outputs": [
    {
     "name": "stdout",
     "output_type": "stream",
     "text": [
      "Фразы равной длины\n"
     ]
    }
   ],
   "source": [
    "phrase_1 = 'Насколько проще было бы писать программы, если бы не заказчики'\n",
    "phrase_2 = 'Насколько проще было бы писать программы, если бы не заказчики'\n",
    "if len(phrase_1) == len(phrase_2):\n",
    "    print ('Фразы равной длины') \n",
    "elif len(phrase_1) > len(phrase_2):\n",
    "    print ('phrase1 is bigger than phrase2')\n",
    "elif len(phrase_1) < len(phrase_2):\n",
    "     print ('phrase2 is bigger than phrase1')"
   ]
  },
  {
   "cell_type": "code",
   "execution_count": null,
   "id": "0bbe2a31",
   "metadata": {},
   "outputs": [],
   "source": [
    "phrase_1 = 'Насколько проще было бы писать программы, если бы не заказчики'\n",
    "phrase_2 = '640Кб должно хватить для любых задач. Билл Гейтс (по легенде)'\n",
    "if len(phrase_1) == len(phrase_2):\n",
    "    print ('phrases of equal length') \n",
    "elif len(phrase_1) > len(phrase_2):\n",
    "    print ('phrase1 is bigger than phrase2')\n",
    "elif len(phrase_1) < len(phrase_2):\n",
    "     print ('phrase2 is bigger than phrase1')"
   ]
  },
  {
   "cell_type": "code",
   "execution_count": null,
   "id": "3b18b55e",
   "metadata": {},
   "outputs": [],
   "source": []
  }
 ],
 "metadata": {
  "kernelspec": {
   "display_name": "Python 3",
   "language": "python",
   "name": "python3"
  },
  "language_info": {
   "codemirror_mode": {
    "name": "ipython",
    "version": 3
   },
   "file_extension": ".py",
   "mimetype": "text/x-python",
   "name": "python",
   "nbconvert_exporter": "python",
   "pygments_lexer": "ipython3",
   "version": "3.8.8"
  },
  "varInspector": {
   "cols": {
    "lenName": 16,
    "lenType": 16,
    "lenVar": 40
   },
   "kernels_config": {
    "python": {
     "delete_cmd_postfix": "",
     "delete_cmd_prefix": "del ",
     "library": "var_list.py",
     "varRefreshCmd": "print(var_dic_list())"
    },
    "r": {
     "delete_cmd_postfix": ") ",
     "delete_cmd_prefix": "rm(",
     "library": "var_list.r",
     "varRefreshCmd": "cat(var_dic_list()) "
    }
   },
   "types_to_exclude": [
    "module",
    "function",
    "builtin_function_or_method",
    "instance",
    "_Feature"
   ],
   "window_display": false
  }
 },
 "nbformat": 4,
 "nbformat_minor": 5
}
