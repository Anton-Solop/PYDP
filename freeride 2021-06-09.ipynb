{
 "cells": [
  {
   "cell_type": "markdown",
   "id": "0c1646c3",
   "metadata": {},
   "source": [
    "# Списки в Python \n",
    "#### - упорядоченные изменяемые коллекции объектов произвольных типов (почти как массив, но типы могут отличаться).\n",
    "\n",
    "# Чтобы использовать списки, их нужно создать ))).\n"
   ]
  },
  {
   "cell_type": "code",
   "execution_count": null,
   "id": "d8b2f551",
   "metadata": {},
   "outputs": [],
   "source": [
    "# Создать список можно несколькими способами. Например, можно обработать любой итерируемый объект (например, строку) встроенной функцией list:\n",
    "list('список')"
   ]
  },
  {
   "cell_type": "code",
   "execution_count": 10,
   "id": "e2421863",
   "metadata": {},
   "outputs": [
    {
     "data": {
      "text/plain": [
       "[]"
      ]
     },
     "execution_count": 10,
     "metadata": {},
     "output_type": "execute_result"
    },
    {
     "data": {
      "text/plain": [
       "['s', 'p', ['isok'], 2]"
      ]
     },
     "execution_count": 10,
     "metadata": {},
     "output_type": "execute_result"
    }
   ],
   "source": [
    "# Список можно создать и при помощи литерала:\n",
    "\n",
    "s = []  # Пустой список\n",
    "l = ['s', 'p', ['isok'], 2]\n",
    "s\n",
    "l"
   ]
  },
  {
   "cell_type": "code",
   "execution_count": 11,
   "id": "2e562c13",
   "metadata": {},
   "outputs": [
    {
     "data": {
      "text/plain": [
       "['lll', 'iii', 'sss', 'ttt']"
      ]
     },
     "execution_count": 11,
     "metadata": {},
     "output_type": "execute_result"
    }
   ],
   "source": [
    "# способ создать список - это генераторы списков\n",
    "c = [c * 3 for c in 'list']\n",
    "c\n",
    "# print(c)"
   ]
  },
  {
   "cell_type": "code",
   "execution_count": 13,
   "id": "1a88a241",
   "metadata": {},
   "outputs": [
    {
     "data": {
      "text/plain": [
       "['888', '888', '888', '999']"
      ]
     },
     "execution_count": 13,
     "metadata": {},
     "output_type": "execute_result"
    }
   ],
   "source": [
    "c = [c * 3 for c in '8889']\n",
    "c"
   ]
  },
  {
   "cell_type": "code",
   "execution_count": 14,
   "id": "84c2f841",
   "metadata": {},
   "outputs": [
    {
     "data": {
      "text/plain": [
       "['lll', 'sss', 'ttt']"
      ]
     },
     "execution_count": 14,
     "metadata": {},
     "output_type": "execute_result"
    }
   ],
   "source": [
    "# более сложная конструкция генератора списков\n",
    "c = [c * 3 for c in 'list' if c != 'i']\n",
    "c\n",
    "# c = [c + d for c in 'list' if c != 'i' for d in 'spam' if d != 'a']\n",
    "# c"
   ]
  },
  {
   "cell_type": "code",
   "execution_count": 15,
   "id": "eb0250c5",
   "metadata": {},
   "outputs": [
    {
     "data": {
      "text/plain": [
       "['iii']"
      ]
     },
     "execution_count": 15,
     "metadata": {},
     "output_type": "execute_result"
    }
   ],
   "source": [
    "c = [c * 3 for c in 'list' if c <= 'i']\n",
    "c"
   ]
  },
  {
   "cell_type": "code",
   "execution_count": 16,
   "id": "6d0e1466",
   "metadata": {},
   "outputs": [
    {
     "data": {
      "text/plain": [
       "['ls', 'lp', 'lm', 'ss', 'sp', 'sm', 'ts', 'tp', 'tm']"
      ]
     },
     "execution_count": 16,
     "metadata": {},
     "output_type": "execute_result"
    }
   ],
   "source": [
    "c = [c + d for c in 'list' if c != 'i' for d in 'spam' if d != 'a']\n",
    "c"
   ]
  },
  {
   "cell_type": "code",
   "execution_count": null,
   "id": "0616fbec",
   "metadata": {},
   "outputs": [],
   "source": [
    "Метод\tЧто делает\n",
    "list.append(x)\tДобавляет элемент в конец списка\n",
    "list.extend(L)\tРасширяет список list, добавляя в конец все элементы списка L\n",
    "list.insert(i, x)\tВставляет на i-ый элемент значение x\n",
    "list.remove(x)\tУдаляет первый элемент в списке, имеющий значение x. ValueError, если такого элемента не существует\n",
    "list.pop([i])\tУдаляет i-ый элемент и возвращает его. Если индекс не указан, удаляется последний элемент\n",
    "list.index(x, [start], [end])\tВозвращает положение первого элемента со значением x(при этом поиск ведется от start до end)\n",
    "list.count(x)\tВозвращает количество элементов со значением x\n",
    "list.sort([key=функция])\tСортирует список на основе функции\n",
    "list.reverse()\tРазворачивает список\n",
    "list.copy()\tПоверхностная копия списка\n",
    "list.clear()\tОчищает список\n",
    "# То, что в документации аргументы в [ ]скобках записаны это значит, что они являются не обязательными."
   ]
  },
  {
   "cell_type": "code",
   "execution_count": 19,
   "id": "329a6d55",
   "metadata": {},
   "outputs": [
    {
     "data": {
      "text/plain": [
       "[7, 5, 3, 2, 1]"
      ]
     },
     "execution_count": 19,
     "metadata": {},
     "output_type": "execute_result"
    }
   ],
   "source": [
    "l = [1, 2, 3, 5, 7]\n",
    "l.reverse()\n",
    "l"
   ]
  },
  {
   "cell_type": "code",
   "execution_count": 23,
   "id": "c9923d13",
   "metadata": {},
   "outputs": [
    {
     "data": {
      "text/plain": [
       "[1, 8, 3, 5, 7]"
      ]
     },
     "execution_count": 23,
     "metadata": {},
     "output_type": "execute_result"
    },
    {
     "data": {
      "text/plain": [
       "[1, 3, 5, 7, 8]"
      ]
     },
     "execution_count": 23,
     "metadata": {},
     "output_type": "execute_result"
    }
   ],
   "source": [
    "# методы списков, в отличие от строковых методов, изменяют сам список, а потому результат выполнения не нужно записывать в эту переменную.\n",
    "l = [1, 8, 3, 5, 7]\n",
    "l\n",
    "l.sort()\n",
    "l"
   ]
  },
  {
   "cell_type": "code",
   "execution_count": 22,
   "id": "1307a9d4",
   "metadata": {},
   "outputs": [
    {
     "name": "stdout",
     "output_type": "stream",
     "text": [
      "None\n"
     ]
    }
   ],
   "source": [
    "# \n",
    "l = [1, 2, 3, 5, 7]\n",
    "l = l.sort()\n",
    "print(l)"
   ]
  },
  {
   "cell_type": "code",
   "execution_count": 25,
   "id": "2a46ac0b",
   "metadata": {},
   "outputs": [
    {
     "name": "stdout",
     "output_type": "stream",
     "text": [
      "2 1 0\n"
     ]
    },
    {
     "data": {
      "text/plain": [
       "[66.25, 333, -1, 333, 1, 1234.5]"
      ]
     },
     "execution_count": 25,
     "metadata": {},
     "output_type": "execute_result"
    },
    {
     "data": {
      "text/plain": [
       "[66.25, 333, -1, 333, 1, 1234.5, 333]"
      ]
     },
     "execution_count": 25,
     "metadata": {},
     "output_type": "execute_result"
    },
    {
     "data": {
      "text/plain": [
       "1"
      ]
     },
     "execution_count": 25,
     "metadata": {},
     "output_type": "execute_result"
    },
    {
     "data": {
      "text/plain": [
       "[66.25, -1, 333, 1, 1234.5, 333]"
      ]
     },
     "execution_count": 25,
     "metadata": {},
     "output_type": "execute_result"
    },
    {
     "data": {
      "text/plain": [
       "[333, 1234.5, 1, 333, -1, 66.25]"
      ]
     },
     "execution_count": 25,
     "metadata": {},
     "output_type": "execute_result"
    },
    {
     "data": {
      "text/plain": [
       "[-1, 1, 66.25, 333, 333, 1234.5]"
      ]
     },
     "execution_count": 25,
     "metadata": {},
     "output_type": "execute_result"
    }
   ],
   "source": [
    "# примеры работы со списками\n",
    "a = [66.25, 333, 333, 1, 1234.5]\n",
    "print(a.count(333), a.count(66.25), a.count('x'))\n",
    "a.insert(2, -1)\n",
    "a\n",
    "a.append(333)\n",
    "a\n",
    "a.index(333)\n",
    "a.remove(333)\n",
    "a\n",
    "a.reverse()\n",
    "a\n",
    "a.sort()\n",
    "a\n",
    "# Изредка, для увеличения производительности, списки заменяют гораздо менее гибкими массивами \n",
    "# (хотя в таких случаях обычно используют сторонние библиотеки, например NumPy)."
   ]
  },
  {
   "cell_type": "code",
   "execution_count": 26,
   "id": "31a3887d",
   "metadata": {},
   "outputs": [
    {
     "name": "stdout",
     "output_type": "stream",
     "text": [
      "2 1 4 0\n"
     ]
    },
    {
     "data": {
      "text/plain": [
       "4"
      ]
     },
     "execution_count": 26,
     "metadata": {},
     "output_type": "execute_result"
    },
    {
     "data": {
      "text/plain": [
       "['x', 66.25, 'x', 333, 333, 'x', 1, 1234.5, 'x']"
      ]
     },
     "execution_count": 26,
     "metadata": {},
     "output_type": "execute_result"
    },
    {
     "data": {
      "text/plain": [
       "2"
      ]
     },
     "execution_count": 26,
     "metadata": {},
     "output_type": "execute_result"
    },
    {
     "data": {
      "text/plain": [
       "1"
      ]
     },
     "execution_count": 26,
     "metadata": {},
     "output_type": "execute_result"
    }
   ],
   "source": [
    "a = ['x', 66.25, 'x', 333, 333, 'x', 1, 1234.5, 'x']\n",
    "print(a.count(333), a.count(66.25), a.count('x'), a.index('x'))\n",
    "\n",
    "a.count('x')\n",
    "a\n",
    "a.index('x', 2, 5)\n",
    "\n",
    "a.index(66.25)"
   ]
  },
  {
   "cell_type": "code",
   "execution_count": 1,
   "id": "d35ed656",
   "metadata": {},
   "outputs": [],
   "source": [
    "from IPython.core.interactiveshell import InteractiveShell\n",
    "InteractiveShell.ast_node_interactivity = \"all\"\n",
    "# Вывод результатов всех операций\n"
   ]
  },
  {
   "cell_type": "code",
   "execution_count": null,
   "id": "343f5820",
   "metadata": {},
   "outputs": [],
   "source": []
  }
 ],
 "metadata": {
  "kernelspec": {
   "display_name": "Python 3",
   "language": "python",
   "name": "python3"
  },
  "language_info": {
   "codemirror_mode": {
    "name": "ipython",
    "version": 3
   },
   "file_extension": ".py",
   "mimetype": "text/x-python",
   "name": "python",
   "nbconvert_exporter": "python",
   "pygments_lexer": "ipython3",
   "version": "3.8.8"
  },
  "varInspector": {
   "cols": {
    "lenName": 16,
    "lenType": 16,
    "lenVar": 40
   },
   "kernels_config": {
    "python": {
     "delete_cmd_postfix": "",
     "delete_cmd_prefix": "del ",
     "library": "var_list.py",
     "varRefreshCmd": "print(var_dic_list())"
    },
    "r": {
     "delete_cmd_postfix": ") ",
     "delete_cmd_prefix": "rm(",
     "library": "var_list.r",
     "varRefreshCmd": "cat(var_dic_list()) "
    }
   },
   "types_to_exclude": [
    "module",
    "function",
    "builtin_function_or_method",
    "instance",
    "_Feature"
   ],
   "window_display": false
  }
 },
 "nbformat": 4,
 "nbformat_minor": 5
}
