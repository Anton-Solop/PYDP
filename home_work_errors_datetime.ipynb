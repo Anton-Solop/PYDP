{
 "cells": [
  {
   "cell_type": "markdown",
   "id": "0c60356d",
   "metadata": {},
   "source": [
    "### Домашнее задание к лекции «Исключения и обработка ошибок»"
   ]
  },
  {
   "cell_type": "markdown",
   "id": "81bdf14e",
   "metadata": {},
   "source": [
    "### Оглавление\n",
    "  \n",
    "1. [Задание 1](#task1)   \n",
    "2. [Задание 2](#task2)  \n",
    "3. [Задание 3](#task3)  \n",
    "4. [Задание 4](#task4)  \n",
    "5. [Задание 5](#task5) \n",
    "6. [Задание 6](#task6) "
   ]
  },
  {
   "cell_type": "markdown",
   "id": "816d1e9b",
   "metadata": {},
   "source": [
    "###### 1. Задание 1 <a id='task1'></a>"
   ]
  },
  {
   "cell_type": "code",
   "execution_count": 63,
   "id": "0ddeb252",
   "metadata": {},
   "outputs": [
    {
     "name": "stdout",
     "output_type": "stream",
     "text": [
      "The Moscow Times  -  2002-10-02 00:00:00\n",
      "The Guardian  -  2013-10-11 00:00:00\n",
      "Daily News  -  1977-08-18 00:00:00\n"
     ]
    }
   ],
   "source": [
    "# Для каждой газеты, формат указанной даты  переводит в объект datetime.\n",
    "from datetime import datetime\n",
    "date_string = ['The Moscow Times - Wednesday, October 2, 2002',\n",
    "               'The Guardian - Friday, 11.10.13', 'Daily News - Thursday, 18 August 1977']\n",
    "date_form = ['%A, %B %d, %Y', '%A, %d.%m.%y', '%A, %d %B %Y']\n",
    "\n",
    "\n",
    "def return_date(date, f_date):    # по форматам указанной даты  переводит в объект datetime\n",
    "    \"\"\" Принимает дату и форматы даты \n",
    "    и по форматам  указанной даты  переводит её и выдаёт в объекте datetime\"\"\"\n",
    "    for format_n in f_date:\n",
    "        try:\n",
    "            return datetime.strptime(date, format_n)\n",
    "        except:\n",
    "            pass\n",
    "    raise ValueError('Отсутствующий формат даты или ошибочный ввод', date)\n",
    "\n",
    "\n",
    "for i in date_string:\n",
    "    print(i.split(' - ')[0], ' - ', return_date(i.split(' - ')[1], date_form))"
   ]
  },
  {
   "cell_type": "markdown",
   "id": "6342c053",
   "metadata": {},
   "source": [
    "###### 2. Задание 2 <a id='task2'></a>"
   ]
  },
  {
   "cell_type": "code",
   "execution_count": 68,
   "id": "1ca909fd",
   "metadata": {},
   "outputs": [
    {
     "name": "stdout",
     "output_type": "stream",
     "text": [
      "2018-04-02 True\n",
      "2018-02-29 False\n",
      "2018-19-02 False\n"
     ]
    }
   ],
   "source": [
    "# Содержит функцию, которая проверяет поток дат на корректность в формате  YYYY-MM-DD. Т. е. для каждой даты возвращает True (дата корректна) или False (некорректная дата).\n",
    "from datetime import datetime\n",
    "stream = ['2018-04-02', '2018-02-29', '2018-19-02']\n",
    "\n",
    "\n",
    "def check_date(date):  # Проверяет формат даты и реальность даты и возвращает True или False\n",
    "    \"\"\" Проверяет формат даты и реальность даты и возвращает True или False\"\"\"\n",
    "    try:\n",
    "        datetime.strptime(date, '%Y-%m-%d')\n",
    "        return True\n",
    "    except:\n",
    "        return False\n",
    "\n",
    "\n",
    "for i in stream:\n",
    "    print(i, check_date(i))"
   ]
  },
  {
   "cell_type": "markdown",
   "id": "36ce0ea7",
   "metadata": {},
   "source": [
    "###### 3. Задание 3<a id='task3'></a>"
   ]
  },
  {
   "cell_type": "code",
   "execution_count": 72,
   "id": "bee7766e",
   "metadata": {},
   "outputs": [
    {
     "name": "stdout",
     "output_type": "stream",
     "text": [
      "Введите начальную дату в формате YYYY-MM-DD: 1980-05-10\n",
      "Введите конечную дату в формате YYYY-MM-DD: 1980-05-18\n"
     ]
    },
    {
     "data": {
      "text/plain": [
       "['1980-05-10',\n",
       " '1980-05-11',\n",
       " '1980-05-12',\n",
       " '1980-05-13',\n",
       " '1980-05-14',\n",
       " '1980-05-15',\n",
       " '1980-05-16',\n",
       " '1980-05-17',\n",
       " '1980-05-18']"
      ]
     },
     "execution_count": 72,
     "metadata": {},
     "output_type": "execute_result"
    }
   ],
   "source": [
    "# возвращает список дат за период от start_date до end_date.\n",
    "# Даты должны вводиться в формате YYYY-MM-DD.\n",
    "# В случае неверного формата или при start_date > end_date должен возвращаться пустой список\n",
    "\n",
    "from datetime import datetime\n",
    "from datetime import timedelta\n",
    "\n",
    "\n",
    "def date_range():  # возвращает список дат за период от start_date до end_date\n",
    "    \"\"\" возвращает список дат за период от start_date до end_date. Даты должны вводиться в формате YYYY-MM-DD. \n",
    "    В случае неверного формата или при start_date > end_date должен возвращаться пустой список\"\"\"\n",
    "    date_r = []\n",
    "    start_date = input('Введите начальную дату в формате YYYY-MM-DD: ')\n",
    "    end_date = input('Введите конечную дату в формате YYYY-MM-DD: ')\n",
    "    try:\n",
    "        start_date_datetime = datetime.strptime(start_date, '%Y-%m-%d')\n",
    "        end_date_datetime = datetime.strptime(end_date, '%Y-%m-%d')\n",
    "        start_date_datetime <= end_date_datetime\n",
    "        for n in range((end_date_datetime - start_date_datetime).days + 1):\n",
    "            date_r.append(\n",
    "                (start_date_datetime + timedelta(n)).strftime('%Y-%m-%d'))\n",
    "        return date_r\n",
    "    except:\n",
    "        return date_r\n",
    "\n",
    "\n",
    "date_range()"
   ]
  },
  {
   "cell_type": "markdown",
   "id": "7740f9ff",
   "metadata": {},
   "source": [
    "###### 4. Задание 4<a id='task4'></a>"
   ]
  },
  {
   "cell_type": "markdown",
   "id": "4ec6b3cf",
   "metadata": {},
   "source": [
    "##### Ошибка :     \"  IndexError: list index out of range.  \"               Означает, что происходит обращение к несуществующему элементу списка. \n",
    "\n",
    "##### При однократном вызове этой функции все работает корректно : в списке изначально три элемента с индексами ( 0, 1, 2 ) * , мы удаляем элемент ( -1) , остаётся список с элементами (0, 1) , на выдачу идет существующий элемент ( 1 ) \n",
    "\n",
    "##### При повторном вызове получается ошибка  \"  IndexError: list index out of range.  \"  :  в списке уже два элемента с индексами ( 0, 1 ) , мы удаляем элемент ( -1) , остаётся список с одним элементом (0) , на выдачу идет уже не существующий элемент в списке  ( 1 ) \n",
    "\n",
    "  #####                  *Индексация элементов в списках начинается с ( 0 )"
   ]
  },
  {
   "cell_type": "code",
   "execution_count": null,
   "id": "0aebaa74",
   "metadata": {},
   "outputs": [],
   "source": [
    "DEFAULT_USER_COUNT = 3\n",
    "\n",
    "\n",
    "def delete_and_return_last_user(region, default_list=['A100', 'A101', 'A102']):\n",
    "    \"\"\"Удаляет из списка default_list последнего пользователя и возвращает ID нового последнего пользователя.\"\"\"\n",
    "    element_to_delete = default_list[-1]\n",
    "    default_list.remove(element_to_delete)\n",
    "    return default_list[DEFAULT_USER_COUNT-2]"
   ]
  },
  {
   "cell_type": "code",
   "execution_count": null,
   "id": "82b00d0d",
   "metadata": {},
   "outputs": [],
   "source": []
  }
 ],
 "metadata": {
  "kernelspec": {
   "display_name": "Python 3",
   "language": "python",
   "name": "python3"
  },
  "language_info": {
   "codemirror_mode": {
    "name": "ipython",
    "version": 3
   },
   "file_extension": ".py",
   "mimetype": "text/x-python",
   "name": "python",
   "nbconvert_exporter": "python",
   "pygments_lexer": "ipython3",
   "version": "3.8.8"
  },
  "varInspector": {
   "cols": {
    "lenName": 16,
    "lenType": 16,
    "lenVar": 40
   },
   "kernels_config": {
    "python": {
     "delete_cmd_postfix": "",
     "delete_cmd_prefix": "del ",
     "library": "var_list.py",
     "varRefreshCmd": "print(var_dic_list())"
    },
    "r": {
     "delete_cmd_postfix": ") ",
     "delete_cmd_prefix": "rm(",
     "library": "var_list.r",
     "varRefreshCmd": "cat(var_dic_list()) "
    }
   },
   "types_to_exclude": [
    "module",
    "function",
    "builtin_function_or_method",
    "instance",
    "_Feature"
   ],
   "window_display": false
  }
 },
 "nbformat": 4,
 "nbformat_minor": 5
}
