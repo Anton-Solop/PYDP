{
 "cells": [
  {
   "cell_type": "markdown",
   "id": "13f4f5bb",
   "metadata": {},
   "source": [
    "### Домашнее задание к лекции «Исключения и обработка ошибок»"
   ]
  },
  {
   "cell_type": "markdown",
   "id": "f5b60a75",
   "metadata": {},
   "source": [
    "### Оглавление\n",
    "  \n",
    "1. [Задание 1](#task1)   \n",
    "2. [Задание 2](#task2)  \n",
    "3. [Задание 3](#task3)  \n",
    "4. [Задание 4](#task4)  \n",
    "5. [Задание 5](#task5) \n",
    "6. [Задание 6](#task6) "
   ]
  },
  {
   "cell_type": "markdown",
   "id": "90061a4c",
   "metadata": {},
   "source": [
    "###### 1. Задание 1 <a id='task1'></a>"
   ]
  },
  {
   "cell_type": "code",
   "execution_count": 63,
   "id": "f84cd1b9",
   "metadata": {},
   "outputs": [
    {
     "name": "stdout",
     "output_type": "stream",
     "text": [
      "The Moscow Times  -  2002-10-02 00:00:00\n",
      "The Guardian  -  2013-10-11 00:00:00\n",
      "Daily News  -  1977-08-18 00:00:00\n"
     ]
    }
   ],
   "source": [
    "# Для каждой газеты, формат указанной даты  переводит в объект datetime.\n",
    "from datetime import datetime\n",
    "date_string = ['The Moscow Times - Wednesday, October 2, 2002',\n",
    "               'The Guardian - Friday, 11.10.13', 'Daily News - Thursday, 18 August 1977']\n",
    "date_form = ['%A, %B %d, %Y', '%A, %d.%m.%y', '%A, %d %B %Y']\n",
    "\n",
    "\n",
    "def return_date(date, f_date):    # по форматам указанной даты  переводит в объект datetime\n",
    "    \"\"\" Принимает дату и форматы даты \n",
    "    и по форматам  указанной даты  переводит её и выдаёт в объекте datetime\"\"\"\n",
    "    for format_n in f_date:\n",
    "        try:\n",
    "            return datetime.strptime(date, format_n)\n",
    "        except:\n",
    "            pass\n",
    "    raise ValueError('Отсутствующий формат даты', date)\n",
    "\n",
    "\n",
    "for i in date_string:\n",
    "    print(i.split(' - ')[0], ' - ', return_date(i.split(' - ')[1], date_form))"
   ]
  },
  {
   "cell_type": "markdown",
   "id": "62abefb6",
   "metadata": {},
   "source": [
    "###### 2. Задание 2 <a id='task2'></a>"
   ]
  },
  {
   "cell_type": "code",
   "execution_count": 68,
   "id": "bcd9bcde",
   "metadata": {},
   "outputs": [
    {
     "name": "stdout",
     "output_type": "stream",
     "text": [
      "2018-04-02 True\n",
      "2018-02-29 False\n",
      "2018-19-02 False\n"
     ]
    }
   ],
   "source": [
    "# Содержит функцию, которая проверяет поток дат на корректность в формате  YYYY-MM-DD. Т. е. для каждой даты возвращает True (дата корректна) или False (некорректная дата).\n",
    "from datetime import datetime\n",
    "stream = ['2018-04-02', '2018-02-29', '2018-19-02']\n",
    "\n",
    "\n",
    "def check_date(date):  # Проверяет формат даты и реальность даты и возвращает True или False\n",
    "    \"\"\" Проверяет формат даты и реальность даты и возвращает True или False\"\"\"\n",
    "    try:\n",
    "        datetime.strptime(date, '%Y-%m-%d')\n",
    "        return True\n",
    "    except:\n",
    "        return False\n",
    "\n",
    "\n",
    "for i in stream:\n",
    "    print(i, check_date(i))"
   ]
  },
  {
   "cell_type": "markdown",
   "id": "99622e2f",
   "metadata": {},
   "source": [
    "###### 3. Задание 3<a id='task3'></a>"
   ]
  },
  {
   "cell_type": "code",
   "execution_count": 72,
   "id": "5d40763c",
   "metadata": {},
   "outputs": [
    {
     "name": "stdout",
     "output_type": "stream",
     "text": [
      "Введите начальную дату в формате YYYY-MM-DD: 1980-05-10\n",
      "Введите конечную дату в формате YYYY-MM-DD: 1980-05-18\n"
     ]
    },
    {
     "data": {
      "text/plain": [
       "['1980-05-10',\n",
       " '1980-05-11',\n",
       " '1980-05-12',\n",
       " '1980-05-13',\n",
       " '1980-05-14',\n",
       " '1980-05-15',\n",
       " '1980-05-16',\n",
       " '1980-05-17',\n",
       " '1980-05-18']"
      ]
     },
     "execution_count": 72,
     "metadata": {},
     "output_type": "execute_result"
    }
   ],
   "source": [
    "# возвращает список дат за период от start_date до end_date.\n",
    "# Даты должны вводиться в формате YYYY-MM-DD.\n",
    "# В случае неверного формата или при start_date > end_date должен возвращаться пустой список\n",
    "\n",
    "from datetime import datetime\n",
    "from datetime import timedelta\n",
    "\n",
    "\n",
    "def date_range():  # возвращает список дат за период от start_date до end_date\n",
    "    \"\"\" возвращает список дат за период от start_date до end_date. Даты должны вводиться в формате YYYY-MM-DD. \n",
    "    В случае неверного формата или при start_date > end_date должен возвращаться пустой список\"\"\"\n",
    "    date_r = []\n",
    "    start_date = input('Введите начальную дату в формате YYYY-MM-DD: ')\n",
    "    end_date = input('Введите конечную дату в формате YYYY-MM-DD: ')\n",
    "    try:\n",
    "        start_date_datetime = datetime.strptime(start_date, '%Y-%m-%d')\n",
    "        end_date_datetime = datetime.strptime(end_date, '%Y-%m-%d')\n",
    "        start_date_datetime <= end_date_datetime\n",
    "        for n in range((end_date_datetime - start_date_datetime).days + 1):\n",
    "            date_r.append(\n",
    "                (start_date_datetime + timedelta(n)).strftime('%Y-%m-%d'))\n",
    "        return date_r\n",
    "    except:\n",
    "        return date_r\n",
    "\n",
    "\n",
    "date_range()"
   ]
  },
  {
   "cell_type": "code",
   "execution_count": null,
   "id": "944aeb52",
   "metadata": {},
   "outputs": [],
   "source": []
  }
 ],
 "metadata": {
  "kernelspec": {
   "display_name": "Python 3",
   "language": "python",
   "name": "python3"
  },
  "language_info": {
   "codemirror_mode": {
    "name": "ipython",
    "version": 3
   },
   "file_extension": ".py",
   "mimetype": "text/x-python",
   "name": "python",
   "nbconvert_exporter": "python",
   "pygments_lexer": "ipython3",
   "version": "3.8.8"
  },
  "varInspector": {
   "cols": {
    "lenName": 16,
    "lenType": 16,
    "lenVar": 40
   },
   "kernels_config": {
    "python": {
     "delete_cmd_postfix": "",
     "delete_cmd_prefix": "del ",
     "library": "var_list.py",
     "varRefreshCmd": "print(var_dic_list())"
    },
    "r": {
     "delete_cmd_postfix": ") ",
     "delete_cmd_prefix": "rm(",
     "library": "var_list.r",
     "varRefreshCmd": "cat(var_dic_list()) "
    }
   },
   "types_to_exclude": [
    "module",
    "function",
    "builtin_function_or_method",
    "instance",
    "_Feature"
   ],
   "window_display": false
  }
 },
 "nbformat": 4,
 "nbformat_minor": 5
}
