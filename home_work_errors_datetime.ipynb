{
 "cells": [
  {
   "cell_type": "markdown",
   "id": "b55da059",
   "metadata": {},
   "source": [
    "### Домашнее задание к лекции «Исключения и обработка ошибок»"
   ]
  },
  {
   "cell_type": "markdown",
   "id": "18e1fc4c",
   "metadata": {},
   "source": [
    "### Оглавление\n",
    "  \n",
    "1. [Задание 1](#task1)   \n",
    "2. [Задание 2](#task2)  \n",
    "3. [Задание 3](#task3)  \n",
    "4. [Задание 4](#task4)  \n",
    "5. [Задание 5](#task5) \n",
    "6. [Задание 6](#task6) "
   ]
  },
  {
   "cell_type": "markdown",
   "id": "113429a1",
   "metadata": {},
   "source": [
    "###### 1. Задание 1 <a id='task1'></a>"
   ]
  },
  {
   "cell_type": "code",
   "execution_count": 53,
   "id": "2639fbc0",
   "metadata": {},
   "outputs": [
    {
     "name": "stdout",
     "output_type": "stream",
     "text": [
      "The Moscow Times  -  2002-10-02 00:00:00\n",
      "The Guardian  -  2013-10-11 00:00:00\n",
      "Daily News  -  1977-08-18 00:00:00\n"
     ]
    }
   ],
   "source": [
    "# Для каждой газеты, формат указанной даты  переводит в объект datetime.\n",
    "from datetime import datetime\n",
    "date_string = ['The Moscow Times - Wednesday, October 2, 2002',\n",
    "               'The Guardian - Friday, 11.10.13', 'Daily News - Thursday, 18 August 1977']\n",
    "date_form = ['%A, %B %d, %Y', '%A, %d.%m.%y', '%A, %d %B %Y']\n",
    "\n",
    "\n",
    "def return_date(date):    # формат указанной даты  переводит в объект datetime\n",
    "    for format_n in date_form:\n",
    "        try:\n",
    "            return datetime.strptime(date, format_n)\n",
    "        except:\n",
    "            pass\n",
    "    raise ValueError('Отсутствующий формат даты', date)\n",
    "\n",
    "\n",
    "for i in date_string:\n",
    "    print(i.split(' - ')[0], ' - ', return_date(i.split(' - ')[1]))"
   ]
  },
  {
   "cell_type": "markdown",
   "id": "c02ca177",
   "metadata": {},
   "source": [
    "###### 2. Задание 2 <a id='task2'></a>"
   ]
  },
  {
   "cell_type": "code",
   "execution_count": null,
   "id": "80826cbd",
   "metadata": {},
   "outputs": [],
   "source": []
  },
  {
   "cell_type": "code",
   "execution_count": null,
   "id": "470e2a1b",
   "metadata": {},
   "outputs": [],
   "source": []
  }
 ],
 "metadata": {
  "kernelspec": {
   "display_name": "Python 3",
   "language": "python",
   "name": "python3"
  },
  "language_info": {
   "codemirror_mode": {
    "name": "ipython",
    "version": 3
   },
   "file_extension": ".py",
   "mimetype": "text/x-python",
   "name": "python",
   "nbconvert_exporter": "python",
   "pygments_lexer": "ipython3",
   "version": "3.8.8"
  },
  "varInspector": {
   "cols": {
    "lenName": 16,
    "lenType": 16,
    "lenVar": 40
   },
   "kernels_config": {
    "python": {
     "delete_cmd_postfix": "",
     "delete_cmd_prefix": "del ",
     "library": "var_list.py",
     "varRefreshCmd": "print(var_dic_list())"
    },
    "r": {
     "delete_cmd_postfix": ") ",
     "delete_cmd_prefix": "rm(",
     "library": "var_list.r",
     "varRefreshCmd": "cat(var_dic_list()) "
    }
   },
   "types_to_exclude": [
    "module",
    "function",
    "builtin_function_or_method",
    "instance",
    "_Feature"
   ],
   "window_display": false
  }
 },
 "nbformat": 4,
 "nbformat_minor": 5
}
