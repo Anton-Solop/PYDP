{
 "cells": [
  {
   "cell_type": "markdown",
   "id": "addb28a0",
   "metadata": {},
   "source": [
    "## Оглавление\n",
    "  \n",
    "1. [print](#task1)    \n",
    "2. [def](#task2)  \n",
    "3. [for](#task3) "
   ]
  },
  {
   "cell_type": "markdown",
   "id": "8f85095c",
   "metadata": {},
   "source": [
    "print\n",
    "<a id='task1'></a>"
   ]
  },
  {
   "cell_type": "code",
   "execution_count": 40,
   "id": "1bdf3459",
   "metadata": {},
   "outputs": [
    {
     "data": {
      "text/plain": [
       "builtin_function_or_method"
      ]
     },
     "execution_count": 40,
     "metadata": {},
     "output_type": "execute_result"
    }
   ],
   "source": [
    " #print(value, ..., sep='', end='\\n', file=sys.stdout, flush=False)\n",
    "    \n",
    "type(print)\n",
    "#builtin_function_or_method  -- Это значит, что это ранее определенная или встроенная функция Python."
   ]
  },
  {
   "cell_type": "code",
   "execution_count": null,
   "id": "6ac1293f",
   "metadata": {},
   "outputs": [],
   "source": [
    "str1 = 'туториал по'\n",
    "str2 = 'функции print()'\n",
    "print(str1, end=' ')\n",
    "print(str2)\n",
    "# по умолчанию end=\\n"
   ]
  },
  {
   "cell_type": "code",
   "execution_count": 2,
   "id": "38fd5839",
   "metadata": {},
   "outputs": [
    {
     "name": "stdout",
     "output_type": "stream",
     "text": [
      "туториал пофункции print()\n"
     ]
    }
   ],
   "source": [
    "str1 = 'туториал по'\n",
    "str2 = 'функции print()'\n",
    "print(str1, end='')\n",
    "print(str2)"
   ]
  },
  {
   "cell_type": "code",
   "execution_count": null,
   "id": "dac9cc7f",
   "metadata": {},
   "outputs": [],
   "source": [
    "print('туториал', 'по', 'функции', 'print()', sep=',+')"
   ]
  },
  {
   "cell_type": "code",
   "execution_count": null,
   "id": "27e94940",
   "metadata": {},
   "outputs": [],
   "source": [
    "print('туториал', 'по', 'функции', 'print()', sep='\\n\\n')"
   ]
  },
  {
   "cell_type": "code",
   "execution_count": 1,
   "id": "8b35953a",
   "metadata": {},
   "outputs": [
    {
     "name": "stdout",
     "output_type": "stream",
     "text": [
      "туториал,по,функции,print()\n"
     ]
    }
   ],
   "source": [
    "print('туториал', 'по', 'функции', 'print()', sep=',')"
   ]
  },
  {
   "cell_type": "code",
   "execution_count": 42,
   "id": "48cc6907",
   "metadata": {},
   "outputs": [
    {
     "name": "stdout",
     "output_type": "stream",
     "text": [
      "туториал\n",
      "по\n",
      "функции\n",
      "print()\n"
     ]
    }
   ],
   "source": [
    "print('туториал', 'по', 'функции', 'print()', sep='\\n') "
   ]
  },
  {
   "cell_type": "code",
   "execution_count": null,
   "id": "2e5807f8",
   "metadata": {},
   "outputs": [],
   "source": [
    "print(\"Hello, World!\")\n",
    "print()\n",
    "print(\"Hello, World!\")"
   ]
  },
  {
   "cell_type": "code",
   "execution_count": null,
   "id": "7f94c560",
   "metadata": {},
   "outputs": [],
   "source": [
    "print(\"Hello, World!\", end=\\n\\n)\n",
    "print(\"Hello, World!\")\n",
    "# НЕ  рабочий вариант))))"
   ]
  },
  {
   "cell_type": "code",
   "execution_count": null,
   "id": "6a1986f7",
   "metadata": {},
   "outputs": [],
   "source": [
    "int_list = [1,2,3,4,5,6]\n",
    "print(int_list)"
   ]
  },
  {
   "cell_type": "code",
   "execution_count": null,
   "id": "3ffe1ccc",
   "metadata": {},
   "outputs": [],
   "source": [
    "def value(items):\n",
    "    for item in items:\n",
    "        print(item, end=' ')\n",
    "\n",
    "\n",
    "value([1,2,3,4])"
   ]
  },
  {
   "cell_type": "code",
   "execution_count": null,
   "id": "52b49c9c",
   "metadata": {},
   "outputs": [],
   "source": [
    "def value(items):\n",
    "    for item in items:\n",
    "        print(item)\n",
    "\n",
    "\n",
    "value([1,2,3,4])"
   ]
  },
  {
   "cell_type": "code",
   "execution_count": null,
   "id": "777d2611",
   "metadata": {},
   "outputs": [],
   "source": [
    "#file — файлоподобный объект (поток). По умолчанию — это sys.stdout. Здесь можно указать файл, в который нужно записать или добавить данные из функции print.\n",
    "#Таким образом вывод функции можно сохранять в файлы форматов .csv или .txt.\n",
    "\n",
    "\n",
    "\n",
    "file = open('print.txt','a+')\n",
    "\n",
    "\n",
    "def value(items):\n",
    "    for item in items:\n",
    "        print(item, file=file)\n",
    "        print(item)\n",
    "    file.close()  # закройте файл после работы с ним.\n",
    "\n",
    "value([1,2,3,4,5,6,7,8,9,10])"
   ]
  },
  {
   "cell_type": "code",
   "execution_count": null,
   "id": "b7c397dd",
   "metadata": {},
   "outputs": [],
   "source": [
    "file = open('print.txt', 'a+')\n",
    "\n",
    "\n",
    "def value(items):\n",
    "    for item in items:\n",
    "        print(item, end=' ', file=file)\n",
    "        print(item, end=' ')\n",
    "    file.close()  # закройте файл после работы с ним.\n",
    "\n",
    "\n",
    "value([1, 2, 3, 4, 5, 6, 7, 8, 9, 10])"
   ]
  },
  {
   "cell_type": "code",
   "execution_count": null,
   "id": "5714253d",
   "metadata": {},
   "outputs": [],
   "source": [
    "# flush — определяет, нужно ли принудительно очищать поток. По умолчанию значение равно False.\n",
    "\n",
    "import time\n",
    "\n",
    "print('Пожалуйста, введите ваш электронный адрес : ', end=' ')\n",
    "# print('Пожалуйста, введите ваш электронный адрес : ', end=' ', flush=True)\n",
    "# запустите код выше, чтобы увидеть разницу.\n",
    "time.sleep(5)"
   ]
  },
  {
   "cell_type": "code",
   "execution_count": null,
   "id": "119fb997",
   "metadata": {},
   "outputs": [],
   "source": [
    "import time\n",
    "\n",
    "#print('Пожалуйста, введите ваш электронный адрес : ', end=' ')\n",
    "print('Пожалуйста, введите ваш электронный адрес : ', end=' ', flush=True)\n",
    "# запустите код выше, чтобы увидеть разницу.\n",
    "time.sleep(5)\n",
    "\n",
    "# Если запустить написанный выше код, вы заметите, что строка с запросом на ввод не появится до тех пор, пока таймер не закончится, а программа не закроется. Но если добавить аргумент flush=True, то строка отобразится сразу, но нужно будет подождать 5 секунд, чтобы программа закрылась.\n",
    "\n",
    "# Каким-то образом Jupyter Notebook или Jupyter Lab иначе разбираются с этой особенностью и все равно показывают текст перед 5-секундным таймером, поэтому если хочется проверить эту особенность print, то функцию необходимо запускать в командной строке, а не в Jupyter."
   ]
  },
  {
   "cell_type": "code",
   "execution_count": null,
   "id": "5a78675f",
   "metadata": {},
   "outputs": [],
   "source": [
    "tutorial_topic = input()\n",
    "print(\"Тема сегодняшнего урока: \", end='')\n",
    "print(tutorial_topic)"
   ]
  },
  {
   "cell_type": "code",
   "execution_count": null,
   "id": "cc3c9375",
   "metadata": {},
   "outputs": [],
   "source": [
    "a = 2\n",
    "b = \"PythonRU\"\n",
    "print(a, \"— целое число, а\", b, \"— строка.\")"
   ]
  },
  {
   "cell_type": "code",
   "execution_count": null,
   "id": "34a0cb1c",
   "metadata": {},
   "outputs": [],
   "source": [
    "# Можно использовать метод format, передавая ему любые значения переменных для вывода. При их передаче нужно указывать номера индексов (в том порядке, в котором они размещаются в аргументе) в строке. В таком случае функция print будет выступать шаблоном.\n",
    "# Также важно запомнить, что номера индексов указываются в фигурных скобках {}, которые выступают заполнителями.\n",
    "a = 2\n",
    "b = \"PythonRU\"\n",
    "print(\"{0} — целое число, а {1} — строка.\".format(a, b))"
   ]
  },
  {
   "cell_type": "code",
   "execution_count": null,
   "id": "f15933ae",
   "metadata": {},
   "outputs": [],
   "source": [
    "# Если поставить одинаковый номер индекса в обоих местах, то при выводе на этих позициях будут одни и те же значения.\n",
    "a = 2\n",
    "b = \"PythonRU\"\n",
    "print(\"{1} — целое число, а {1} — строка.\".format(a, b))"
   ]
  },
  {
   "cell_type": "code",
   "execution_count": null,
   "id": "2e7c8d39",
   "metadata": {},
   "outputs": [],
   "source": [
    "# Вместо аргумента format можно использовать знак процента (%) для вывода значений переменных.\n",
    "# Этот способ тоже работает по принципу заполнителей. Но здесь не нужно указывать номера индексов, а только обозначить тип данных, которые получит функция.\n",
    "\n",
    "#      %d — это заполнитель для числовых или десятичных значений.\n",
    "#      %s — заполнитель для строк.\n",
    "a = 2\n",
    "b = \"PythonRU\"\n",
    "print(\"%d — целое число, а %s — строка.\" % (a, b))"
   ]
  },
  {
   "cell_type": "code",
   "execution_count": null,
   "id": "c12fb1a9",
   "metadata": {},
   "outputs": [],
   "source": [
    "a = 2\n",
    "b = \"PythonRU\"\n",
    "print(\"%s — целое число, а %s — строка.\" % (a, b))\n",
    "\n",
    "#  функция print неявно выполняет typecasting и конвертирует целое число в строку. Но в обратном порядке это работать не будет.\n",
    "#  Функция не сможет конвертировать строку в целое число, а вместо этого выведется TypeError."
   ]
  },
  {
   "cell_type": "markdown",
   "id": "d4dd01ea",
   "metadata": {},
   "source": [
    " Именные функции, инструкция def\n",
    "<a id='task2'></a>"
   ]
  },
  {
   "cell_type": "code",
   "execution_count": null,
   "id": "49f8e366",
   "metadata": {},
   "outputs": [],
   "source": [
    "# Именные функции, инструкция def\n",
    "\n",
    "def add(x, y):\n",
    "    return x + y\n",
    "\n",
    "\n",
    "add(1, 10)"
   ]
  },
  {
   "cell_type": "code",
   "execution_count": null,
   "id": "f4b72e41",
   "metadata": {},
   "outputs": [],
   "source": [
    "def add(x, y):\n",
    "    return x + y\n",
    "\n",
    "\n",
    "add('abc', 'def')"
   ]
  },
  {
   "cell_type": "code",
   "execution_count": null,
   "id": "2736dc3c",
   "metadata": {},
   "outputs": [],
   "source": [
    "def newfunc(n):\n",
    "\n",
    "\n",
    "... def myfunc(x):\n",
    "... return x + n\n",
    "... return myfunc\n",
    "...\n",
    ">> > new = newfunc(100)  # new - это функция\n",
    ">> > new(200)"
   ]
  },
  {
   "cell_type": "code",
   "execution_count": null,
   "id": "3c856edb",
   "metadata": {},
   "outputs": [],
   "source": [
    "# Функция может и не заканчиваться инструкцией return, при этом функция вернет значение None:\n",
    "\n",
    ">> >\n",
    ">> > def func():\n",
    "... pass\n",
    "...\n",
    ">> > print(func())\n",
    "None"
   ]
  },
  {
   "cell_type": "code",
   "execution_count": 1,
   "id": "0defd11f",
   "metadata": {},
   "outputs": [
    {
     "ename": "TypeError",
     "evalue": "func() missing 1 required positional argument: 'b'",
     "output_type": "error",
     "traceback": [
      "\u001b[1;31m---------------------------------------------------------------------------\u001b[0m",
      "\u001b[1;31mTypeError\u001b[0m                                 Traceback (most recent call last)",
      "\u001b[1;32m<ipython-input-1-e6a06fcaf229>\u001b[0m in \u001b[0;36m<module>\u001b[1;34m\u001b[0m\n\u001b[0;32m      8\u001b[0m \u001b[0mfunc\u001b[0m\u001b[1;33m(\u001b[0m\u001b[0ma\u001b[0m\u001b[1;33m=\u001b[0m\u001b[1;36m1\u001b[0m\u001b[1;33m,\u001b[0m \u001b[0mb\u001b[0m\u001b[1;33m=\u001b[0m\u001b[1;36m3\u001b[0m\u001b[1;33m)\u001b[0m  \u001b[1;31m# a = 1, b = 3, c = 2\u001b[0m\u001b[1;33m\u001b[0m\u001b[1;33m\u001b[0m\u001b[0m\n\u001b[0;32m      9\u001b[0m \u001b[1;36m6\u001b[0m\u001b[1;33m\u001b[0m\u001b[1;33m\u001b[0m\u001b[0m\n\u001b[1;32m---> 10\u001b[1;33m \u001b[0mfunc\u001b[0m\u001b[1;33m(\u001b[0m\u001b[0ma\u001b[0m\u001b[1;33m=\u001b[0m\u001b[1;36m3\u001b[0m\u001b[1;33m,\u001b[0m \u001b[0mc\u001b[0m\u001b[1;33m=\u001b[0m\u001b[1;36m6\u001b[0m\u001b[1;33m)\u001b[0m  \u001b[1;31m# a = 3, c = 6, b не определен\u001b[0m\u001b[1;33m\u001b[0m\u001b[1;33m\u001b[0m\u001b[0m\n\u001b[0m",
      "\u001b[1;31mTypeError\u001b[0m: func() missing 1 required positional argument: 'b'"
     ]
    }
   ],
   "source": [
    ">> > def func(a, b, c=2):  # c - необязательный аргумент\n",
    "... return a + b + c\n",
    "...\n",
    ">> > func(1, 2)  # a = 1, b = 2, c = 2 (по умолчанию)\n",
    "5\n",
    ">> > func(1, 2, 3)  # a = 1, b = 2, c = 3\n",
    "6\n",
    ">> > func(a=1, b=3)  # a = 1, b = 3, c = 2\n",
    "6\n",
    ">> > func(a=3, c=6)  # a = 3, c = 6, b не определен"
   ]
  },
  {
   "cell_type": "code",
   "execution_count": 5,
   "id": "6f703f79",
   "metadata": {},
   "outputs": [
    {
     "ename": "SyntaxError",
     "evalue": "invalid syntax (<ipython-input-5-664265734c1b>, line 3)",
     "output_type": "error",
     "traceback": [
      "\u001b[1;36m  File \u001b[1;32m\"<ipython-input-5-664265734c1b>\"\u001b[1;36m, line \u001b[1;32m3\u001b[0m\n\u001b[1;33m    >>> def func(*args):\u001b[0m\n\u001b[1;37m    ^\u001b[0m\n\u001b[1;31mSyntaxError\u001b[0m\u001b[1;31m:\u001b[0m invalid syntax\n"
     ]
    }
   ],
   "source": [
    "# Функция также может принимать переменное количество позиционных аргументов, тогда перед именем ставится *:\n",
    "\n",
    ">> > def func(*args):\n",
    "... return args\n",
    "...\n",
    ">> > func(1, 2, 3, 'abc')\n",
    "(1, 2, 3, 'abc')\n",
    ">> > func()\n",
    "()\n",
    ">> > func(1)\n",
    "(1,)"
   ]
  },
  {
   "cell_type": "code",
   "execution_count": 6,
   "id": "56cea109",
   "metadata": {},
   "outputs": [
    {
     "data": {
      "text/plain": [
       "(1, 2, 3, 'abc')"
      ]
     },
     "execution_count": 6,
     "metadata": {},
     "output_type": "execute_result"
    }
   ],
   "source": [
    ">> > def func(*args):\n",
    "... return args\n",
    "...\n",
    ">> > func(1, 2, 3, 'abc')"
   ]
  },
  {
   "cell_type": "code",
   "execution_count": 17,
   "id": "4b7383a8",
   "metadata": {},
   "outputs": [
    {
     "data": {
      "text/plain": [
       "()"
      ]
     },
     "execution_count": 17,
     "metadata": {},
     "output_type": "execute_result"
    }
   ],
   "source": [
    ">> > def func(*args):\n",
    "... return args\n",
    "...\n",
    ">> > func()"
   ]
  },
  {
   "cell_type": "code",
   "execution_count": 19,
   "id": "110750a2",
   "metadata": {},
   "outputs": [
    {
     "data": {
      "text/plain": [
       "(1,)"
      ]
     },
     "execution_count": 19,
     "metadata": {},
     "output_type": "execute_result"
    }
   ],
   "source": [
    "\n",
    ">>> def func(*args):\n",
    "...     return args\n",
    "...\n",
    "\n",
    ">>> func(1)"
   ]
  },
  {
   "cell_type": "code",
   "execution_count": 20,
   "id": "6f49b028",
   "metadata": {},
   "outputs": [
    {
     "ename": "SyntaxError",
     "evalue": "invalid syntax (<ipython-input-20-0f2eac70448d>, line 3)",
     "output_type": "error",
     "traceback": [
      "\u001b[1;36m  File \u001b[1;32m\"<ipython-input-20-0f2eac70448d>\"\u001b[1;36m, line \u001b[1;32m3\u001b[0m\n\u001b[1;33m    >>>\u001b[0m\n\u001b[1;37m    ^\u001b[0m\n\u001b[1;31mSyntaxError\u001b[0m\u001b[1;31m:\u001b[0m invalid syntax\n"
     ]
    }
   ],
   "source": [
    "# Функция может принимать и произвольное число именованных аргументов, тогда перед именем ставится **:\n",
    "\n",
    ">> >\n",
    ">> > def func(**kwargs):\n",
    "... return kwargs\n",
    "...\n",
    ">> > func(a=1, b=2, c=3)\n",
    "{'a': 1, 'c': 3, 'b': 2}\n",
    ">> > func()\n",
    "{}\n",
    ">> > func(a='python')\n",
    "{'a': 'python'}\n",
    "# В переменной kwargs у нас хранится словарь, с которым мы, опять-таки, можем делать все, что нам заблагорассудится."
   ]
  },
  {
   "cell_type": "code",
   "execution_count": 22,
   "id": "913fac0c",
   "metadata": {},
   "outputs": [
    {
     "data": {
      "text/plain": [
       "{'a': 1, 'b': 2, 'c': 3}"
      ]
     },
     "execution_count": 22,
     "metadata": {},
     "output_type": "execute_result"
    }
   ],
   "source": [
    ">>> def func(**kwargs):\n",
    "...     return kwargs\n",
    "...\n",
    ">>> func(a=1, b=2, c=3)"
   ]
  },
  {
   "cell_type": "code",
   "execution_count": 24,
   "id": "7f3b8b9a",
   "metadata": {},
   "outputs": [
    {
     "data": {
      "text/plain": [
       "{}"
      ]
     },
     "execution_count": 24,
     "metadata": {},
     "output_type": "execute_result"
    }
   ],
   "source": [
    ">>> def func(**kwargs):\n",
    "...     return kwargs\n",
    "...\n",
    ">>> func()"
   ]
  },
  {
   "cell_type": "code",
   "execution_count": 26,
   "id": "a51d2fe4",
   "metadata": {},
   "outputs": [
    {
     "data": {
      "text/plain": [
       "{'a': 'python'}"
      ]
     },
     "execution_count": 26,
     "metadata": {},
     "output_type": "execute_result"
    }
   ],
   "source": [
    ">>> def func(**kwargs):\n",
    "...     return kwargs\n",
    "...\n",
    ">>> func(a='python')"
   ]
  },
  {
   "cell_type": "code",
   "execution_count": 27,
   "id": "8479e036",
   "metadata": {},
   "outputs": [
    {
     "ename": "SyntaxError",
     "evalue": "invalid syntax (<ipython-input-27-505f2430e8f5>, line 5)",
     "output_type": "error",
     "traceback": [
      "\u001b[1;36m  File \u001b[1;32m\"<ipython-input-27-505f2430e8f5>\"\u001b[1;36m, line \u001b[1;32m5\u001b[0m\n\u001b[1;33m    >>>\u001b[0m\n\u001b[1;37m    ^\u001b[0m\n\u001b[1;31mSyntaxError\u001b[0m\u001b[1;31m:\u001b[0m invalid syntax\n"
     ]
    }
   ],
   "source": [
    "# Анонимные функции могут содержать лишь одно выражение, но и выполняются они быстрее. \n",
    "# Анонимные функции создаются с помощью инструкции lambda. \n",
    "# Кроме этого, их не обязательно присваивать переменной, как делали мы инструкцией def func():\n",
    "\n",
    ">>>\n",
    ">>> func = lambda x, y: x + y\n",
    ">>> func(1, 2)\n",
    "3\n",
    ">>> func('a', 'b')\n",
    "'ab'\n",
    ">>> (lambda x, y: x + y)(1, 2)\n",
    "3\n",
    ">>> (lambda x, y: x + y)('a', 'b')\n",
    "'ab'"
   ]
  },
  {
   "cell_type": "code",
   "execution_count": 29,
   "id": "b75e5549",
   "metadata": {},
   "outputs": [
    {
     "data": {
      "text/plain": [
       "3"
      ]
     },
     "execution_count": 29,
     "metadata": {},
     "output_type": "execute_result"
    }
   ],
   "source": [
    ">>> func = lambda x, y: x + y\n",
    ">>> func(1, 2)"
   ]
  },
  {
   "cell_type": "code",
   "execution_count": 31,
   "id": "9c4e78df",
   "metadata": {},
   "outputs": [
    {
     "data": {
      "text/plain": [
       "'ab'"
      ]
     },
     "execution_count": 31,
     "metadata": {},
     "output_type": "execute_result"
    }
   ],
   "source": [
    ">>> func = lambda x, y: x + y\n",
    ">>> func('a', 'b')"
   ]
  },
  {
   "cell_type": "code",
   "execution_count": 33,
   "id": "944b679c",
   "metadata": {},
   "outputs": [
    {
     "data": {
      "text/plain": [
       "3"
      ]
     },
     "execution_count": 33,
     "metadata": {},
     "output_type": "execute_result"
    }
   ],
   "source": [
    ">> > (lambda x, y: x + y)(1, 2)"
   ]
  },
  {
   "cell_type": "code",
   "execution_count": 1,
   "id": "9bf2bcae",
   "metadata": {},
   "outputs": [
    {
     "data": {
      "text/plain": [
       "'ab'"
      ]
     },
     "execution_count": 1,
     "metadata": {},
     "output_type": "execute_result"
    }
   ],
   "source": [
    ">> > (lambda x, y: x + y)('a', 'b')"
   ]
  },
  {
   "cell_type": "code",
   "execution_count": 1,
   "id": "5ed17078",
   "metadata": {},
   "outputs": [
    {
     "data": {
      "text/plain": [
       "(1, 2, 3, 4)"
      ]
     },
     "execution_count": 1,
     "metadata": {},
     "output_type": "execute_result"
    }
   ],
   "source": [
    ">> > func = lambda *args: args\n",
    ">> > func(1, 2, 3, 4)"
   ]
  },
  {
   "cell_type": "markdown",
   "id": "5daed404",
   "metadata": {},
   "source": [
    "Синтаксис и возможности цикла for Python\n",
    "<a id='task3'></a>"
   ]
  },
  {
   "cell_type": "code",
   "execution_count": 3,
   "id": "8969ced9",
   "metadata": {},
   "outputs": [
    {
     "ename": "SyntaxError",
     "evalue": "invalid syntax (<ipython-input-3-4e423b2af90c>, line 2)",
     "output_type": "error",
     "traceback": [
      "\u001b[1;36m  File \u001b[1;32m\"<ipython-input-3-4e423b2af90c>\"\u001b[1;36m, line \u001b[1;32m2\u001b[0m\n\u001b[1;33m    for < переменная > in < последовательность >:\u001b[0m\n\u001b[1;37m        ^\u001b[0m\n\u001b[1;31mSyntaxError\u001b[0m\u001b[1;31m:\u001b[0m invalid syntax\n"
     ]
    }
   ],
   "source": [
    "# Синтаксис и возможности цикла for Python\n",
    "for < переменная > in < последовательность >:\n",
    "    <действие >\n",
    "else:\n",
    "    <действие >\n",
    "\n",
    ">> > languages = [\"C\", \"C++\", \"Perl\", \"Python\"]\n",
    ">> > for x in languages:\n",
    "... print(x, end=' ')\n",
    "...\n",
    "C\n",
    "C++\n",
    "Perl\n",
    "Python\n",
    ">> >"
   ]
  },
  {
   "cell_type": "code",
   "execution_count": 9,
   "id": "9a92af8c",
   "metadata": {},
   "outputs": [
    {
     "name": "stdout",
     "output_type": "stream",
     "text": [
      "C, C++, Perl, Python, "
     ]
    }
   ],
   "source": [
    "languages = [\"C\", \"C++\", \"Perl\", \"Python\"]\n",
    "for x in languages:\n",
    "    print(x, end=', ')"
   ]
  },
  {
   "cell_type": "code",
   "execution_count": 11,
   "id": "5ee1af16",
   "metadata": {},
   "outputs": [
    {
     "name": "stdout",
     "output_type": "stream",
     "text": [
      "Отлично, вкусные отбивные\n",
      "Я не ем пельмени!\n",
      "Ужин окончен.\n"
     ]
    }
   ],
   "source": [
    "# break\n",
    "edibles = [\"отбивные\", \"пельмени\", \"яйца\", \"орехи\"]\n",
    "\n",
    "for food in edibles:\n",
    "    if food == \"пельмени\":\n",
    "        print(\"Я не ем пельмени!\")\n",
    "        break\n",
    "    print(\"Отлично, вкусные \" + food)\n",
    "else:\n",
    "    print(\"Хорошо, что не было пельменей!\")\n",
    "print(\"Ужин окончен.\")\n"
   ]
  },
  {
   "cell_type": "code",
   "execution_count": 13,
   "id": "b7eaef4b",
   "metadata": {},
   "outputs": [
    {
     "name": "stdout",
     "output_type": "stream",
     "text": [
      "Отлично, вкусные отбивные\n",
      "Отлично, вкусные яйца\n",
      "Отлично, вкусные орехи\n",
      "Хорошо, что не было пельменей!\n",
      "Ужин окончен.\n"
     ]
    }
   ],
   "source": [
    "# break\n",
    "edibles = [\"отбивные\", \"яйца\", \"орехи\"]\n",
    "\n",
    "for food in edibles:\n",
    "    if food == \"пельмени\":\n",
    "        print(\"Я не ем пельмени!\")\n",
    "        break\n",
    "    print(\"Отлично, вкусные \" + food)\n",
    "else:\n",
    "    print(\"Хорошо, что не было пельменей!\")\n",
    "print(\"Ужин окончен.\")"
   ]
  },
  {
   "cell_type": "code",
   "execution_count": 15,
   "id": "371945cd",
   "metadata": {},
   "outputs": [
    {
     "name": "stdout",
     "output_type": "stream",
     "text": [
      "Отлично, вкусные отбивные\n",
      "Я не ем пельмени!\n",
      "Отлично, вкусные яйца\n",
      "Отлично, вкусные орехи\n",
      "Ненавижу пельмени!\n",
      "Ужин окончен.\n"
     ]
    }
   ],
   "source": [
    "# continue\n",
    "edibles = [\"отбивные\", \"пельмени\", \"яйца\", \"орехи\"]\n",
    "\n",
    "for food in edibles:\n",
    "    if food == \"пельмени\":\n",
    "        print(\"Я не ем пельмени!\")\n",
    "        continue\n",
    "    print(\"Отлично, вкусные \" + food)\n",
    "else:\n",
    "    print(\"Ненавижу пельмени!\")\n",
    "print(\"Ужин окончен.\")\n"
   ]
  },
  {
   "cell_type": "code",
   "execution_count": 20,
   "id": "443d5fd9",
   "metadata": {
    "scrolled": true
   },
   "outputs": [
    {
     "name": "stdout",
     "output_type": "stream",
     "text": [
      "Отлично, вкусные отбивные\n",
      "Я не ем пельмени!\n",
      "Отлично, вкусные пельмени\n",
      "Отлично, вкусные яйца\n",
      "Отлично, вкусные орехи\n",
      "Ненавижу пельмени!\n",
      "Ужин окончен.\n"
     ]
    }
   ],
   "source": [
    "# continue\n",
    "edibles = [\"отбивные\", \"пельмени\", \"яйца\", \"орехи\"]\n",
    "\n",
    "for food in edibles:\n",
    "    if food == \"пельмени\":\n",
    "        print(\"Я не ем пельмени!\")\n",
    "    print(\"Отлично, вкусные \" + food)\n",
    "else:\n",
    "    print(\"Ненавижу пельмени!\")\n",
    "print(\"Ужин окончен.\")"
   ]
  },
  {
   "cell_type": "code",
   "execution_count": 22,
   "id": "d2fbf1d3",
   "metadata": {},
   "outputs": [
    {
     "name": "stdout",
     "output_type": "stream",
     "text": [
      "0 0\n",
      "1 1\n",
      "2 1\n",
      "3 2\n",
      "4 3\n",
      "5 5\n",
      "6 8\n",
      "7 13\n",
      "8 21\n"
     ]
    }
   ],
   "source": [
    "# range len\n",
    "fibonacci = [0,1,1,2,3,5,8,13,21]\n",
    "\n",
    "for i in range(len(fibonacci)):\n",
    "    print(i,fibonacci[i])\n",
    "# Примечание. Если вы примените len() к list или tuple, получите соответствующее количество элементов этой последовательности.\n",
    "    \n"
   ]
  },
  {
   "cell_type": "code",
   "execution_count": 26,
   "id": "90bb77f0",
   "metadata": {},
   "outputs": [
    {
     "name": "stdout",
     "output_type": "stream",
     "text": [
      "['красный', 'черный', 'белый']\n"
     ]
    }
   ],
   "source": [
    "# Если вы перебираете список, лучше избегать изменения списка в теле цикла.\n",
    "colours = [\"красный\"]\n",
    "\n",
    "for i in colours:\n",
    "    if i == \"красный\":\n",
    "        colours += [\"черный\"]\n",
    "    if i == \"черный\":\n",
    "        colours += [\"белый\"]\n",
    "print(colours)\n"
   ]
  },
  {
   "cell_type": "code",
   "execution_count": 28,
   "id": "f502ac44",
   "metadata": {},
   "outputs": [
    {
     "name": "stdout",
     "output_type": "stream",
     "text": [
      "['красный', 'черный']\n"
     ]
    }
   ],
   "source": [
    "colours = [\"красный\"]\n",
    "\n",
    "for i in colours[:]:\n",
    "    if i == \"красный\":\n",
    "        colours += [\"черный\"]\n",
    "    if i == \"черный\":\n",
    "        colours += [\"белый\"]\n",
    "print(colours)\n",
    "# Мы изменили список colours, но данное изменение не повлияло на цикл. \n",
    "# Элементы, которые должны быть итерированы, остаются неизменными во выполнения цикла.\n"
   ]
  },
  {
   "cell_type": "code",
   "execution_count": 31,
   "id": "afbf282c",
   "metadata": {},
   "outputs": [
    {
     "ename": "NameError",
     "evalue": "name 'some_list' is not defined",
     "output_type": "error",
     "traceback": [
      "\u001b[1;31m---------------------------------------------------------------------------\u001b[0m",
      "\u001b[1;31mNameError\u001b[0m                                 Traceback (most recent call last)",
      "\u001b[1;32m<ipython-input-31-2e096f4a2f23>\u001b[0m in \u001b[0;36m<module>\u001b[1;34m\u001b[0m\n\u001b[1;32m----> 1\u001b[1;33m \u001b[1;32mfor\u001b[0m \u001b[0mcounter\u001b[0m\u001b[1;33m,\u001b[0m \u001b[0mvalue\u001b[0m \u001b[1;32min\u001b[0m \u001b[0menumerate\u001b[0m\u001b[1;33m(\u001b[0m\u001b[0msome_list\u001b[0m\u001b[1;33m)\u001b[0m\u001b[1;33m:\u001b[0m\u001b[1;33m\u001b[0m\u001b[1;33m\u001b[0m\u001b[0m\n\u001b[0m\u001b[0;32m      2\u001b[0m     \u001b[0mprint\u001b[0m\u001b[1;33m(\u001b[0m\u001b[0mcounter\u001b[0m\u001b[1;33m,\u001b[0m \u001b[0mvalue\u001b[0m\u001b[1;33m)\u001b[0m\u001b[1;33m\u001b[0m\u001b[1;33m\u001b[0m\u001b[0m\n",
      "\u001b[1;31mNameError\u001b[0m: name 'some_list' is not defined"
     ]
    }
   ],
   "source": [
    "# enumerate -- позволяет нам автоматически считать итерации цикла. \n",
    "for counter, value in enumerate(some_list):\n",
    "    print(counter, value)"
   ]
  },
  {
   "cell_type": "code",
   "execution_count": 38,
   "id": "e66282b6",
   "metadata": {},
   "outputs": [
    {
     "name": "stdout",
     "output_type": "stream",
     "text": [
      "яблоко 7\n",
      "банан 8\n",
      "вишня 9\n",
      "персик 10\n"
     ]
    }
   ],
   "source": [
    "my_list = ['яблоко', 'банан', 'вишня', 'персик']\n",
    "\n",
    "for value, c in enumerate(my_list, 7):\n",
    "    print(c, value)\n",
    "# Функция enumerate также принимает необязательный аргумент (значение начала отсчета, по умолчанию 0), который делает ее еще более полезной."
   ]
  }
 ],
 "metadata": {
  "kernelspec": {
   "display_name": "Python 3",
   "language": "python",
   "name": "python3"
  },
  "language_info": {
   "codemirror_mode": {
    "name": "ipython",
    "version": 3
   },
   "file_extension": ".py",
   "mimetype": "text/x-python",
   "name": "python",
   "nbconvert_exporter": "python",
   "pygments_lexer": "ipython3",
   "version": "3.8.8"
  },
  "varInspector": {
   "cols": {
    "lenName": 16,
    "lenType": 16,
    "lenVar": 40
   },
   "kernels_config": {
    "python": {
     "delete_cmd_postfix": "",
     "delete_cmd_prefix": "del ",
     "library": "var_list.py",
     "varRefreshCmd": "print(var_dic_list())"
    },
    "r": {
     "delete_cmd_postfix": ") ",
     "delete_cmd_prefix": "rm(",
     "library": "var_list.r",
     "varRefreshCmd": "cat(var_dic_list()) "
    }
   },
   "position": {
    "height": "144.667px",
    "left": "839px",
    "right": "20px",
    "top": "129px",
    "width": "350px"
   },
   "types_to_exclude": [
    "module",
    "function",
    "builtin_function_or_method",
    "instance",
    "_Feature"
   ],
   "window_display": false
  }
 },
 "nbformat": 4,
 "nbformat_minor": 5
}
