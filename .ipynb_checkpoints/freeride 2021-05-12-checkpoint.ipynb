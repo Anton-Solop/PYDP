{
 "cells": [
  {
   "cell_type": "code",
   "execution_count": 83,
   "id": "277bcc40",
   "metadata": {},
   "outputs": [],
   "source": [
    "from IPython.core.interactiveshell import InteractiveShell\n",
    "InteractiveShell.ast_node_interactivity = \"all\"\n",
    "# Вывод результатов всех операций"
   ]
  },
  {
   "cell_type": "markdown",
   "id": "965049d3",
   "metadata": {},
   "source": [
    "## Оглавление\n",
    "  \n",
    "1. [Оператор if else](#task1)   \n",
    "2. [ >>>  и  ...](#task2)  \n",
    "3. [Функция int() в Python](#task3)  \n",
    "4. [Методы списков Python](#task4)  \n",
    "5. [len()](#task5) \n",
    "6. [Получение пользовательского ввода в Python с input()](#task6) \n"
   ]
  },
  {
   "cell_type": "markdown",
   "id": "cfec6288",
   "metadata": {},
   "source": [
    "###### 1. Оператор if else <a id='task1'></a>"
   ]
  },
  {
   "cell_type": "code",
   "execution_count": null,
   "id": "bbfaff72",
   "metadata": {},
   "outputs": [],
   "source": [
    "if condition:\n",
    "    <indented statement 1 >\n",
    "    <indented statement 2 >\n",
    "\n",
    "<non-indented statement >\n",
    "\n",
    "# Первая строчка оператора, то есть if condition: — это условие if, а condition — это логическое выражение, которое возвращает True или False.\n",
    "#   В следующей строке блок инструкций.\n",
    "#  Блок представляет собой одну или больше инструкций. Если он идет следом за условием if, такой блок называют блоком if.\n",
    "\n",
    "# Каждая инструкция должна содержать одинаковое количество пробелов в отступе. В противном случае программа вернет синтаксическую ошибку.\n",
    "# В документации Python рекомендуется делать отступ на 4 пробела.\n",
    "\n",
    "# Инструкции следом за условием if, у которых нет отступов, не относятся к блоку if.\n",
    "# Например, <non-intenden statement> — это не часть блока if, поэтому она будет выполнена в любом случае.\n",
    "\n",
    "if condition:\n",
    "    # блок if\n",
    "    statement 1\n",
    "    statement 2\n",
    "    and so on\n",
    "else:\n",
    "    # блок else\n",
    "    statement 3\n",
    "    statement 4\n",
    "    and so on:\n",
    "\n",
    "        # Когда оператор if-else исполняется, условие проверяется, и если оно возвращает True, когда инструкции в блоке if исполняются.\n",
    "        # Но если возвращается False, тогда исполняются инструкции из блока else.\n",
    "\n",
    "        # В инструкциях if-else нужно следить за тем, чтобы условия if и else находились на одном уровне.\n",
    "        # В противном случае программа вернет синтаксическую ошибку."
   ]
  },
  {
   "cell_type": "code",
   "execution_count": 8,
   "id": "a7344f3a",
   "metadata": {},
   "outputs": [
    {
     "name": "stdout",
     "output_type": "stream",
     "text": [
      "Введите текущий лимит: 100\n",
      "Введите кредитный рейтинг: 100\n",
      "У вас низкий кредитный лимит\n"
     ]
    }
   ],
   "source": [
    "# Оператор if внутри другого if-оператора\n",
    "\n",
    "gre_score = int(input(\"Введите текущий лимит: \"))\n",
    "per_grad = int(input(\"Введите кредитный рейтинг: \"))\n",
    "\n",
    "if per_grad > 70:\n",
    "    if gre_score > 150:\n",
    "        print(\"Поздравляем, вам выдан кредит\")\n",
    "    else:\n",
    "        print(\"У вас низкий кредитный лимит\")\n",
    "else:\n",
    "    print(\"Извините, вы не имеете права на кредит\")"
   ]
  },
  {
   "cell_type": "code",
   "execution_count": 18,
   "id": "c72c9f45",
   "metadata": {},
   "outputs": [
    {
     "name": "stdout",
     "output_type": "stream",
     "text": [
      "Введите вашу оценку: 80\n",
      "Здорово! Ваша оценка - B\n"
     ]
    }
   ],
   "source": [
    "# Оператор if-else внутри условия else\n",
    "\n",
    "score = int(input(\"Введите вашу оценку: \"))\n",
    "\n",
    "if score >= 90:\n",
    "    print(\"Отлично! Ваша оценка А\")\n",
    "else:\n",
    "    if score >= 80:\n",
    "        print(\"Здорово! Ваша оценка - B\")\n",
    "    else:\n",
    "        if score >= 70:\n",
    "            print(\"Хорошо! Ваша оценка - C\")\n",
    "        else:\n",
    "            if score >= 60:\n",
    "                print(\"Ваша оценка - D. Стоит повторить материал.\")\n",
    "            else:\n",
    "                print(\"Вы не сдали экзамен\")"
   ]
  },
  {
   "cell_type": "code",
   "execution_count": null,
   "id": "b8f31044",
   "metadata": {},
   "outputs": [],
   "source": [
    "# Оператор if-elif-else\n",
    "\n",
    "# Оператор if-elif-else — это альтернативное представление оператора if-else, которое позволяет проверять несколько условий, вместо того чтобы писать вложенные if-else.\n",
    "# Синтаксис этого оператора следующий:\n",
    "\n",
    "if condition_1:\n",
    "    # блок if\n",
    "    statement\n",
    "    statement\n",
    "    more statement\n",
    "elif condition_2:\n",
    "    # первый блок elif\n",
    "    statement\n",
    "    statement\n",
    "    more statement\n",
    "elif condition_3:\n",
    "    # второй блок elif\n",
    "    statement\n",
    "    statement\n",
    "    more statement\n",
    "\n",
    "...\n",
    "\n",
    "else:\n",
    "statement\n",
    "statement\n",
    "more statement\n",
    "\n",
    "#Когда исполняется инструкция if-elif-else, в первую очередь проверяется condition_1. Если условие истинно, тогда исполняется блок инструкций if. \n",
    "#Следующие условия и инструкции пропускаются, и управление переходит к операторам вне if-elif-else.\n",
    "\n",
    "#Если condition_1 оказывается ложным, тогда управление переходит к следующему условию elif, и проверяется condition_2. \n",
    "#Если оно истинно, тогда исполняются инструкции внутри первого блока elif. Последующие инструкции внутри этого блока пропускаются.\n",
    "\n",
    "#Этот процесс повторяется, пока не находится условие elif, которое оказывается истинным. Если такого нет, тогда исполняется блок else в самом конце."
   ]
  },
  {
   "cell_type": "code",
   "execution_count": 20,
   "id": "e0c6de4e",
   "metadata": {},
   "outputs": [
    {
     "name": "stdout",
     "output_type": "stream",
     "text": [
      "Введите вашу оценку: 90\n",
      "Отлично! Ваша оценка А\n"
     ]
    }
   ],
   "source": [
    "score = int(input(\"Введите вашу оценку: \"))\n",
    "\n",
    "if score >= 90:\n",
    "    print(\"Отлично! Ваша оценка А\")\n",
    "elif score >= 80:\n",
    "    print(\"Здорово! Ваша оценка - B\")\n",
    "elif score >= 70:\n",
    "    print(\"Хорошо! Ваша оценка - C\")\n",
    "elif score >= 60:\n",
    "    print(\"Ваша оценка - D. Стоит повторить материал.\")\n",
    "else:\n",
    "    print(\"Вы не сдали экзамен\")"
   ]
  },
  {
   "cell_type": "markdown",
   "id": "605d29f3",
   "metadata": {},
   "source": [
    "###### 2. >>>  и  ... <a id='task2'></a>"
   ]
  },
  {
   "cell_type": "code",
   "execution_count": null,
   "id": "c8471572",
   "metadata": {},
   "outputs": [],
   "source": [
    ">>>\n",
    ">>> n = 100\n",
    ">>> if n > 10:\n",
    "...\n",
    "После нажатия Enter на строке с условием if командная строка преобразуется с >>> на …. Консоль Python показывает … для многострочных инструкций. \n",
    "Это значит, что начатая инструкция все еще не закончена."
   ]
  },
  {
   "cell_type": "markdown",
   "id": "a8c404e3",
   "metadata": {},
   "source": [
    "###### 3. Функция int() в Python  <a id='task3'></a>"
   ]
  },
  {
   "cell_type": "code",
   "execution_count": null,
   "id": "b844ecc0",
   "metadata": {},
   "outputs": [],
   "source": [
    "# Функция int() в Python возвращает целочисленный объект из указанного ввода. \n",
    "# Возвращаемый объект int всегда будет в базе 10. Синтаксис функции int():\n",
    "int(x=0, base=10)\n",
    "\n",
    "x – число или строка, которые нужно преобразовать в целочисленный объект. Аргумент по умолчанию равен нулю. \n",
    "base – основание числа в x. Может быть 0 (буквальный код) или 2-36.\n",
    "\n",
    "Возвращаемое значение Метод возвращает: \n",
    "    целочисленный объект из данного числа или строки обрабатывает базу по умолчанию как 10; возвращает 0 (без параметров); \n",
    "    обрабатывает строку в заданной базе (0, 2, 8, 10, 16).\n",
    "\n",
    "Если аргумент не указан, функция int() вернет 0.\n",
    "Если указан целочисленный буквальный аргумент, базу указывать не следует. \n",
    "Возвращенный объект int будет десятичным, даже если аргумент имеет шестнадцатеричный, двоичный или любой другой формат. \n",
    "Для аргумента с плавающей запятой десятичная точка будет усечена, и будет возвращено значение типа int. \n",
    "Округление производиться не будет. \n",
    "Если аргумент – строка, он будет преобразован в int. \n",
    "Если строковый аргумент не находится в базе 10, необходимо указать базу. \n",
    "Базовый аргумент может быть предоставлен только для строки, байтов и аргументов байтового массива. \n",
    "Допустимые значения: от 0 и от 2 до 36. Мы также можем использовать int() с настраиваемым объектом, в этом случае будет вызвана функция object __int __(). \n",
    "Если функция __int __() не определена, будет вызвана функция __trunc __(). Если ни один из них не определен, будет выброшено TypeError.\n"
   ]
  },
  {
   "cell_type": "code",
   "execution_count": 79,
   "id": "497d4f2c",
   "metadata": {},
   "outputs": [
    {
     "name": "stdout",
     "output_type": "stream",
     "text": [
      "int(123) is: 123\n",
      "int(123.23) is: 123\n",
      "int('123') is: 123\n"
     ]
    }
   ],
   "source": [
    "# integer \n",
    "print(\"int(123) is:\", int(123)) \n",
    "# float\n",
    "print(\"int(123.23) is:\", int(123.23)) \n",
    "# string \n",
    "print(\"int('123') is:\", int('123'))\n"
   ]
  },
  {
   "cell_type": "code",
   "execution_count": 22,
   "id": "b7255426",
   "metadata": {},
   "outputs": [
    {
     "name": "stdout",
     "output_type": "stream",
     "text": [
      "For 1010, int is: 10\n",
      "For 0b1010, int is: 10\n",
      "For 12, int is: 10\n",
      "For 0o12, int is: 10\n",
      "For A, int is: 10\n",
      "For 0xA, int is: 10\n"
     ]
    }
   ],
   "source": [
    "# binary 0b or 0B \n",
    "print(\"For 1010, int is:\", int('1010', 2)) \n",
    "print(\"For 0b1010, int is:\", int('0b1010', 2)) \n",
    "# octal 0o or 0O \n",
    "print(\"For 12, int is:\", int('12', 8)) \n",
    "print(\"For 0o12, int is:\", int('0o12', 8)) \n",
    "# hexadecimal \n",
    "print(\"For A, int is:\", int('A', 16)) \n",
    "print(\"For 0xA, int is:\", int('0xA', 16))\n"
   ]
  },
  {
   "cell_type": "code",
   "execution_count": null,
   "id": "10629636",
   "metadata": {},
   "outputs": [],
   "source": [
    "# Функция Python int() используется для преобразования строки, байтов, массива байтов и объектов в объект типа int.\n",
    "# Целое число всегда возвращается в базе 10. Мы можем получить то же значение, напрямую вызвав функцию object .__ int __()."
   ]
  },
  {
   "cell_type": "markdown",
   "id": "b1b3329b",
   "metadata": {},
   "source": [
    " ###### 4. Методы списков Python <a id='task4'></a>"
   ]
  },
  {
   "cell_type": "code",
   "execution_count": null,
   "id": "02662ae1",
   "metadata": {},
   "outputs": [],
   "source": [
    "#Добавление элементов\n",
    "#Метод:\n",
    "\n",
    "list.append(item)\n",
    "\n",
    "#Описание:\n",
    "\n",
    "#Добавляет один элемент в конец списка.\n",
    "\n",
    "#Параметры:\n",
    "\n",
    "#item — элемент, который будет добавлен. Это может быть число, строка, словарь, другой список и так далее.\n",
    "\n",
    "#Возвращаемое значение:\n",
    "\n",
    "#Модифицирует исходный список.  Возвращает None."
   ]
  },
  {
   "cell_type": "code",
   "execution_count": 24,
   "id": "edeccdee",
   "metadata": {},
   "outputs": [
    {
     "name": "stdout",
     "output_type": "stream",
     "text": [
      " animals list:  ['cat', 'dog', 'rabbit']\n",
      "Updated animals list:  ['cat', 'dog', 'rabbit', 'guinea pig']\n"
     ]
    }
   ],
   "source": [
    "animals = ['cat', 'dog', 'rabbit']\n",
    "print(' animals list: ', animals)\n",
    "# добавление элемента \n",
    "animals.append('guinea pig')\n",
    "print('Updated animals list: ', animals)"
   ]
  },
  {
   "cell_type": "code",
   "execution_count": 26,
   "id": "5f0d4da5",
   "metadata": {},
   "outputs": [
    {
     "name": "stdout",
     "output_type": "stream",
     "text": [
      "Updated animals list:  ['cat', 'dog', 'rabbit', ['tiger', 'fox']]\n"
     ]
    }
   ],
   "source": [
    "animals = ['cat', 'dog', 'rabbit']\n",
    "wild_animals = ['tiger', 'fox']\n",
    "# добавление списка wild_animals в список animals \n",
    "animals.append(wild_animals)\n",
    "print('Updated animals list: ', animals)"
   ]
  },
  {
   "cell_type": "code",
   "execution_count": 32,
   "id": "77074bda",
   "metadata": {},
   "outputs": [
    {
     "name": "stdout",
     "output_type": "stream",
     "text": [
      "[1, 2, 3, 4]\n",
      "[1, 2, 3, 4]\n"
     ]
    }
   ],
   "source": [
    "\"\"\" Метод:\n",
    "\n",
    "list.extend(iterable)\n",
    "\n",
    "#### Описание:\n",
    "\n",
    "#Добавляет все элементы итерируемого объекта (списка, кортежа, строки и т. д.) в конец списка.\n",
    "\n",
    "#### Параметры:\n",
    "\n",
    "#iterable — итерируемый объект, элементы которого будут добавлены в список.\n",
    "\n",
    "#### Возвращаемое значение:\n",
    "\n",
    "#Модифицирует исходный список.  Возвращает None.\n",
    "\n",
    "#### Примечание:\n",
    "\n",
    "#Вы также можете добавить все элементы итерируемого объекта в список, используя: \"\"\"\n",
    "\n",
    "#1 . Оператор «+»:\n",
    "\n",
    "a = [1, 2]\n",
    "b = [3, 4]\n",
    "a += b  \n",
    "# Output: [1, 2, 3, 4]\n",
    "print(a)\n",
    "#2 . Срезы:\n",
    "\n",
    "a = [1, 2]\n",
    "b = [3, 4]\n",
    "a[len(a):] = b\n",
    "# Output: [1, 2, 3, 4]\n",
    "print(a)"
   ]
  },
  {
   "cell_type": "markdown",
   "id": "a8ba0b66",
   "metadata": {},
   "source": [
    " ###### 5. len() <a id='task5'></a>"
   ]
  },
  {
   "cell_type": "code",
   "execution_count": null,
   "id": "ca50cbbb",
   "metadata": {},
   "outputs": [],
   "source": [
    "Возвращает число элементов в контейнере: последовательности (строка, байты, кортеж, список, диапазон) или коллекции (словарь, множество, неизменяемое множество и пр.).\n",
    "\n",
    "len(List_name)\n",
    "\n",
    "Параметры:\n",
    "List_name\tконтейнер, длина которого будет подсчитана\n"
   ]
  },
  {
   "cell_type": "code",
   "execution_count": 46,
   "id": "146d15bc",
   "metadata": {},
   "outputs": [
    {
     "name": "stdout",
     "output_type": "stream",
     "text": [
      "3\n",
      "2\n"
     ]
    },
    {
     "data": {
      "text/plain": [
       "4"
      ]
     },
     "execution_count": 46,
     "metadata": {},
     "output_type": "execute_result"
    }
   ],
   "source": [
    "len([1, 2, 'a'])  # 3 — количество элементов\n",
    "print(len([1, 2, 'a']))\n",
    "\n",
    "len({'a': 'aa', 'b': 'bb'})  # 2 — количество пар ключ-значение\n",
    "print(len({'a': 'aa', 'b': 'bb'}))\n",
    "\n",
    "len('some')  # 4 — количество символов"
   ]
  },
  {
   "cell_type": "code",
   "execution_count": 62,
   "id": "8267d505",
   "metadata": {},
   "outputs": [
    {
     "name": "stdout",
     "output_type": "stream",
     "text": [
      "The Length of the list is:  5\n"
     ]
    }
   ],
   "source": [
    "# Пользовательские типы данных могут определять метод __len__(), результат которого будет возвращён при вызове len().\n",
    "\n",
    "# Python program to find length of list\n",
    "# using __len__() method\n",
    "\n",
    "# Initializing list to find length\n",
    "\n",
    "\n",
    "# Позволяет определить поведение экземпляра пользовательского типа при запросе его длины len().\n",
    "#          object.__len__(self)               -> int >= 0\n",
    "\n",
    "MyList = ['Red', 'Yellow', 'Green', 'Orange', 'Pink']\n",
    "# Length=MyList.__len__()\n",
    "print(\"The Length of the list is: \", MyList.__len__())"
   ]
  },
  {
   "cell_type": "code",
   "execution_count": 40,
   "id": "b12838ea",
   "metadata": {},
   "outputs": [
    {
     "data": {
      "text/plain": [
       "[3, 7, 4, 2]"
      ]
     },
     "execution_count": 40,
     "metadata": {},
     "output_type": "execute_result"
    }
   ],
   "source": [
    "#Определение списка\n",
    "#Списки пишутся в квадратных скобках []\n",
    "\n",
    "#Пример:\n",
    "\n",
    "# Define a list\n",
    "sample_list = [3, 7, 4, 2]\n",
    "sample_list"
   ]
  },
  {
   "cell_type": "code",
   "execution_count": 65,
   "id": "00044367",
   "metadata": {},
   "outputs": [
    {
     "name": "stdout",
     "output_type": "stream",
     "text": [
      "The Length of the list is:  5\n",
      "\n",
      "The Length  is:  5\n"
     ]
    }
   ],
   "source": [
    "MyList = ['Red', 'Yellow', 'Green', 'Orange', 'Pink']\n",
    "print(\"The Length of the list is: \", len(MyList))\n",
    "print()\n",
    "print(\"The Length  is: \", len( ['Red', 'Yellow', 'Green', 'Orange', 'Pink']))"
   ]
  },
  {
   "cell_type": "code",
   "execution_count": 42,
   "id": "9c593764",
   "metadata": {},
   "outputs": [
    {
     "name": "stdout",
     "output_type": "stream",
     "text": [
      "List: ['Red', 'Yellow', 'Green', 'Orange', 'Pink']\n",
      "Number of Elements: 5\n"
     ]
    }
   ],
   "source": [
    "MyList = ['Red', 'Yellow', 'Green', 'Orange', 'Pink']\n",
    "count=0\n",
    "for i in MyList:\n",
    "        count+=1\n",
    "print(\"List:\",MyList)\n",
    "print(\"Number of Elements:\",count)"
   ]
  },
  {
   "cell_type": "code",
   "execution_count": 50,
   "id": "aa2ae9c3",
   "metadata": {},
   "outputs": [
    {
     "name": "stdout",
     "output_type": "stream",
     "text": [
      "Привет Python!\n",
      "--------------\n"
     ]
    }
   ],
   "source": [
    "# Использование функции len() для подчеркивания строки:\n",
    ">>> mystr = \"Привет Python!\"\n",
    ">>> underline = '-' * len(mystr)\n",
    ">>> print(f'{mystr}\\n{underline}')\n",
    "# Привет Python!\n",
    "# --------------"
   ]
  },
  {
   "cell_type": "code",
   "execution_count": 56,
   "id": "3bad2ad2",
   "metadata": {},
   "outputs": [
    {
     "data": {
      "text/plain": [
       "3"
      ]
     },
     "execution_count": 56,
     "metadata": {},
     "output_type": "execute_result"
    },
    {
     "data": {
      "text/plain": [
       "5"
      ]
     },
     "execution_count": 56,
     "metadata": {},
     "output_type": "execute_result"
    },
    {
     "data": {
      "text/plain": [
       "4"
      ]
     },
     "execution_count": 56,
     "metadata": {},
     "output_type": "execute_result"
    }
   ],
   "source": [
    "# подсчет элементов списка\n",
    "mylist = ['apple', 'banana', 'cherry']\n",
    "len(mylist)\n",
    "# 3\n",
    "\n",
    "# подсчет символов в строке\n",
    "string = 'Hello'\n",
    "len(string)\n",
    "# 5\n",
    "\n",
    "# подсчет количества ключей словаря\n",
    "d = {'a': 1, 'b': 1, 'c': 1, 'd': 1}\n",
    "keys = list(d) #?\n",
    "len(d)\n",
    "# 4"
   ]
  },
  {
   "cell_type": "code",
   "execution_count": 58,
   "id": "60d4364f",
   "metadata": {},
   "outputs": [
    {
     "name": "stdout",
     "output_type": "stream",
     "text": [
      "apple\n",
      "banana\n",
      "cherry\n",
      "pear\n",
      "plum\n"
     ]
    }
   ],
   "source": [
    "# Использование функции len() (как один из вариантов) в итерации по индексам последовательности:\n",
    ">>> mylist = ['apple', 'banana', 'cherry', 'pear', 'plum']\n",
    ">>> for i in range(len(mylist)):\n",
    "...     print(mylist[i])\n",
    "... \n",
    "# apple\n",
    "# banana\n",
    "# cherry\n",
    "# pear\n",
    "# plum\n",
    "# По индексам последовательности, конечно удобнее итерироваться при помощи функции enumerate()."
   ]
  },
  {
   "cell_type": "code",
   "execution_count": 81,
   "id": "ab534e72",
   "metadata": {},
   "outputs": [
    {
     "data": {
      "text/plain": [
       "'1235412687'"
      ]
     },
     "execution_count": 81,
     "metadata": {},
     "output_type": "execute_result"
    },
    {
     "data": {
      "text/plain": [
       "10"
      ]
     },
     "execution_count": 81,
     "metadata": {},
     "output_type": "execute_result"
    },
    {
     "data": {
      "text/plain": [
       "'1235412687.1234'"
      ]
     },
     "execution_count": 81,
     "metadata": {},
     "output_type": "execute_result"
    },
    {
     "data": {
      "text/plain": [
       "15"
      ]
     },
     "execution_count": 81,
     "metadata": {},
     "output_type": "execute_result"
    },
    {
     "data": {
      "text/plain": [
       "11"
      ]
     },
     "execution_count": 81,
     "metadata": {},
     "output_type": "execute_result"
    }
   ],
   "source": [
    "#Подсчет количества цифр в числе (длина числа)\n",
    "#Для того, чтобы посчитать количество цифр в числе необходимо сначала перевести число float или int в любую последовательность, например в строку, \n",
    "# а затем к последовательности применить функцию len(), что бы получить количество элементов.\n",
    "\n",
    "#Для получения строкового представления объектов float и int, применим к ним функцию str.\n",
    "\n",
    "#Пример получения длины целого числа:\n",
    "\n",
    "# получение длины целого числа \n",
    "x = 1235412687\n",
    "str_x = str(x)\n",
    "str_x\n",
    "# '1235412687'\n",
    "num_x = len(str_x)\n",
    "num_x\n",
    "# 10\n",
    "#Так как вещественные числа в Python имеют запятую, то количество цифр в числе float будет на 1 меньше, а именно len(str(float)) - 1.\n",
    "\n",
    "x = 1235412687.1234\n",
    "str_x = str(x)\n",
    "str_x\n",
    "# '1235412687'\n",
    "num_x = len(str_x)\n",
    "num_x\n",
    "\n",
    "#Пример получения длины вещественного числа:\n",
    "\n",
    "# получение длины вещественного числа (цифры) \n",
    "x = 0.1230541287\n",
    "# запишем преобразования короче\n",
    "num_x = len(str(x)) - 1\n",
    "num_x"
   ]
  },
  {
   "cell_type": "code",
   "execution_count": 89,
   "id": "6699789c",
   "metadata": {},
   "outputs": [
    {
     "data": {
      "text/plain": [
       "8"
      ]
     },
     "execution_count": 89,
     "metadata": {},
     "output_type": "execute_result"
    },
    {
     "data": {
      "text/plain": [
       "7"
      ]
     },
     "execution_count": 89,
     "metadata": {},
     "output_type": "execute_result"
    }
   ],
   "source": [
    "# Что бы получить количество уникальных цифр в числе, \n",
    "#  необходимо строковое представление числа преобразовать в множество set, т.к. множество представляет собой последовательность неповторяющихся элементов.\n",
    "\n",
    "# Пример подсчета уникальных цифр в числах float и int:\n",
    "\n",
    "# получение кол-ва уникальных цифр целого числа \n",
    "x = 1235412687\n",
    "# получаем строковое представление \n",
    "str_x = str(x)\n",
    "# получаем множество уникальных цифр числа\n",
    "set_x = set(str_x)\n",
    "# {'1', '5', '7', '8', '6', '2', '4', '3'}\n",
    "\n",
    "# считаем кол-во уникальных цифр\n",
    "num_x = len(set_x)\n",
    "num_x\n",
    "\n",
    "# для получения кол-ва уникальных цифр \n",
    "# числа `float` сделаем запись короче \n",
    "x = 0.123054128\n",
    "# количество уникальных цифр числа `float`\n",
    "# будет на 1 меньше, т.к. число имеет разделитель\n",
    "num_x = len(set(str(x))) - 1\n",
    "num_x"
   ]
  },
  {
   "cell_type": "code",
   "execution_count": null,
   "id": "9431993e",
   "metadata": {},
   "outputs": [],
   "source": []
  },
  {
   "cell_type": "markdown",
   "id": "eb8fdd74",
   "metadata": {},
   "source": [
    "  ###### 6. Получение пользовательского ввода в Python с input() <a id='task6'></a>"
   ]
  },
  {
   "cell_type": "code",
   "execution_count": 70,
   "id": "57130b1b",
   "metadata": {},
   "outputs": [
    {
     "name": "stdout",
     "output_type": "stream",
     "text": [
      "Введите что-нибудь, чтобы проверить это: rty\n",
      "Это то, что вы только что ввели? rty\n"
     ]
    }
   ],
   "source": [
    "#Для получения информации с клавиатуры в Python есть функции input() или raw_input() (о разнице между ними чуть позже).\n",
    "#У них есть опциональный параметр prompt, который является выводимой строкой при вызове функции.\n",
    "\n",
    "#Когда input() или raw_input() вызываются, поток программы останавливается до тех пор, пока пользователь не введет данные через командную строку. \n",
    "#Для ввода нужно нажать Enter после завершения набора текста. Обычно Enter добавляет символ новой строки (\\n), но не в этом случае. \n",
    "#Введенная строка просто будет передана приложению.\n",
    "\n",
    "#Сравнение функций input и raw_input\n",
    "#Разница между этими функциями зависит от версии Python. \n",
    "#Так, в Python 2 функция raw_input() используется для получения ввода от пользователя через командную строку, а input() оценивает ее и попробует запустить как код Python.\n",
    "\n",
    "#В Python 3 от raw_input() избавились, оставив только input(). \n",
    "#Она используется для получения ввода пользователя с клавиатуры. Возможности input() из Python 2 в Python 3 работать не будут. \n",
    "#Для той же операции нужно использовать инструкцию eval(input()).\n",
    "\n",
    "txt = input(\"Введите что-нибудь, чтобы проверить это: \")\n",
    "print(\"Это то, что вы только что ввели?\", txt)"
   ]
  },
  {
   "cell_type": "code",
   "execution_count": 92,
   "id": "7a378b8e",
   "metadata": {},
   "outputs": [
    {
     "name": "stdout",
     "output_type": "stream",
     "text": [
      "Введите число: 222\n",
      "Введенное число:  222\n",
      "введите число: 12\n",
      "Введенное число:  12.0\n"
     ]
    }
   ],
   "source": [
    "#Строковый и числовой ввод\n",
    "#По умолчанию функция input() конвертирует всю получаемую информацию в строку. Прошлый пример продемонстрировал это.\n",
    "\n",
    "#С числами нужно работать отдельно, поскольку они тоже изначально являются строками. Следующий пример показывает, как можно получить информацию числового типа:\n",
    "\n",
    "# Ввод запрашивается и сохраняется в переменной\n",
    "test_text = input (\"Введите число: \")\n",
    "\n",
    "# Преобразуем строку в целое число.\n",
    "# функция float() используется вместо int(),\n",
    "# для преобразования пользовательского ввода в десятичный формат,  \n",
    "test_number = int(test_text)\n",
    "\n",
    "# Выводим в консоль переменную\n",
    "print (\"Введенное число: \", test_number)\n",
    "\n",
    "\n",
    "test_float = input ('введите число: ')\n",
    "test_num = float (test_float)\n",
    "print (\"Введенное число: \", test_num)"
   ]
  },
  {
   "cell_type": "code",
   "execution_count": 94,
   "id": "14e67cf4",
   "metadata": {},
   "outputs": [
    {
     "name": "stdout",
     "output_type": "stream",
     "text": [
      "Введите число: 123\n",
      "Введенное число:  123\n",
      "Введите число: 234\n",
      "Введенное число:  234.0\n"
     ]
    }
   ],
   "source": [
    "#Того же можно добиться и таким образом:\n",
    "\n",
    "test_number = int(input(\"Введите число: \"))\n",
    "print (\"Введенное число: \", test_number)\n",
    "#Здесь сразу после сохранения ввода происходит преобразование и присваивание значения переменной.\n",
    "#Нужно лишь отметить, что если пользователь ввел не целое число, то код вернет исключение (даже если это число с плавающей точкой).\n",
    "\n",
    "test_number = float(input(\"Введите число: \"))\n",
    "print (\"Введенное число: \", test_number)"
   ]
  },
  {
   "cell_type": "code",
   "execution_count": 97,
   "id": "62c1a860",
   "metadata": {},
   "outputs": [
    {
     "name": "stdout",
     "output_type": "stream",
     "text": [
      "Сколько вам лет? 3\n",
      "Ваш возраст  3\n",
      "Введите свое счастливое число: gznm\n",
      "Это не правильный ввод. Это не число вообще! Это строка, попробуйте еще раз.\n"
     ]
    }
   ],
   "source": [
    "## Есть несколько способов, как можно удостовериться в том, что пользователь ввел корректные данные. Один из них — перехватывать все возможные ошибки, которые могут возникнуть.\n",
    "\n",
    "#Вот такой код считается небезопасным:\n",
    "\n",
    "test2word = input(\"Сколько вам лет? \")\n",
    "test2num = int(test2word)\n",
    "print(\"Ваш возраст \", test2num)\n",
    "\n",
    "# При вызове функции int() со строкой Пять появится исключение ValueError, и программа остановит работу.\n",
    "\n",
    "#Вот как можно сделать код безопаснее и обработать ввод:\n",
    "\n",
    "test3word = input(\"Введите свое счастливое число: \")\n",
    "try:\n",
    "    test3num = int(test3word)\n",
    "    print(\"Это правильный ввод! Ваше счастливое число: \", test3num)\n",
    "except ValueError:\n",
    "    print(\"Это не правильный ввод. Это не число вообще! Это строка, попробуйте еще раз.\")\n",
    "    \n",
    "# Такой код можно объединить с другой конструкцией, например, циклом for, чтобы убедиться, что код будет выполняться постоянно, \n",
    "# до тех пор, пока пользователь не введет те данные, которые требуются."
   ]
  },
  {
   "cell_type": "code",
   "execution_count": 99,
   "id": "028d071a",
   "metadata": {},
   "outputs": [
    {
     "name": "stdout",
     "output_type": "stream",
     "text": [
      "Как вас зовут? 123\n",
      "Сколько часов вы играете на своем мобильном телефоне?asd\n",
      "Error! Это не число, попробуйте снова.\n",
      "Как вас зовут? 123\n",
      "Сколько часов вы играете на своем мобильном телефоне?123\n",
      "Впечатляет,  123 ! Вы тратите 7380 минут или 442800 секунд на игры в своем телефоне!\n"
     ]
    }
   ],
   "source": [
    "# Создадим функцию для демонстрации примера\n",
    "def example():\n",
    "\n",
    "    # Бесконечный цикл, который продолжает выполняться  \n",
    "    # до возникновения исключения\n",
    "    while True:\n",
    "        test4word = input(\"Как вас зовут? \")\n",
    "\n",
    "        try:\n",
    "            test4num = int(input(\"Сколько часов вы играете на своем мобильном телефоне?\" ))\n",
    "\n",
    "        # Если полученный ввод не число, будет вызвано исключение\n",
    "        except ValueError:\n",
    "            # Цикл будет повторяться до правильного ввода\n",
    "            print(\"Error! Это не число, попробуйте снова.\")\n",
    "\n",
    "        # При успешном преобразовании в целое число,  \n",
    "        # цикл закончится.\n",
    "        else:\n",
    "            print(\"Впечатляет, \", test4word, \"! Вы тратите\", test4num*60, \"минут или\", test4num*60*60, \"секунд на игры в своем телефоне!\")\n",
    "            break\n",
    "\n",
    "# Вызываем функцию\n",
    "example()"
   ]
  },
  {
   "cell_type": "code",
   "execution_count": null,
   "id": "db8335ed",
   "metadata": {},
   "outputs": [],
   "source": []
  }
 ],
 "metadata": {
  "kernelspec": {
   "display_name": "Python 3",
   "language": "python",
   "name": "python3"
  },
  "language_info": {
   "codemirror_mode": {
    "name": "ipython",
    "version": 3
   },
   "file_extension": ".py",
   "mimetype": "text/x-python",
   "name": "python",
   "nbconvert_exporter": "python",
   "pygments_lexer": "ipython3",
   "version": "3.8.8"
  },
  "varInspector": {
   "cols": {
    "lenName": 16,
    "lenType": 16,
    "lenVar": 40
   },
   "kernels_config": {
    "python": {
     "delete_cmd_postfix": "",
     "delete_cmd_prefix": "del ",
     "library": "var_list.py",
     "varRefreshCmd": "print(var_dic_list())"
    },
    "r": {
     "delete_cmd_postfix": ") ",
     "delete_cmd_prefix": "rm(",
     "library": "var_list.r",
     "varRefreshCmd": "cat(var_dic_list()) "
    }
   },
   "types_to_exclude": [
    "module",
    "function",
    "builtin_function_or_method",
    "instance",
    "_Feature"
   ],
   "window_display": false
  }
 },
 "nbformat": 4,
 "nbformat_minor": 5
}
