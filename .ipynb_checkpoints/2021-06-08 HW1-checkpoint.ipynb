{
 "cells": [
  {
   "cell_type": "code",
   "execution_count": 6,
   "id": "25deb333",
   "metadata": {},
   "outputs": [
    {
     "name": "stdout",
     "output_type": "stream",
     "text": [
      "phrases of equal length\n"
     ]
    }
   ],
   "source": [
    "phrase_1 = 'Насколько проще было бы писать программы, если бы не заказчики'\n",
    "phrase_2 = 'Насколько проще было бы писать программы, если бы не заказчики'\n",
    "if len(phrase_1) == len(phrase_2):\n",
    "    print ('phrases of equal length') \n",
    "elif len(phrase_1) > len(phrase_2):\n",
    "    print ('phrase1 is bigger than phrase2')\n",
    "elif len(phrase_1) < len(phrase_2):\n",
    "     print ('phrase2 is bigger than phrase1')"
   ]
  },
  {
   "cell_type": "code",
   "execution_count": 4,
   "id": "554196ec",
   "metadata": {},
   "outputs": [
    {
     "name": "stdout",
     "output_type": "stream",
     "text": [
      "phrase1 is bigger than phrase2\n"
     ]
    }
   ],
   "source": [
    "phrase_1 = 'Насколько проще было бы писать программы, если бы не заказчики'\n",
    "phrase_2 = '640Кб должно хватить для любых задач. Билл Гейтс (по легенде)'\n",
    "if len(phrase_1) == len(phrase_2):\n",
    "    print ('phrases of equal length') \n",
    "elif len(phrase_1) > len(phrase_2):\n",
    "    print ('phrase1 is bigger than phrase2')\n",
    "elif len(phrase_1) < len(phrase_2):\n",
    "     print ('phrase2 is bigger than phrase1')"
   ]
  },
  {
   "cell_type": "code",
   "execution_count": 5,
   "id": "d8b2f91b",
   "metadata": {},
   "outputs": [
    {
     "name": "stdout",
     "output_type": "stream",
     "text": [
      "phrase2 is bigger than phrase1\n"
     ]
    }
   ],
   "source": [
    "phrase_1 = '640Кб должно хватить для любых задач. Билл Гейтс (по легенде)'\n",
    "phrase_2 = 'Насколько проще было бы писать программы, если бы не заказчики'\n",
    "if len(phrase_1) == len(phrase_2):\n",
    "    print ('phrases of equal length') \n",
    "elif len(phrase_1) > len(phrase_2):\n",
    "    print ('phrase1 is bigger than phrase2')\n",
    "elif len(phrase_1) < len(phrase_2):\n",
    "     print ('phrase2 is bigger than phrase1')"
   ]
  },
  {
   "cell_type": "code",
   "execution_count": null,
   "id": "abe50c6d",
   "metadata": {},
   "outputs": [],
   "source": [
    "phrase_1 = '640Кб должно хватить для любых задач. Билл Гейтс (по легенде)'\n",
    "phrase_2 = 'Насколько проще было бы писать программы, если бы не заказчики'\n",
    "print (type(phrase_1))\n",
    "if len(phrase_1) == len(phrase_2):\n",
    "    print ('phrases of equal length')\n",
    "elif len(phrase_1) > len(phrase_2):\n",
    "    print ('phrase1 is bigger than phrase2')\n",
    "print ('phrase2 is bigger than phrase1')"
   ]
  },
  {
   "cell_type": "code",
   "execution_count": null,
   "id": "e41efe5c",
   "metadata": {},
   "outputs": [],
   "source": [
    "x = y =  ['Яблоко', 'Груша', 'Слива']\n",
    "x is y   # True\n",
    "id(x), id(y), id(x) == id(y)   # (3240602862208, 3240602862208, True)"
   ]
  },
  {
   "cell_type": "code",
   "execution_count": null,
   "id": "e140186a",
   "metadata": {},
   "outputs": [],
   "source": [
    "x.append('Персик')\n",
    "x   # ['Яблоко', 'Груша', 'Слива', 'Персик']"
   ]
  },
  {
   "cell_type": "code",
   "execution_count": null,
   "id": "6b5f41a5",
   "metadata": {},
   "outputs": [],
   "source": [
    "y   # ['Яблоко', 'Груша', 'Слива', 'Персик']\n",
    "x is y, id(x) == id(y)   # (True, True)"
   ]
  },
  {
   "cell_type": "code",
   "execution_count": 7,
   "id": "ddd4b169",
   "metadata": {},
   "outputs": [
    {
     "ename": "NameError",
     "evalue": "name 'none' is not defined",
     "output_type": "error",
     "traceback": [
      "\u001b[1;31m---------------------------------------------------------------------------\u001b[0m",
      "\u001b[1;31mNameError\u001b[0m                                 Traceback (most recent call last)",
      "\u001b[1;32m<ipython-input-7-8eb4bf394e98>\u001b[0m in \u001b[0;36m<module>\u001b[1;34m\u001b[0m\n\u001b[1;32m----> 1\u001b[1;33m \u001b[0mtype\u001b[0m\u001b[1;33m(\u001b[0m\u001b[0mnone\u001b[0m\u001b[1;33m)\u001b[0m\u001b[1;33m\u001b[0m\u001b[1;33m\u001b[0m\u001b[0m\n\u001b[0m",
      "\u001b[1;31mNameError\u001b[0m: name 'none' is not defined"
     ]
    }
   ],
   "source": [
    "type(none)"
   ]
  },
  {
   "cell_type": "code",
   "execution_count": 16,
   "id": "525eb240",
   "metadata": {},
   "outputs": [
    {
     "ename": "IndentationError",
     "evalue": "unexpected indent (<ipython-input-16-a2b778e45aab>, line 7)",
     "output_type": "error",
     "traceback": [
      "\u001b[1;36m  File \u001b[1;32m\"<ipython-input-16-a2b778e45aab>\"\u001b[1;36m, line \u001b[1;32m7\u001b[0m\n\u001b[1;33m    if id3 is None:\u001b[0m\n\u001b[1;37m    ^\u001b[0m\n\u001b[1;31mIndentationError\u001b[0m\u001b[1;31m:\u001b[0m unexpected indent\n"
     ]
    }
   ],
   "source": [
    "my_dict = {\n",
    "    'id1': 123456, \n",
    "    'id2': 654321, \n",
    "    'id3': None,\n",
    "    'id4': 777777\n",
    "}\n",
    "    if id3 is None:\n",
    "    print('The database could not connect')\n"
   ]
  },
  {
   "cell_type": "code",
   "execution_count": 11,
   "id": "6df97d4a",
   "metadata": {},
   "outputs": [
    {
     "ename": "NameError",
     "evalue": "name 'none' is not defined",
     "output_type": "error",
     "traceback": [
      "\u001b[1;31m---------------------------------------------------------------------------\u001b[0m",
      "\u001b[1;31mNameError\u001b[0m                                 Traceback (most recent call last)",
      "\u001b[1;32m<ipython-input-11-09962787d5d3>\u001b[0m in \u001b[0;36m<module>\u001b[1;34m\u001b[0m\n\u001b[1;32m----> 1\u001b[1;33m \u001b[0mk\u001b[0m \u001b[1;33m=\u001b[0m \u001b[1;36m1\u001b[0m\u001b[1;33m+\u001b[0m\u001b[0mnone\u001b[0m\u001b[1;33m\u001b[0m\u001b[1;33m\u001b[0m\u001b[0m\n\u001b[0m",
      "\u001b[1;31mNameError\u001b[0m: name 'none' is not defined"
     ]
    }
   ],
   "source": [
    " k = 1+none"
   ]
  }
 ],
 "metadata": {
  "kernelspec": {
   "display_name": "Python 3",
   "language": "python",
   "name": "python3"
  },
  "language_info": {
   "codemirror_mode": {
    "name": "ipython",
    "version": 3
   },
   "file_extension": ".py",
   "mimetype": "text/x-python",
   "name": "python",
   "nbconvert_exporter": "python",
   "pygments_lexer": "ipython3",
   "version": "3.8.8"
  },
  "varInspector": {
   "cols": {
    "lenName": 16,
    "lenType": 16,
    "lenVar": 40
   },
   "kernels_config": {
    "python": {
     "delete_cmd_postfix": "",
     "delete_cmd_prefix": "del ",
     "library": "var_list.py",
     "varRefreshCmd": "print(var_dic_list())"
    },
    "r": {
     "delete_cmd_postfix": ") ",
     "delete_cmd_prefix": "rm(",
     "library": "var_list.r",
     "varRefreshCmd": "cat(var_dic_list()) "
    }
   },
   "types_to_exclude": [
    "module",
    "function",
    "builtin_function_or_method",
    "instance",
    "_Feature"
   ],
   "window_display": false
  }
 },
 "nbformat": 4,
 "nbformat_minor": 5
}
