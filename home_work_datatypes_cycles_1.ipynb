{
 "cells": [
  {
   "cell_type": "markdown",
   "id": "1cc05d20",
   "metadata": {},
   "source": [
    "### Домашнее задание к лекции \"Основы Python\""
   ]
  },
  {
   "cell_type": "markdown",
   "id": "a6b15417",
   "metadata": {},
   "source": [
    "### Оглавление\n",
    "  \n",
    "1. [Задание 1](#task1)   \n",
    "2. [Задание 2](#task2)  \n",
    "3. [Задание 3](#task3)  \n",
    "4. [Задание 4](#task4)  \n",
    "5. [Задание 5](#task5) \n",
    "6. [Задание 6](#task6) "
   ]
  },
  {
   "cell_type": "markdown",
   "id": "e9ed48c2",
   "metadata": {},
   "source": [
    "###### 1. Задание 1 <a id='task1'></a>"
   ]
  },
  {
   "cell_type": "code",
   "execution_count": 15,
   "id": "683e45a4",
   "metadata": {},
   "outputs": [
    {
     "name": "stdout",
     "output_type": "stream",
     "text": [
      "Введите слово: as\n",
      "a s\n"
     ]
    }
   ],
   "source": [
    "# Выводит на экран: среднюю букву, если число букв в слове нечетное; две средних буквы, если число букв четное.\n",
    "word = [word for word in input('Введите слово: ')]\n",
    "if len(word) % 2 > 0:\n",
    "    print(word[int(len(word)/2)])\n",
    "else:\n",
    "    print(word[int(len(word)/2)-1], word[int(len(word)/2)])"
   ]
  },
  {
   "cell_type": "markdown",
   "id": "33ac96f9",
   "metadata": {},
   "source": [
    "###### 2. Задание 2 <a id='task2'></a>"
   ]
  },
  {
   "cell_type": "code",
   "execution_count": 25,
   "id": "f8fdb1ee",
   "metadata": {},
   "outputs": [
    {
     "name": "stdout",
     "output_type": "stream",
     "text": [
      "Введите число: 0\n",
      "Результат:  0\n"
     ]
    }
   ],
   "source": [
    "# последовательно запрашивает у пользователя числа (по одному за раз) и после первого нуля выводит сумму всех ранее введенных чисел.\n",
    "sum_numb = 0\n",
    "numb = 1\n",
    "while numb != 0:\n",
    "    numb = (int(input('Введите число: ')))\n",
    "    sum_numb = sum_numb + numb\n",
    "else:\n",
    "    print('Результат: ', sum_numb)"
   ]
  },
  {
   "cell_type": "markdown",
   "id": "e0ef7005",
   "metadata": {},
   "source": [
    "###### 3. Задание 3 <a id='task3'></a>"
   ]
  },
  {
   "cell_type": "code",
   "execution_count": 42,
   "id": "8bca0ff2",
   "metadata": {},
   "outputs": [
    {
     "name": "stdout",
     "output_type": "stream",
     "text": [
      "Alex  и  Emma\n",
      "Arthur  и  Kate\n",
      "John  и  Kira\n",
      "Peter  и  Liza\n",
      "Richard  и  Trisha\n"
     ]
    }
   ],
   "source": [
    "boys = ['Peter', 'Alex', 'John', 'Arthur', 'Richard']\n",
    "girls = ['Kate', 'Liza', 'Kira', 'Emma', 'Trisha']\n",
    "if len(boys) != len(girls):\n",
    "    print('Внимание, кто-то может остаться без пары!')\n",
    "else:\n",
    "    boys = sorted(boys)\n",
    "    girls = sorted(girls)\n",
    "    for i in range(len(girls)):\n",
    "        print(boys[i], ' и ', girls[i])"
   ]
  },
  {
   "cell_type": "markdown",
   "id": "59e04e3a",
   "metadata": {},
   "source": [
    "###### 4. Задание 4 <a id='task4'></a>"
   ]
  },
  {
   "cell_type": "code",
   "execution_count": 91,
   "id": "ac94becd",
   "metadata": {},
   "outputs": [
    {
     "name": "stdout",
     "output_type": "stream",
     "text": [
      "Thailand - 23.9\n",
      "Germany - 13.8\n",
      "Russia - 3.7\n",
      "Poland - 12.0\n"
     ]
    }
   ],
   "source": [
    "# рассчитает среднюю температуру за период в Цельсиях(!) для каждой страны.\n",
    "countries_temperature = [\n",
    "    ['Thailand', [75.2, 77, 78.8, 73.4, 68, 75.2, 77]],\n",
    "    ['Germany', [57.2, 55.4, 59, 59, 53.6]],\n",
    "    ['Russia', [35.6, 37.4, 39.2, 41, 42.8, 39.2, 35.6]],\n",
    "    ['Poland', [50, 50, 53.6, 57.2, 55.4, 55.4]]\n",
    "]\n",
    "for i in countries_temperature:\n",
    "    print(i[0], '-', round((sum(i[1])/len(i[1])-32)/1.8, 1))"
   ]
  },
  {
   "cell_type": "markdown",
   "id": "e8c49f59",
   "metadata": {},
   "source": [
    "###### 5. Задание 5 <a id='task5'></a>"
   ]
  },
  {
   "cell_type": "code",
   "execution_count": 100,
   "id": "4d379540",
   "metadata": {
    "scrolled": false
   },
   "outputs": [
    {
     "name": "stdout",
     "output_type": "stream",
     "text": [
      "Среднее количество просмотров на уникального пользователя: 23.25\n"
     ]
    }
   ],
   "source": [
    "stream = [\n",
    "    '2018-01-01,user1,3',\n",
    "    '2018-01-07,user1,4',\n",
    "    '2018-03-29,user1,1',\n",
    "    '2018-04-04,user1,13',\n",
    "    '2018-01-05,user2,7',\n",
    "    '2018-06-14,user3,4',\n",
    "    '2018-07-02,user3,10',\n",
    "    '2018-03-21,user4,19',\n",
    "    '2018-03-22,user4,4',\n",
    "    '2018-04-22,user4,8',\n",
    "    '2018-05-03,user4,9',\n",
    "    '2018-05-11,user4,11',\n",
    "]\n",
    "# Расчет среднего количество просмотров на уникального пользователя.\n",
    "ind_sum = 0\n",
    "lst = []\n",
    "for i in stream:\n",
    "    ind_sum = ind_sum+int(i.split(',')[2])\n",
    "    if i.split(',')[1] not in lst:\n",
    "        lst.append(i.split(',')[1])\n",
    "print('Среднее количество просмотров на уникального пользователя:',\n",
    "      round(ind_sum/len(lst), 2))"
   ]
  },
  {
   "cell_type": "code",
   "execution_count": 99,
   "id": "3e95335f",
   "metadata": {},
   "outputs": [
    {
     "name": "stdout",
     "output_type": "stream",
     "text": [
      "Среднее количество просмотров на уникального пользователя: 145.33\n"
     ]
    }
   ],
   "source": [
    "stream = [\n",
    "    '2018-01-01,user100,150',\n",
    "    '2018-01-07,user99,205',\n",
    "    '2018-03-29,user1001,81'\n",
    "]\n",
    "# Расчет среднего количество просмотров на уникального пользователя.\n",
    "ind_sum = 0\n",
    "lst = []\n",
    "for i in stream:\n",
    "    ind_sum = ind_sum+int(i.split(',')[2])\n",
    "    if i.split(',')[1] not in lst:\n",
    "        lst.append(i.split(',')[1])\n",
    "print('Среднее количество просмотров на уникального пользователя:',\n",
    "      round(ind_sum/len(lst), 2))"
   ]
  },
  {
   "cell_type": "markdown",
   "id": "dac975cc",
   "metadata": {},
   "source": [
    "###### 6. Задание 6 <a id='task6'></a> "
   ]
  },
  {
   "cell_type": "code",
   "execution_count": 139,
   "id": "2d79d3d0",
   "metadata": {},
   "outputs": [
    {
     "name": "stdout",
     "output_type": "stream",
     "text": [
      "Введите числа:0 9 8 7 6 5 4 3 2 1 8 6 4 3 \n",
      "Результат:\n",
      "3 4 6 8 "
     ]
    }
   ],
   "source": [
    "# У пользователя запрашивается набор чисел разделенных пробелом. В отсортированном порядке  выводятся числа, которые повторяются в вводе более одного раза.\n",
    "rep=[]\n",
    "seq_num=input('Введите числа:').split()\n",
    "for i in seq_num:\n",
    "    if seq_num.count(i)>1 and i not in rep:\n",
    "        rep.append(i)\n",
    "rep.sort()\n",
    "print('Результат:')\n",
    "for i in rep:\n",
    "    print(i , end=(' '))"
   ]
  }
 ],
 "metadata": {
  "kernelspec": {
   "display_name": "Python 3",
   "language": "python",
   "name": "python3"
  },
  "language_info": {
   "codemirror_mode": {
    "name": "ipython",
    "version": 3
   },
   "file_extension": ".py",
   "mimetype": "text/x-python",
   "name": "python",
   "nbconvert_exporter": "python",
   "pygments_lexer": "ipython3",
   "version": "3.8.8"
  },
  "varInspector": {
   "cols": {
    "lenName": 16,
    "lenType": 16,
    "lenVar": 40
   },
   "kernels_config": {
    "python": {
     "delete_cmd_postfix": "",
     "delete_cmd_prefix": "del ",
     "library": "var_list.py",
     "varRefreshCmd": "print(var_dic_list())"
    },
    "r": {
     "delete_cmd_postfix": ") ",
     "delete_cmd_prefix": "rm(",
     "library": "var_list.r",
     "varRefreshCmd": "cat(var_dic_list()) "
    }
   },
   "types_to_exclude": [
    "module",
    "function",
    "builtin_function_or_method",
    "instance",
    "_Feature"
   ],
   "window_display": false
  }
 },
 "nbformat": 4,
 "nbformat_minor": 5
}
