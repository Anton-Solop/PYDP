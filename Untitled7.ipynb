{
 "cells": [
  {
   "cell_type": "markdown",
   "id": "3ab96b98",
   "metadata": {},
   "source": [
    "## Оглавление\n",
    "  \n",
    "1. [Оператор if else](#task1)   \n",
    "2. [продуктивность при работе с Jupyter Notebook](#task2)  \n",
    "3. [open и Работа с файлами.](#task3)  \n",
    "4. [Встроенные функции, выполняющие преобразование типов](#task4)  \n",
    "5. [ range()](#task5) \n",
    "6. [np.linspace()](#task6) \n",
    "7. [Строковые методы strip, lstrip, rstrip](#task7) \n",
    "8. [Операторы в Python](#task8) \n",
    "9. [.append( )](#task9) \n",
    "10. [.extend( )](#task10) \n",
    "11. [.insert( )](#task11) `\n",
    "12. [{ } Множества](#task12)"
   ]
  },
  {
   "cell_type": "markdown",
   "id": "bc3abaad",
   "metadata": {},
   "source": [
    "###### 1. Оператор if else <a id='task1'></a>"
   ]
  },
  {
   "cell_type": "code",
   "execution_count": null,
   "id": "006baa47",
   "metadata": {},
   "outputs": [],
   "source": [
    "if condition:\n",
    "    <indented statement 1 >\n",
    "    <indented statement 2 >\n",
    "\n",
    "<non-indented statement >\n",
    "\n",
    "# Первая строчка оператора, то есть if condition: — это условие if, а condition — это логическое выражение, которое возвращает True или False.\n",
    "#   В следующей строке блок инструкций.\n",
    "#  Блок представляет собой одну или больше инструкций. Если он идет следом за условием if, такой блок называют блоком if.\n",
    "\n",
    "# Каждая инструкция должна содержать одинаковое количество пробелов в отступе. В противном случае программа вернет синтаксическую ошибку.\n",
    "# В документации Python рекомендуется делать отступ на 4 пробела.\n",
    "\n",
    "# Инструкции следом за условием if, у которых нет отступов, не относятся к блоку if.\n",
    "# Например, <non-intenden statement> — это не часть блока if, поэтому она будет выполнена в любом случае."
   ]
  },
  {
   "cell_type": "code",
   "execution_count": null,
   "id": "d96cffe4",
   "metadata": {},
   "outputs": [],
   "source": []
  },
  {
   "cell_type": "code",
   "execution_count": null,
   "id": "b8819086",
   "metadata": {},
   "outputs": [],
   "source": [
    "###### 1. >>>​ и v <a id='task2'></a>"
   ]
  },
  {
   "cell_type": "code",
   "execution_count": null,
   "id": "2434827e",
   "metadata": {},
   "outputs": [],
   "source": [
    ">>>\n",
    ">>> n = 100\n",
    ">>> if n > 10:\n",
    "...\n",
    "После нажатия Enter на строке с условием if командная строка преобразуется с >>> на …. Консоль Python показывает … для многострочных инструкций. \n",
    "Это значит, что начатая инструкция все еще не закончена."
   ]
  }
 ],
 "metadata": {
  "kernelspec": {
   "display_name": "Python 3",
   "language": "python",
   "name": "python3"
  },
  "language_info": {
   "codemirror_mode": {
    "name": "ipython",
    "version": 3
   },
   "file_extension": ".py",
   "mimetype": "text/x-python",
   "name": "python",
   "nbconvert_exporter": "python",
   "pygments_lexer": "ipython3",
   "version": "3.8.8"
  },
  "varInspector": {
   "cols": {
    "lenName": 16,
    "lenType": 16,
    "lenVar": 40
   },
   "kernels_config": {
    "python": {
     "delete_cmd_postfix": "",
     "delete_cmd_prefix": "del ",
     "library": "var_list.py",
     "varRefreshCmd": "print(var_dic_list())"
    },
    "r": {
     "delete_cmd_postfix": ") ",
     "delete_cmd_prefix": "rm(",
     "library": "var_list.r",
     "varRefreshCmd": "cat(var_dic_list()) "
    }
   },
   "types_to_exclude": [
    "module",
    "function",
    "builtin_function_or_method",
    "instance",
    "_Feature"
   ],
   "window_display": false
  }
 },
 "nbformat": 4,
 "nbformat_minor": 5
}
