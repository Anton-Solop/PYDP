{
 "cells": [
  {
   "cell_type": "markdown",
   "id": "20395d19",
   "metadata": {},
   "source": [
    "### Домашнее задание к лекции \"Основы Python\""
   ]
  },
  {
   "cell_type": "markdown",
   "id": "2cb5d80e",
   "metadata": {},
   "source": [
    "### Оглавление\n",
    "  \n",
    "1. [Задание 1](#task1)   \n",
    "2. [Задание 2](#task2)  \n",
    "3. [Задание 3](#task3)  \n",
    "4. [Задание 4](#task4)  \n",
    "5. [Задание 5](#task5) \n",
    "6. [Задание 6](#task6) "
   ]
  },
  {
   "cell_type": "markdown",
   "id": "e2cbae8f",
   "metadata": {},
   "source": [
    "###### 1. Задание 1 <a id='task1'></a>"
   ]
  },
  {
   "cell_type": "code",
   "execution_count": 15,
   "id": "36362918",
   "metadata": {},
   "outputs": [
    {
     "name": "stdout",
     "output_type": "stream",
     "text": [
      "Введите слово: as\n",
      "a s\n"
     ]
    }
   ],
   "source": [
    "# Выводит на экран: среднюю букву, если число букв в слове нечетное; две средних буквы, если число букв четное.\n",
    "word = [word for word in input('Введите слово: ')]\n",
    "if len(word) % 2 > 0:\n",
    "    print(word[int(len(word)/2)])\n",
    "else:\n",
    "    print(word[int(len(word)/2)-1], word[int(len(word)/2)])"
   ]
  },
  {
   "cell_type": "markdown",
   "id": "446701f6",
   "metadata": {},
   "source": [
    "###### 2. Задание 2 <a id='task2'></a>"
   ]
  },
  {
   "cell_type": "code",
   "execution_count": 25,
   "id": "69b76db2",
   "metadata": {},
   "outputs": [
    {
     "name": "stdout",
     "output_type": "stream",
     "text": [
      "Введите число: 0\n",
      "Результат:  0\n"
     ]
    }
   ],
   "source": [
    "# последовательно запрашивает у пользователя числа (по одному за раз) и после первого нуля выводит сумму всех ранее введенных чисел.\n",
    "sum_numb = 0\n",
    "numb = 1\n",
    "while numb != 0:\n",
    "    numb = (int(input('Введите число: ')))\n",
    "    sum_numb = sum_numb + numb\n",
    "else:\n",
    "    print('Результат: ', sum_numb)"
   ]
  },
  {
   "cell_type": "markdown",
   "id": "4d3c72d2",
   "metadata": {},
   "source": [
    "###### 3. Задание 3 <a id='task3'></a>"
   ]
  },
  {
   "cell_type": "code",
   "execution_count": null,
   "id": "6817f07b",
   "metadata": {},
   "outputs": [],
   "source": []
  },
  {
   "cell_type": "code",
   "execution_count": null,
   "id": "c5f4c97b",
   "metadata": {},
   "outputs": [],
   "source": []
  },
  {
   "cell_type": "code",
   "execution_count": null,
   "id": "fcea4298",
   "metadata": {},
   "outputs": [],
   "source": []
  },
  {
   "cell_type": "code",
   "execution_count": null,
   "id": "183261b6",
   "metadata": {},
   "outputs": [],
   "source": []
  }
 ],
 "metadata": {
  "kernelspec": {
   "display_name": "Python 3",
   "language": "python",
   "name": "python3"
  },
  "language_info": {
   "codemirror_mode": {
    "name": "ipython",
    "version": 3
   },
   "file_extension": ".py",
   "mimetype": "text/x-python",
   "name": "python",
   "nbconvert_exporter": "python",
   "pygments_lexer": "ipython3",
   "version": "3.8.8"
  },
  "varInspector": {
   "cols": {
    "lenName": 16,
    "lenType": 16,
    "lenVar": 40
   },
   "kernels_config": {
    "python": {
     "delete_cmd_postfix": "",
     "delete_cmd_prefix": "del ",
     "library": "var_list.py",
     "varRefreshCmd": "print(var_dic_list())"
    },
    "r": {
     "delete_cmd_postfix": ") ",
     "delete_cmd_prefix": "rm(",
     "library": "var_list.r",
     "varRefreshCmd": "cat(var_dic_list()) "
    }
   },
   "types_to_exclude": [
    "module",
    "function",
    "builtin_function_or_method",
    "instance",
    "_Feature"
   ],
   "window_display": false
  }
 },
 "nbformat": 4,
 "nbformat_minor": 5
}
