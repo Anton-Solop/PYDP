{
 "cells": [
  {
   "cell_type": "markdown",
   "id": "63473caf",
   "metadata": {},
   "source": [
    "### Домашнее задание к лекции \"Управляющие конструкции и коллекции\" часть 2 (c исправлениями)"
   ]
  },
  {
   "cell_type": "markdown",
   "id": "5829c90d",
   "metadata": {},
   "source": [
    "### Оглавление\n",
    "  \n",
    "1. [Задание 1 ( Исправленное - без вложенного цикла)](#task1)   \n",
    "2. [Задание 2 ( Исправленное - универсальный алгоритм для запросов с любым количеством слов)](#task2)  \n",
    "3. [Задание 3](#task3)  \n",
    "4. [Задание 4](#task4)           -------------------------             [Задание 4  (вариант подсмотренный в stackoverflow.com ))](#task7)\n",
    "5. [Задание 5](#task5) \n",
    "6. [Задание 6](#task6) "
   ]
  },
  {
   "cell_type": "markdown",
   "id": "ae259607",
   "metadata": {},
   "source": [
    "###### 1. Задание 1 <a id='task1'></a>"
   ]
  },
  {
   "cell_type": "code",
   "execution_count": 37,
   "id": "1fc2635c",
   "metadata": {},
   "outputs": [
    {
     "name": "stdout",
     "output_type": "stream",
     "text": [
      "Результат: {98, 35, 15, 213, 54, 119}\n"
     ]
    }
   ],
   "source": [
    "# выведет на экран множество уникальных гео-меток всех пользователей.\n",
    "ids = {'user1': [213, 213, 213, 15, 213],\n",
    "       'user2': [54, 54, 119, 119, 119],\n",
    "       'user3': [213, 98, 98, 35]}\n",
    "uni = set()\n",
    "for val in ids.values():\n",
    "    uni = uni.union(set(val))\n",
    "print('Результат:', uni)"
   ]
  },
  {
   "cell_type": "markdown",
   "id": "05d23b5f",
   "metadata": {},
   "source": [
    "###### 2. Задание 2 <a id='task2'></a>"
   ]
  },
  {
   "cell_type": "code",
   "execution_count": 2,
   "id": "1f49d31e",
   "metadata": {},
   "outputs": [
    {
     "name": "stdout",
     "output_type": "stream",
     "text": [
      "Поисковых запросов, содержащих  3  слов(а): 42.86%\n",
      "Поисковых запросов, содержащих  2  слов(а): 57.14%\n"
     ]
    }
   ],
   "source": [
    "# выведет на экран распределение количества слов в запросах в требуемом виде.\n",
    "queries = [\n",
    "    'смотреть сериалы онлайн',\n",
    "    'новости спорта',\n",
    "    'афиша кино',\n",
    "    'курс доллара',\n",
    "    'сериалы этим летом',\n",
    "    'курс по питону',\n",
    "    'сериалы про спорт',\n",
    "]\n",
    "\n",
    "sum_table = {}\n",
    "for i in queries:\n",
    "    x = sum_table.setdefault(len(i.split()), 0)\n",
    "    sum_table[len(i.split())] = x + 1\n",
    "for z in sum_table.keys():\n",
    "    print('Поисковых запросов, содержащих ', z, ' слов(а):',\n",
    "          str(100 - round((sum_table[z] / len(queries)) * 100, 2)) + '%')"
   ]
  },
  {
   "cell_type": "markdown",
   "id": "b1397e1b",
   "metadata": {},
   "source": [
    "###### 3. Задание 3 <a id='task3'></a>"
   ]
  },
  {
   "cell_type": "code",
   "execution_count": 89,
   "id": "42151951",
   "metadata": {},
   "outputs": [
    {
     "name": "stdout",
     "output_type": "stream",
     "text": [
      "vk {'revenue': 103, 'cost': 98, 'ROI': 5.1}\n",
      "yandex {'revenue': 179, 'cost': 153, 'ROI': 16.99}\n",
      "facebook {'revenue': 103, 'cost': 110, 'ROI': -6.36}\n",
      "adwords {'revenue': 35, 'cost': 34, 'ROI': 2.94}\n",
      "twitter {'revenue': 11, 'cost': 24, 'ROI': -54.17}\n"
     ]
    }
   ],
   "source": [
    "# дополнит исходную структуру показателем ROI, который рассчитаем по формуле: (revenue / cost - 1) * 100\n",
    "results = {\n",
    "    'vk': {'revenue': 103, 'cost': 98},\n",
    "    'yandex': {'revenue': 179, 'cost': 153},\n",
    "    'facebook': {'revenue': 103, 'cost': 110},\n",
    "    'adwords': {'revenue': 35, 'cost': 34},\n",
    "    'twitter': {'revenue': 11, 'cost': 24},\n",
    "}\n",
    "for key, val in results.items():\n",
    "    val.update({'ROI': round((val['revenue']/val['cost'] - 1)*100, 2)})\n",
    "    print(key, val)"
   ]
  },
  {
   "cell_type": "markdown",
   "id": "68c76dc0",
   "metadata": {},
   "source": [
    "###### 4. Задание 4 <a id='task4'></a>"
   ]
  },
  {
   "cell_type": "code",
   "execution_count": 102,
   "id": "bb661f1f",
   "metadata": {},
   "outputs": [
    {
     "name": "stdout",
     "output_type": "stream",
     "text": [
      "Максимальный объем продаж на рекламном канале: vk\n"
     ]
    }
   ],
   "source": [
    "# возвращает название канала с максимальным объемом продаж\n",
    "stats = {'facebook': 55, 'yandex': 115, 'vk': 120,\n",
    "         'google': 99, 'email': 42, 'ok': 98}\n",
    "res=0\n",
    "max_=[]\n",
    "for key, val in stats.items():\n",
    "    if val>res:\n",
    "        res=val\n",
    "        max_=key\n",
    "print('Максимальный объем продаж на рекламном канале:', max_)"
   ]
  },
  {
   "cell_type": "markdown",
   "id": "5cd42d45",
   "metadata": {},
   "source": [
    "###### 4. Задание 4 (вариант подсмотренный в stackoverflow.com ))) <a id='task7'></a>"
   ]
  },
  {
   "cell_type": "code",
   "execution_count": 4,
   "id": "9e28d44d",
   "metadata": {},
   "outputs": [
    {
     "name": "stdout",
     "output_type": "stream",
     "text": [
      "Максимальный объем продаж на рекламном канале: vk\n"
     ]
    }
   ],
   "source": [
    "# возвращает название канала с максимальным объемом продаж\n",
    "stats = {'facebook': 55, 'yandex': 115, 'vk': 120,\n",
    "         'google': 99, 'email': 42, 'ok': 98}\n",
    "inverse = [(value, key) for key, value in stats.items()]\n",
    "print('Максимальный объем продаж на рекламном канале:', max(inverse)[1])"
   ]
  },
  {
   "cell_type": "markdown",
   "id": "2dc2c325",
   "metadata": {},
   "source": [
    "###### 5. Задание 5 <a id='task5'></a>"
   ]
  },
  {
   "cell_type": "code",
   "execution_count": 132,
   "id": "b2e4f1b0",
   "metadata": {},
   "outputs": [
    {
     "name": "stdout",
     "output_type": "stream",
     "text": [
      "Результат: {'a': {'b': {'c': {'d': {'e': 'f'}}}}}\n"
     ]
    }
   ],
   "source": [
    "# составит словарь такого уровня вложенности, какова длина исходого списка\n",
    "my_list = ['a', 'b', 'c', 'd', 'e', 'f']\n",
    "res={my_list[-2]:my_list[-1]}\n",
    "for i in range(2, len(my_list)):\n",
    "    res={my_list[-i-1]:res}\n",
    "print('Результат:', res)"
   ]
  },
  {
   "cell_type": "code",
   "execution_count": 131,
   "id": "d4f34f14",
   "metadata": {},
   "outputs": [
    {
     "name": "stdout",
     "output_type": "stream",
     "text": [
      "Результат: {'2018-01-01': {'yandex': {'cpc': 100}}}\n"
     ]
    }
   ],
   "source": [
    "# составит словарь такого уровня вложенности, какова длина исходого списка\n",
    "my_list = ['2018-01-01', 'yandex', 'cpc', 100]\n",
    "res={my_list[-2]:my_list[-1]}\n",
    "for i in range(2, len(my_list)):\n",
    "    res={my_list[-i-1]:res}\n",
    "print('Результат:', res)"
   ]
  },
  {
   "cell_type": "code",
   "execution_count": 133,
   "id": "f42ca6e5",
   "metadata": {},
   "outputs": [
    {
     "name": "stdout",
     "output_type": "stream",
     "text": [
      "Результат: {'A': 2}\n"
     ]
    }
   ],
   "source": [
    "# составит словарь такого уровня вложенности, какова длина исходого списка\n",
    "my_list = ['A', 2]\n",
    "res={my_list[-2]:my_list[-1]}\n",
    "for i in range(2, len(my_list)):\n",
    "    res={my_list[-i-1]:res}\n",
    "print('Результат:', res)"
   ]
  },
  {
   "cell_type": "markdown",
   "id": "01a63d53",
   "metadata": {},
   "source": [
    "###### 6. Задание 6 <a id='task6'></a>"
   ]
  },
  {
   "cell_type": "code",
   "execution_count": 214,
   "id": "954a2921",
   "metadata": {},
   "outputs": [
    {
     "name": "stdout",
     "output_type": "stream",
     "text": [
      "Введите количество порций:3\n",
      "\n",
      "Результат:\n",
      "\n",
      "Сыр: 210 гр\n",
      "Томаты: 6 шт\n",
      "Огурцы: 60 гр\n",
      "Маслины: 30 гр\n",
      "Оливковое масло: 60 мл\n",
      "Салат: 30 гр\n",
      "Перец: 60 гр\n",
      "Колбаса: 90 гр\n",
      "Бекон: 90 гр\n",
      "Оливки: 30 гр\n",
      "Томаты: 60 гр\n",
      "Тесто: 300 гр\n",
      "Лимон: 3 шт\n",
      "Вода: 600 мл\n",
      "Сахар: 30 гр\n",
      "Лайм: 60 гр\n"
     ]
    }
   ],
   "source": [
    "# будет запрашивать  количество порций для приготовления  блюд и отображать информацию о суммарном количестве требуемых ингредиентов в указанном виде\n",
    "cook_book = {\n",
    "    'салат': [\n",
    "        {'ingridient_name': 'сыр', 'quantity': 50, 'measure': 'гр'},\n",
    "        {'ingridient_name': 'томаты', 'quantity': 2, 'measure': 'шт'},\n",
    "        {'ingridient_name': 'огурцы', 'quantity': 20, 'measure': 'гр'},\n",
    "        {'ingridient_name': 'маслины', 'quantity': 10, 'measure': 'гр'},\n",
    "        {'ingridient_name': 'оливковое масло', 'quantity': 20, 'measure': 'мл'},\n",
    "        {'ingridient_name': 'салат', 'quantity': 10, 'measure': 'гр'},\n",
    "        {'ingridient_name': 'перец', 'quantity': 20, 'measure': 'гр'}\n",
    "    ],\n",
    "    'пицца': [\n",
    "        {'ingridient_name': 'сыр', 'quantity': 20, 'measure': 'гр'},\n",
    "        {'ingridient_name': 'колбаса', 'quantity': 30, 'measure': 'гр'},\n",
    "        {'ingridient_name': 'бекон', 'quantity': 30, 'measure': 'гр'},\n",
    "        {'ingridient_name': 'оливки', 'quantity': 10, 'measure': 'гр'},\n",
    "        {'ingridient_name': 'томаты', 'quantity': 20, 'measure': 'гр'},\n",
    "        {'ingridient_name': 'тесто', 'quantity': 100, 'measure': 'гр'},\n",
    "    ],\n",
    "    'лимонад': [\n",
    "        {'ingridient_name': 'лимон', 'quantity': 1, 'measure': 'шт'},\n",
    "        {'ingridient_name': 'вода', 'quantity': 200, 'measure': 'мл'},\n",
    "        {'ingridient_name': 'сахар', 'quantity': 10, 'measure': 'гр'},\n",
    "        {'ingridient_name': 'лайм', 'quantity': 20, 'measure': 'гр'},\n",
    "    ]\n",
    "}\n",
    "portion = int(input('Введите количество порций:'))\n",
    "list_p = {}\n",
    "print()\n",
    "print('Результат:')\n",
    "print()\n",
    "for k, dish in cook_book.items():\n",
    "    for i in dish:\n",
    "        if (i['ingridient_name'], i['measure']) not in list_p:\n",
    "            list_p.setdefault(\n",
    "                (i['ingridient_name'], i['measure']), i['quantity'])\n",
    "        else:\n",
    "            list_p[i['ingridient_name'], i['measure']] += i['quantity']\n",
    "for pos, n in list_p.items():\n",
    "    print(pos[0].capitalize()+':', n*portion, pos[1])"
   ]
  },
  {
   "cell_type": "code",
   "execution_count": null,
   "id": "c7d4c2e0",
   "metadata": {},
   "outputs": [],
   "source": []
  }
 ],
 "metadata": {
  "kernelspec": {
   "display_name": "Python 3",
   "language": "python",
   "name": "python3"
  },
  "language_info": {
   "codemirror_mode": {
    "name": "ipython",
    "version": 3
   },
   "file_extension": ".py",
   "mimetype": "text/x-python",
   "name": "python",
   "nbconvert_exporter": "python",
   "pygments_lexer": "ipython3",
   "version": "3.8.8"
  },
  "varInspector": {
   "cols": {
    "lenName": 16,
    "lenType": 16,
    "lenVar": 40
   },
   "kernels_config": {
    "python": {
     "delete_cmd_postfix": "",
     "delete_cmd_prefix": "del ",
     "library": "var_list.py",
     "varRefreshCmd": "print(var_dic_list())"
    },
    "r": {
     "delete_cmd_postfix": ") ",
     "delete_cmd_prefix": "rm(",
     "library": "var_list.r",
     "varRefreshCmd": "cat(var_dic_list()) "
    }
   },
   "types_to_exclude": [
    "module",
    "function",
    "builtin_function_or_method",
    "instance",
    "_Feature"
   ],
   "window_display": false
  }
 },
 "nbformat": 4,
 "nbformat_minor": 5
}
