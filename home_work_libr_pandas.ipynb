{
 "cells": [
  {
   "cell_type": "markdown",
   "id": "cda2cc9a",
   "metadata": {},
   "source": [
    "### Домашнее задание «Библиотека Pandas»\n"
   ]
  },
  {
   "cell_type": "markdown",
   "id": "3d35c18d",
   "metadata": {},
   "source": [
    "\n",
    "### Оглавление\n",
    "  \n",
    "1. [Задание 1](#task1)   \n",
    "2. [Задание 2](#task2)  \n",
    "3. [Задание 3](#task3)  \n"
   ]
  },
  {
   "cell_type": "markdown",
   "id": "db64c518",
   "metadata": {},
   "source": [
    "###### 1. Задание 1 <a id='task1'></a>"
   ]
  },
  {
   "cell_type": "markdown",
   "id": "83084cd7",
   "metadata": {},
   "source": [
    "Скачайте с сайта https://grouplens.org/datasets/movielens/ датасет любого размера. Определите какому фильму было выставлено больше всего оценок 5.0."
   ]
  },
  {
   "cell_type": "code",
   "execution_count": 8,
   "id": "59408094",
   "metadata": {},
   "outputs": [
    {
     "name": "stdout",
     "output_type": "stream",
     "text": [
      "Больше всего оценок 5.0. было выставлено фильму с movieId : 318\n"
     ]
    }
   ],
   "source": [
    "import pandas as pd\n",
    "\n",
    "dt_ = pd.read_csv('ml-latest-small/ratings.csv')\n",
    "id_m = (dt_[dt_.rating == 5])['movieId'].value_counts().keys().tolist()[0]\n",
    "print('Больше всего оценок 5.0. было выставлено фильму с movieId :', id_m)"
   ]
  },
  {
   "cell_type": "markdown",
   "id": "12f16e19",
   "metadata": {},
   "source": [
    "###### 2. Задание 2 <a id='task2'></a>"
   ]
  },
  {
   "cell_type": "markdown",
   "id": "b1551ab3",
   "metadata": {},
   "source": [
    "По данным файла power.csv посчитайте суммарное потребление стран Прибалтики (Латвия, Литва и Эстония) категорий 4, 12 и 21 за период с 2005 по 2010 года. Не учитывайте в расчетах отрицательные значения quantity."
   ]
  },
  {
   "cell_type": "code",
   "execution_count": 3,
   "id": "806f8c20",
   "metadata": {},
   "outputs": [
    {
     "name": "stdout",
     "output_type": "stream",
     "text": [
      "Cуммарное потребление стран Прибалтики : 240580.0\n"
     ]
    }
   ],
   "source": [
    "data = pd.read_csv('power.csv')\n",
    "end_sort = data.query(\n",
    "    \"(country == 'Estonia' or country == 'Latvia' or country == 'Lithuania') and (category == 4 or category == 12 or category == 21) and (2005 <= year <= 2010) and (quantity > 0)\")\n",
    "sum_ = end_sort['quantity'].sum()\n",
    "print('Cуммарное потребление стран Прибалтики :', sum_)"
   ]
  },
  {
   "cell_type": "markdown",
   "id": "cfa4913a",
   "metadata": {},
   "source": [
    "###### 3. Задание 3 <a id='task3'></a>"
   ]
  },
  {
   "cell_type": "markdown",
   "id": "3ef483dd",
   "metadata": {},
   "source": [
    "Выберите страницу любого сайта с табличными данными. Импортируйте таблицы в pandas dataframe.\n",
    "Примеры страниц (необязательно брать именно эти):\n",
    "https://fortrader.org/quotesm https://www.finanz.ru/valyuty/v-realnom-vremeni"
   ]
  },
  {
   "cell_type": "code",
   "execution_count": 4,
   "id": "73eb1d4d",
   "metadata": {},
   "outputs": [
    {
     "data": {
      "text/plain": [
       "[    Unnamed: 0              Рубль  Предложение  Спрос  Предыдущее закрытие  \\\n",
       " 0          NaN            GBP/RUB      1020149      -              1020312   \n",
       " 1          NaN            EUR/RUB       874830      -               874435   \n",
       " 2          NaN            USD/RUB       740795      -               740745   \n",
       " 3          NaN            JPY/RUB        06732      -                06728   \n",
       " 4          NaN            CNY/RUB       114334      -               114328   \n",
       " 5          NaN            CHF/RUB       806093      -               806042   \n",
       " 6          NaN               Евро  Предложение  Спрос  Предыдущее закрытие   \n",
       " 7          NaN            EUR/USD        11805      -                11812   \n",
       " 8          NaN            EUR/GBP        08575      -                08576   \n",
       " 9          NaN            EUR/JPY      1299750      -              1299500   \n",
       " 10         NaN            EUR/CHF        10855      -                10859   \n",
       " 11         NaN         Доллар США  Предложение  Спрос  Предыдущее закрытие   \n",
       " 12         NaN            USD/EUR        08471      -                08471   \n",
       " 13         NaN            USD/GBP        07262      -                07260   \n",
       " 14         NaN            USD/JPY      1100450      -              1100950   \n",
       " 15         NaN            USD/CHF        09190      -                09196   \n",
       " 16         NaN      Японская иена  Предложение  Спрос  Предыдущее закрытие   \n",
       " 17         NaN    JPY/EUR (100:1)        07700      -                07700   \n",
       " 18         NaN            JPY/GBP        00066      -                00066   \n",
       " 19         NaN            JPY/USD        00091      -                00091   \n",
       " 20         NaN    JPY/CHF (100:1)        08300      -                08300   \n",
       " 21         NaN    Фунт стерлингов  Предложение  Спрос  Предыдущее закрытие   \n",
       " 22         NaN            GBP/USD        13771      -                13774   \n",
       " 23         NaN            GBP/JPY      1515430      -              1516449   \n",
       " 24         NaN            GBP/EUR        11668      -                11668   \n",
       " 25         NaN            GBP/CHF        12643      -                12667   \n",
       " 26         NaN  Швейцарский франк  Предложение  Спрос  Предыдущее закрытие   \n",
       " 27         NaN            GBP/CHF        12643      -                12667   \n",
       " 28         NaN            EUR/CHF        10855      -                10859   \n",
       " 29         NaN    JPY/CHF (100:1)        08300      -                08300   \n",
       " 30         NaN            USD/CHF        09190      -                09196   \n",
       " 31         NaN  Украинская гривна  Предложение  Спрос  Предыдущее закрытие   \n",
       " 32         NaN            EUR/UAH       321477      -               321496   \n",
       " 33         NaN            USD/UAH       272334      -               272350   \n",
       " 34         NaN            CHF/UAH       296340      -               296355   \n",
       " 35         NaN            GBP/UAH       375032      -               375135   \n",
       " \n",
       "           %  Абсолютное значение       Время  \n",
       " 0   -0,02 %               -00163  17.07.2021  \n",
       " 1    0,05 %                00395  17.07.2021  \n",
       " 2    0,01 %                00050  17.07.2021  \n",
       " 3    0,05 %                00003  17.07.2021  \n",
       " 4    0,01 %                00006  17.07.2021  \n",
       " 5    0,01 %                00051  17.07.2021  \n",
       " 6         %  Абсолютное значение       Время  \n",
       " 7   -0,06 %               -00008  17.07.2021  \n",
       " 8   -0,01 %               -00001  17.07.2021  \n",
       " 9    0,02 %                00250  17.07.2021  \n",
       " 10  -0,04 %               -00004  17.07.2021  \n",
       " 11        %  Абсолютное значение       Время  \n",
       " 12   0,00 %                00000  17.07.2021  \n",
       " 13   0,02 %                00002  17.07.2021  \n",
       " 14  -0,05 %               -00500  17.07.2021  \n",
       " 15  -0,07 %               -00007  17.07.2021  \n",
       " 16        %  Абсолютное значение       Время  \n",
       " 17   0,05 %                00000  17.07.2021  \n",
       " 18   0,07 %                00000  17.07.2021  \n",
       " 19   0,05 %                00000  17.07.2021  \n",
       " 20  -0,02 %                00000  17.07.2021  \n",
       " 21        %  Абсолютное значение       Время  \n",
       " 22  -0,02 %               -00003  17.07.2021  \n",
       " 23  -0,07 %               -01019  17.07.2021  \n",
       " 24   0,00 %               -00001  17.07.2021  \n",
       " 25  -0,19 %               -00024  17.07.2021  \n",
       " 26        %  Абсолютное значение       Время  \n",
       " 27  -0,19 %               -00024  17.07.2021  \n",
       " 28  -0,04 %               -00004  17.07.2021  \n",
       " 29  -0,02 %                00000  17.07.2021  \n",
       " 30  -0,07 %               -00007  17.07.2021  \n",
       " 31        %  Абсолютное значение       Время  \n",
       " 32  -0,01 %               -00019  17.07.2021  \n",
       " 33  -0,01 %               -00017  17.07.2021  \n",
       " 34  -0,01 %               -00015  17.07.2021  \n",
       " 35  -0,03 %               -00103  17.07.2021  ]"
      ]
     },
     "execution_count": 4,
     "metadata": {},
     "output_type": "execute_result"
    }
   ],
   "source": [
    "page_url = 'https://www.finanz.ru/valyuty/v-realnom-vremeni'\n",
    "df_ = pd.read_html(page_url, attrs={'class': \"quote_list\"}, encoding='utf-8')\n",
    "df_"
   ]
  }
 ],
 "metadata": {
  "kernelspec": {
   "display_name": "Python 3",
   "language": "python",
   "name": "python3"
  },
  "language_info": {
   "codemirror_mode": {
    "name": "ipython",
    "version": 3
   },
   "file_extension": ".py",
   "mimetype": "text/x-python",
   "name": "python",
   "nbconvert_exporter": "python",
   "pygments_lexer": "ipython3",
   "version": "3.8.8"
  },
  "varInspector": {
   "cols": {
    "lenName": 16,
    "lenType": 16,
    "lenVar": 40
   },
   "kernels_config": {
    "python": {
     "delete_cmd_postfix": "",
     "delete_cmd_prefix": "del ",
     "library": "var_list.py",
     "varRefreshCmd": "print(var_dic_list())"
    },
    "r": {
     "delete_cmd_postfix": ") ",
     "delete_cmd_prefix": "rm(",
     "library": "var_list.r",
     "varRefreshCmd": "cat(var_dic_list()) "
    }
   },
   "types_to_exclude": [
    "module",
    "function",
    "builtin_function_or_method",
    "instance",
    "_Feature"
   ],
   "window_display": false
  }
 },
 "nbformat": 4,
 "nbformat_minor": 5
}
