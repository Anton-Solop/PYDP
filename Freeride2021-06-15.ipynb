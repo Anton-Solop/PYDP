{
 "cells": [
  {
   "cell_type": "code",
   "execution_count": 7,
   "id": "dcb7b9b8",
   "metadata": {},
   "outputs": [
    {
     "name": "stdout",
     "output_type": "stream",
     "text": [
      "<class 'bool'>\n",
      "False\n"
     ]
    }
   ],
   "source": [
    "x=3\n",
    "y=5\n",
    "print(type(x<y))\n",
    "print((x>y))"
   ]
  },
  {
   "cell_type": "code",
   "execution_count": 8,
   "id": "4272bc34",
   "metadata": {},
   "outputs": [
    {
     "name": "stdout",
     "output_type": "stream",
     "text": [
      "2\n",
      "2\n",
      "-1\n"
     ]
    }
   ],
   "source": [
    "print(1+True)\n",
    "print(True+True)\n",
    "print(False-True)"
   ]
  },
  {
   "cell_type": "code",
   "execution_count": 10,
   "id": "4a194cca",
   "metadata": {},
   "outputs": [
    {
     "data": {
      "text/plain": [
       "'HELLO WORLD!'"
      ]
     },
     "execution_count": 10,
     "metadata": {},
     "output_type": "execute_result"
    }
   ],
   "source": [
    "test= \"Hello world!\"\n",
    "test.upper()"
   ]
  },
  {
   "cell_type": "code",
   "execution_count": 12,
   "id": "d119051d",
   "metadata": {},
   "outputs": [
    {
     "name": "stdout",
     "output_type": "stream",
     "text": [
      "Please Provide Input String\n",
      "RRRRRR\n",
      "Input String in Uppercase = RRRRRR\n",
      "Original String = RRRRRR\n"
     ]
    }
   ],
   "source": [
    "# upper() с пользовательским вводом\n",
    "s = input('Please Provide Input String\\n') \n",
    "print('Input String in Uppercase =', s.upper()) \n",
    "print('Original String =', s)\n"
   ]
  },
  {
   "cell_type": "code",
   "execution_count": 4,
   "id": "dd6fc6e8",
   "metadata": {},
   "outputs": [
    {
     "ename": "SyntaxError",
     "evalue": "invalid syntax (<ipython-input-4-0d26a3eb65e2>, line 5)",
     "output_type": "error",
     "traceback": [
      "\u001b[1;36m  File \u001b[1;32m\"<ipython-input-4-0d26a3eb65e2>\"\u001b[1;36m, line \u001b[1;32m5\u001b[0m\n\u001b[1;33m    print({my_number :.1%})\u001b[0m\n\u001b[1;37m                         ^\u001b[0m\n\u001b[1;31mSyntaxError\u001b[0m\u001b[1;31m:\u001b[0m invalid syntax\n"
     ]
    }
   ],
   "source": [
    "my_number = 0.345\n",
    "res = f'Площадь: {my_number :.1%}'\n",
    "# res\n",
    "print(f'Площадь: {my_number :.1%}')\n",
    "print({my_number :.1%})"
   ]
  },
  {
   "cell_type": "code",
   "execution_count": 22,
   "id": "afd9f2e6",
   "metadata": {},
   "outputs": [
    {
     "name": "stdout",
     "output_type": "stream",
     "text": [
      "Hello World!\n",
      "\n",
      "hello world!\n",
      "\n",
      "Hello world!\n",
      "\n",
      "Hello World!\n",
      "\n",
      "Hello day!\n",
      "12\n"
     ]
    }
   ],
   "source": [
    "test= \"Hello World!\"\n",
    "print(test)\n",
    "print()\n",
    "print(test.lower())\n",
    "print()\n",
    "print(test.capitalize())\n",
    "print()\n",
    "print(test.title())\n",
    "print()\n",
    "print(test.replace('World', 'day'))\n",
    "print(len(test))"
   ]
  },
  {
   "cell_type": "code",
   "execution_count": null,
   "id": "b2778345",
   "metadata": {},
   "outputs": [],
   "source": [
    "test= \"Hello World!\"\n",
    "test.lower()"
   ]
  },
  {
   "cell_type": "code",
   "execution_count": null,
   "id": "40b92532",
   "metadata": {},
   "outputs": [],
   "source": [
    "Для того, что бы каждое слово в строке начиналось с заглавной буквы используйте метод str.title()."
   ]
  },
  {
   "cell_type": "code",
   "execution_count": 31,
   "id": "3a5ed907",
   "metadata": {},
   "outputs": [
    {
     "name": "stdout",
     "output_type": "stream",
     "text": [
      "find\n",
      "\n",
      "!!!hkkj rtywbcvcdgf kjllk bcv sldkfl!!! 351.5 \n"
     ]
    }
   ],
   "source": [
    "rty = 'rtywbcvcdgf'\n",
    "sdf = 'bcv'\n",
    "jh = 345.5\n",
    "if sdf in rty:\n",
    "    print('find')\n",
    "print()\n",
    "print(f'!!!hkkj {rty} kjllk {sdf} sldkfl!!! {jh+6} ')"
   ]
  },
  {
   "cell_type": "code",
   "execution_count": 44,
   "id": "a703b233",
   "metadata": {},
   "outputs": [
    {
     "name": "stdout",
     "output_type": "stream",
     "text": [
      "[['qweqwe', 'qwewqe'], ['qweqwe32', 'xswe'], ['klskdkc', 'lowtrzvc'], ['jkznbct', 'iwugsvv']]\n",
      "\n",
      "lowtrzvc ['jkznbct', 'iwugsvv']\n",
      "\n",
      "[['qweqwe', 'qwewqe'], ['qweqwe32', 'xswe'], ['klskdkc', 123.0], ['jkznbct', 'iwugsvv']]\n"
     ]
    },
    {
     "data": {
      "text/plain": [
       "[[7, 'd'], ['r', 5], ['klskdkc', 123.0], ['jkznbct', 'iwugsvv']]"
      ]
     },
     "execution_count": 44,
     "metadata": {},
     "output_type": "execute_result"
    }
   ],
   "source": [
    "dfw = [['qweqwe', 'qwewqe'], ['qweqwe32', 'xswe'], [\n",
    "    'klskdkc', 'lowtrzvc'], ['jkznbct', 'iwugsvv']]\n",
    "print(dfw)\n",
    "print()\n",
    "print(dfw[-2][-1], dfw[-1])\n",
    "dfw[-2][-1] = 123.\n",
    "print()\n",
    "print(dfw)\n",
    "dfw[0:2] = [7,'d'], ['r',5]\n",
    "dfw"
   ]
  },
  {
   "cell_type": "code",
   "execution_count": 46,
   "id": "60d4a637",
   "metadata": {},
   "outputs": [
    {
     "name": "stdout",
     "output_type": "stream",
     "text": [
      "2 8\n"
     ]
    }
   ],
   "source": [
    "s, f = [2, 8]\n",
    "print(s, f)"
   ]
  },
  {
   "cell_type": "code",
   "execution_count": null,
   "id": "8e156539",
   "metadata": {},
   "outputs": [],
   "source": []
  },
  {
   "cell_type": "code",
   "execution_count": null,
   "id": "68f0624a",
   "metadata": {},
   "outputs": [],
   "source": []
  },
  {
   "cell_type": "code",
   "execution_count": null,
   "id": "510f306c",
   "metadata": {},
   "outputs": [],
   "source": []
  },
  {
   "cell_type": "code",
   "execution_count": null,
   "id": "a059d401",
   "metadata": {},
   "outputs": [],
   "source": []
  }
 ],
 "metadata": {
  "kernelspec": {
   "display_name": "Python 3",
   "language": "python",
   "name": "python3"
  },
  "language_info": {
   "codemirror_mode": {
    "name": "ipython",
    "version": 3
   },
   "file_extension": ".py",
   "mimetype": "text/x-python",
   "name": "python",
   "nbconvert_exporter": "python",
   "pygments_lexer": "ipython3",
   "version": "3.8.8"
  },
  "varInspector": {
   "cols": {
    "lenName": 16,
    "lenType": 16,
    "lenVar": 40
   },
   "kernels_config": {
    "python": {
     "delete_cmd_postfix": "",
     "delete_cmd_prefix": "del ",
     "library": "var_list.py",
     "varRefreshCmd": "print(var_dic_list())"
    },
    "r": {
     "delete_cmd_postfix": ") ",
     "delete_cmd_prefix": "rm(",
     "library": "var_list.r",
     "varRefreshCmd": "cat(var_dic_list()) "
    }
   },
   "types_to_exclude": [
    "module",
    "function",
    "builtin_function_or_method",
    "instance",
    "_Feature"
   ],
   "window_display": false
  }
 },
 "nbformat": 4,
 "nbformat_minor": 5
}
