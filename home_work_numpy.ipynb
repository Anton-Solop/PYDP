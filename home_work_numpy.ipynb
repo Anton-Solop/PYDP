{
 "cells": [
  {
   "cell_type": "markdown",
   "id": "8a332f9c",
   "metadata": {},
   "source": [
    "### Домашнее задание «Библиотека numpy. Вычислительные задачи»\n"
   ]
  },
  {
   "cell_type": "markdown",
   "id": "b224d862",
   "metadata": {},
   "source": [
    "\n",
    "### Оглавление\n",
    "  \n",
    "1. [Задание 1](#task1)   \n",
    "2. [Задание 2](#task2)  \n",
    "3. [Задание 3](#task3)  \n",
    "4. [Задание 4](#task4)  "
   ]
  },
  {
   "cell_type": "markdown",
   "id": "ce09e873",
   "metadata": {},
   "source": [
    "###### 1. Задание 1 <a id='task1'></a>"
   ]
  },
  {
   "cell_type": "markdown",
   "id": "ee032f82",
   "metadata": {},
   "source": [
    "Создайте numpy array с элементами от числа N до 0 (например, для N = 10 это будет array([9, 8, 7, 6, 5, 4, 3, 2, 1, 0]))."
   ]
  },
  {
   "cell_type": "code",
   "execution_count": 6,
   "id": "0b68964b",
   "metadata": {},
   "outputs": [
    {
     "name": "stdout",
     "output_type": "stream",
     "text": [
      "Введите N : 10\n"
     ]
    },
    {
     "data": {
      "text/plain": [
       "array([9, 8, 7, 6, 5, 4, 3, 2, 1, 0])"
      ]
     },
     "execution_count": 6,
     "metadata": {},
     "output_type": "execute_result"
    }
   ],
   "source": [
    "import numpy as np\n",
    "n = int(input('Введите N : '))\n",
    "x = np.flipud(np.arange(0, n))\n",
    "x"
   ]
  },
  {
   "cell_type": "markdown",
   "id": "c9e56f43",
   "metadata": {},
   "source": [
    "###### 2. Задание 2 <a id='task2'></a>"
   ]
  },
  {
   "cell_type": "markdown",
   "id": "adb37233",
   "metadata": {},
   "source": [
    "Создайте диагональную матрицу с элементами от N до 0. Посчитайте сумму ее значений на диагонали."
   ]
  },
  {
   "cell_type": "code",
   "execution_count": 4,
   "id": "0f917ed8",
   "metadata": {},
   "outputs": [
    {
     "name": "stdout",
     "output_type": "stream",
     "text": [
      "Введите N : 10\n",
      "\n",
      " [[9 0 0 0 0 0 0 0 0 0]\n",
      " [0 8 0 0 0 0 0 0 0 0]\n",
      " [0 0 7 0 0 0 0 0 0 0]\n",
      " [0 0 0 6 0 0 0 0 0 0]\n",
      " [0 0 0 0 5 0 0 0 0 0]\n",
      " [0 0 0 0 0 4 0 0 0 0]\n",
      " [0 0 0 0 0 0 3 0 0 0]\n",
      " [0 0 0 0 0 0 0 2 0 0]\n",
      " [0 0 0 0 0 0 0 0 1 0]\n",
      " [0 0 0 0 0 0 0 0 0 0]] \n",
      "\n",
      " Сумма значений на диагонали : 45\n"
     ]
    }
   ],
   "source": [
    "# Вариант 1\n",
    "import numpy as np\n",
    "n = int(input('Введите N : '))\n",
    "x = np.diag(np.flipud(np.arange(0, n)))\n",
    "sum_diag = x.trace()\n",
    "print('\\n', x, '\\n\\n', 'Сумма значений на диагонали :', sum_diag)"
   ]
  },
  {
   "cell_type": "code",
   "execution_count": 3,
   "id": "bf2ac8ae",
   "metadata": {},
   "outputs": [
    {
     "name": "stdout",
     "output_type": "stream",
     "text": [
      "Введите N : 10\n",
      "\n",
      " [[9 0 0 0 0 0 0 0 0 0]\n",
      " [0 8 0 0 0 0 0 0 0 0]\n",
      " [0 0 7 0 0 0 0 0 0 0]\n",
      " [0 0 0 6 0 0 0 0 0 0]\n",
      " [0 0 0 0 5 0 0 0 0 0]\n",
      " [0 0 0 0 0 4 0 0 0 0]\n",
      " [0 0 0 0 0 0 3 0 0 0]\n",
      " [0 0 0 0 0 0 0 2 0 0]\n",
      " [0 0 0 0 0 0 0 0 1 0]\n",
      " [0 0 0 0 0 0 0 0 0 0]] \n",
      "\n",
      " Сумма значений на диагонали : 45\n"
     ]
    }
   ],
   "source": [
    "# Вариант 2\n",
    "import numpy as np\n",
    "n = int(input('Введите N : '))\n",
    "x = np.diag(np.flipud(np.arange(0, n)))\n",
    "sum_diag = sum(x[i][i] for i in range(n))\n",
    "print('\\n', x, '\\n\\n', 'Сумма значений на диагонали :', sum_diag)"
   ]
  },
  {
   "cell_type": "markdown",
   "id": "ae635c56",
   "metadata": {},
   "source": [
    "###### 3. Задание 3 <a id='task3'></a>"
   ]
  },
  {
   "cell_type": "markdown",
   "id": "38931c07",
   "metadata": {},
   "source": [
    "Решите систему уравнений:\n",
    "\n",
    "4x + 2y + z = 4\n",
    "\n",
    "x + 3y = 12\n",
    "\n",
    "5y + 4z = -3"
   ]
  },
  {
   "cell_type": "code",
   "execution_count": 5,
   "id": "fb2c9e73",
   "metadata": {},
   "outputs": [
    {
     "name": "stdout",
     "output_type": "stream",
     "text": [
      "X = 0.4666666666666668   Y = 3.844444444444444  Z = -5.555555555555555\n"
     ]
    }
   ],
   "source": [
    "import numpy as np\n",
    "# Матрица (левая часть системы)\n",
    "m1 = np.array([[4, 2, 1], [1, 3, 0], [0, 5, 4]])\n",
    "# Вектор (правая часть системы)\n",
    "v1 = np.array([4, 12, -3])\n",
    "rez_ = np.linalg.solve(m1, v1)\n",
    "print('X =', rez_[0], '  Y =', rez_[1], ' Z =', rez_[2])"
   ]
  },
  {
   "cell_type": "markdown",
   "id": "3bd7ccaa",
   "metadata": {},
   "source": [
    "###### 4. Задание 4 <a id='task4'></a>"
   ]
  },
  {
   "cell_type": "markdown",
   "id": "3cacad79",
   "metadata": {},
   "source": [
    "Имеется матрица (users_stats) покупок в интернет-магазине. Столбец А - ID пользователя. Остальные столбцы - количество покупок категорий товаров этим пользователем.\n",
    "\n",
    "На сайт заходит очередной посетитель, о покупках которого известно следующее: (next_user_stats). \n",
    "\n",
    "Найдите самого похожего пользователя. Т. е. посчитайте косинусное сходство между этим пользователем и всеми пользователями из массива user_stats"
   ]
  },
  {
   "cell_type": "code",
   "execution_count": 40,
   "id": "6dc2ba59",
   "metadata": {},
   "outputs": [
    {
     "name": "stdout",
     "output_type": "stream",
     "text": [
      "Cамый похожий пользователь c User ID = 8\n"
     ]
    }
   ],
   "source": [
    "import numpy as np\n",
    "\n",
    "\n",
    "def cosine(a, b):\n",
    "    \"\"\"\n",
    "    Подсчет косинуса угла между векторами a, b по их координатам\n",
    "    \"\"\"\n",
    "\n",
    "    # длины векторов\n",
    "    aLength = np.linalg.norm(a)\n",
    "    bLength = np.linalg.norm(b)\n",
    "\n",
    "    return np.dot(a, b) / (aLength * bLength)\n",
    "\n",
    "\n",
    "users_stats = np.array(\n",
    "    [\n",
    "        [2, 1, 0, 0, 0, 0],\n",
    "        [1, 1, 2, 1, 0, 0],\n",
    "        [2, 0, 1, 0, 0, 0],\n",
    "        [1, 1, 2, 1, 0, 1],\n",
    "        [0, 0, 1, 2, 0, 0],\n",
    "        [0, 0, 0, 0, 0, 5],\n",
    "        [1, 0, 0, 0, 0, 0],\n",
    "        [0, 1, 1, 0, 0, 0],\n",
    "        [0, 0, 0, 1, 1, 3],\n",
    "        [1, 0, 0, 2, 1, 4]\n",
    "    ],\n",
    "    np.int32\n",
    ")\n",
    "next_user_stats = np.array([0, 1, 2, 0, 0, 0])\n",
    "\n",
    "max_ = [0, 0]\n",
    "for user_id, user_st in enumerate(users_stats, start=1):\n",
    "    cos = cosine(user_st, next_user_stats)\n",
    "    if cos > max_[1]:\n",
    "        max_[0] = user_id\n",
    "        max_[1] = cos\n",
    "print('Cамый похожий пользователь c User ID =',  max_[0])"
   ]
  }
 ],
 "metadata": {
  "kernelspec": {
   "display_name": "Python 3",
   "language": "python",
   "name": "python3"
  },
  "language_info": {
   "codemirror_mode": {
    "name": "ipython",
    "version": 3
   },
   "file_extension": ".py",
   "mimetype": "text/x-python",
   "name": "python",
   "nbconvert_exporter": "python",
   "pygments_lexer": "ipython3",
   "version": "3.8.8"
  },
  "varInspector": {
   "cols": {
    "lenName": 16,
    "lenType": 16,
    "lenVar": 40
   },
   "kernels_config": {
    "python": {
     "delete_cmd_postfix": "",
     "delete_cmd_prefix": "del ",
     "library": "var_list.py",
     "varRefreshCmd": "print(var_dic_list())"
    },
    "r": {
     "delete_cmd_postfix": ") ",
     "delete_cmd_prefix": "rm(",
     "library": "var_list.r",
     "varRefreshCmd": "cat(var_dic_list()) "
    }
   },
   "types_to_exclude": [
    "module",
    "function",
    "builtin_function_or_method",
    "instance",
    "_Feature"
   ],
   "window_display": false
  }
 },
 "nbformat": 4,
 "nbformat_minor": 5
}
