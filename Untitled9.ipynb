{
 "cells": [
  {
   "cell_type": "markdown",
   "id": "15a5949c",
   "metadata": {},
   "source": [
    "## Оглавление\n",
    "  \n",
    "1. [индексирование, срезы, сортировка](#task1)   \n",
    "2. [продуктивность при работе с Jupyter Notebook](#task2)  \n",
    "3. [open и Работа с файлами.](#task3)  \n",
    "4. [Встроенные функции, выполняющие преобразование типов](#task4)  \n",
    "5. [ range()](#task5) \n",
    "6. [np.linspace()](#task6) \n",
    "7. [Строковые методы strip, lstrip, rstrip](#task7)   \n",
    "8. [Операторы в Python](#task8) \n",
    "9. [.append( )](#task9) \n",
    "10. [.extend( )](#task10) \n",
    "11. [.insert( )](#task11) \n",
    "12. [{ } Множества](#task12)"
   ]
  },
  {
   "cell_type": "markdown",
   "id": "d0949f2c",
   "metadata": {},
   "source": [
    "##### 1. индексирование, срезы, сортировка\n",
    "<a id='task1'></a>"
   ]
  },
  {
   "cell_type": "code",
   "execution_count": 2,
   "id": "986bee97",
   "metadata": {},
   "outputs": [
    {
     "name": "stdout",
     "output_type": "stream",
     "text": [
      "a\n",
      "e\n",
      "e\n",
      "d\n"
     ]
    }
   ],
   "source": [
    "# Индексированные коллекции\n",
    "\n",
    "# Рассмотрим индексированные коллекции (их еще называют последовательности — sequences) — список (list), кортеж (tuple), строку (string).\n",
    "\n",
    "my_str = \"abcde\"\n",
    "print(my_str[0]) \t\t# a - первый элемент\n",
    "print(my_str[-1])\t\t# e - последний элемент \n",
    "print(my_str[len(my_str)-1]) \t# e - так тоже можно взять последний элемент\n",
    "print(my_str[-2]) "
   ]
  },
  {
   "cell_type": "code",
   "execution_count": 3,
   "id": "0ad77abb",
   "metadata": {},
   "outputs": [
    {
     "name": "stdout",
     "output_type": "stream",
     "text": [
      "[1, 2, 3]\n",
      "1\n",
      "c\n"
     ]
    }
   ],
   "source": [
    "# Наши коллекции могут иметь несколько уровней вложенности, как список списков в примере ниже.\n",
    "# Для перехода на уровень глубже ставится вторая пара квадратных скобок и так далее.\n",
    "\n",
    "my_2lvl_list = [[1, 2, 3], ['a', 'b', 'c']]\n",
    "print(my_2lvl_list[0])      # [1, 2, 3] - первый элемент — первый вложенный список\n",
    "print(my_2lvl_list[0][0])   # 1 — первый элемент первого вложенного списка\n",
    "print(my_2lvl_list[1][-1])  # с — последний элемент второго вложенного списка"
   ]
  },
  {
   "cell_type": "code",
   "execution_count": null,
   "id": "d0a5b1cd",
   "metadata": {},
   "outputs": [],
   "source": [
    "Поскольку кортежи и строки у нас неизменяемые коллекции, то по индексу мы можем только брать элементы, но не менять их:\n",
    "\n",
    "my_tuple = (1, 2, 3, 4, 5)\n",
    "print(my_tuple[0])\t  # 1\n",
    "my_tuple[0] = 100         # TypeError: 'tuple' object does not support item assignment"
   ]
  }
 ],
 "metadata": {
  "kernelspec": {
   "display_name": "Python 3",
   "language": "python",
   "name": "python3"
  },
  "language_info": {
   "codemirror_mode": {
    "name": "ipython",
    "version": 3
   },
   "file_extension": ".py",
   "mimetype": "text/x-python",
   "name": "python",
   "nbconvert_exporter": "python",
   "pygments_lexer": "ipython3",
   "version": "3.8.8"
  },
  "varInspector": {
   "cols": {
    "lenName": 16,
    "lenType": 16,
    "lenVar": 40
   },
   "kernels_config": {
    "python": {
     "delete_cmd_postfix": "",
     "delete_cmd_prefix": "del ",
     "library": "var_list.py",
     "varRefreshCmd": "print(var_dic_list())"
    },
    "r": {
     "delete_cmd_postfix": ") ",
     "delete_cmd_prefix": "rm(",
     "library": "var_list.r",
     "varRefreshCmd": "cat(var_dic_list()) "
    }
   },
   "types_to_exclude": [
    "module",
    "function",
    "builtin_function_or_method",
    "instance",
    "_Feature"
   ],
   "window_display": false
  }
 },
 "nbformat": 4,
 "nbformat_minor": 5
}
