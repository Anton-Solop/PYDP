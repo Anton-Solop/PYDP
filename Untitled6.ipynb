{
 "cells": [
  {
   "cell_type": "markdown",
   "id": "07b3bbd4",
   "metadata": {},
   "source": [
    "#### Занятие 10 июня 2021"
   ]
  },
  {
   "cell_type": "code",
   "execution_count": 10,
   "id": "ccc4f068",
   "metadata": {},
   "outputs": [
    {
     "ename": "NameError",
     "evalue": "name 'revers' is not defined",
     "output_type": "error",
     "traceback": [
      "\u001b[1;31m---------------------------------------------------------------------------\u001b[0m",
      "\u001b[1;31mNameError\u001b[0m                                 Traceback (most recent call last)",
      "\u001b[1;32m<ipython-input-10-0a31c79b22f6>\u001b[0m in \u001b[0;36m<module>\u001b[1;34m\u001b[0m\n\u001b[0;32m      2\u001b[0m \u001b[1;32mdef\u001b[0m \u001b[0mmyfunc\u001b[0m\u001b[1;33m(\u001b[0m\u001b[0mx\u001b[0m\u001b[1;33m)\u001b[0m\u001b[1;33m:\u001b[0m\u001b[1;33m\u001b[0m\u001b[1;33m\u001b[0m\u001b[0m\n\u001b[0;32m      3\u001b[0m         \u001b[1;32mreturn\u001b[0m \u001b[0mx\u001b[0m \u001b[1;33m==\u001b[0m \u001b[0mrevers\u001b[0m\u001b[1;33m(\u001b[0m\u001b[0mx\u001b[0m\u001b[1;33m)\u001b[0m\u001b[1;33m\u001b[0m\u001b[1;33m\u001b[0m\u001b[0m\n\u001b[1;32m----> 4\u001b[1;33m \u001b[0mprint\u001b[0m \u001b[1;33m(\u001b[0m\u001b[0mmyfunc\u001b[0m\u001b[1;33m(\u001b[0m\u001b[0mx\u001b[0m\u001b[1;33m)\u001b[0m\u001b[1;33m)\u001b[0m\u001b[1;33m\u001b[0m\u001b[1;33m\u001b[0m\u001b[0m\n\u001b[0m",
      "\u001b[1;32m<ipython-input-10-0a31c79b22f6>\u001b[0m in \u001b[0;36mmyfunc\u001b[1;34m(x)\u001b[0m\n\u001b[0;32m      1\u001b[0m \u001b[0mx\u001b[0m \u001b[1;33m=\u001b[0m \u001b[1;34m'retter'\u001b[0m\u001b[1;33m\u001b[0m\u001b[1;33m\u001b[0m\u001b[0m\n\u001b[0;32m      2\u001b[0m \u001b[1;32mdef\u001b[0m \u001b[0mmyfunc\u001b[0m\u001b[1;33m(\u001b[0m\u001b[0mx\u001b[0m\u001b[1;33m)\u001b[0m\u001b[1;33m:\u001b[0m\u001b[1;33m\u001b[0m\u001b[1;33m\u001b[0m\u001b[0m\n\u001b[1;32m----> 3\u001b[1;33m         \u001b[1;32mreturn\u001b[0m \u001b[0mx\u001b[0m \u001b[1;33m==\u001b[0m \u001b[0mrevers\u001b[0m\u001b[1;33m(\u001b[0m\u001b[0mx\u001b[0m\u001b[1;33m)\u001b[0m\u001b[1;33m\u001b[0m\u001b[1;33m\u001b[0m\u001b[0m\n\u001b[0m\u001b[0;32m      4\u001b[0m \u001b[0mprint\u001b[0m \u001b[1;33m(\u001b[0m\u001b[0mmyfunc\u001b[0m\u001b[1;33m(\u001b[0m\u001b[0mx\u001b[0m\u001b[1;33m)\u001b[0m\u001b[1;33m)\u001b[0m\u001b[1;33m\u001b[0m\u001b[1;33m\u001b[0m\u001b[0m\n",
      "\u001b[1;31mNameError\u001b[0m: name 'revers' is not defined"
     ]
    }
   ],
   "source": [
    "\n",
    "\n",
    "x = 'retter'\n",
    "def myfunc(x):\n",
    "        return x == revers(x)\n",
    "print (myfunc(x))"
   ]
  },
  {
   "cell_type": "code",
   "execution_count": null,
   "id": "c274ca21",
   "metadata": {},
   "outputs": [],
   "source": [
    "def func(*args):\n",
    "...     return args"
   ]
  },
  {
   "cell_type": "code",
   "execution_count": null,
   "id": "64ff9738",
   "metadata": {},
   "outputs": [],
   "source": [
    ">>> func = lambda *args: args\n",
    ">>> func(1, 2, 3, 4)\n",
    "(1, 2, 3, 4)"
   ]
  },
  {
   "cell_type": "code",
   "execution_count": null,
   "id": "e3a875cc",
   "metadata": {},
   "outputs": [],
   "source": [
    "dict_1 = {'flat_1': 10500, 'flat_2': 11000}\n",
    "dict_2 = {'flat_3': 15000}\n",
    "dict_3 = {'flat_4': 6500, 'flat_5': 7000, 'flat_6': 6000}\n"
   ]
  },
  {
   "cell_type": "code",
   "execution_count": null,
   "id": "6e332c40",
   "metadata": {},
   "outputs": [],
   "source": [
    "def ave_price(*args):\n",
    "    cost = 0\n",
    "    count = 0\n",
    "    for dict in args:\n",
    "        cost = cost + sum(dict.values())\n",
    "        count += 1\n",
    "    return cost / count\n",
    "dict_1 = {'flat_1': 10500, 'flat_2': 11000}\n",
    "dict_2 = {'flat_3': 15000}\n",
    "dict_3 = {'flat_4': 6500, 'flat_5': 7000, 'flat_6': 6000}\n",
    "\n",
    "ave_price(dict_1, dict_2, dict_3)"
   ]
  },
  {
   "cell_type": "code",
   "execution_count": null,
   "id": "90c5136a",
   "metadata": {},
   "outputs": [],
   "source": [
    "prices = [[100, 200, 400, 600], [200, 500], [100, 200, 100, 100], [800, 900]]"
   ]
  },
  {
   "cell_type": "code",
   "execution_count": null,
   "id": "e72a9736",
   "metadata": {},
   "outputs": [],
   "source": [
    "def ave_price(*args):\n",
    "    cost = 0\n",
    "    count = 0\n",
    "    for dict in args:\n",
    "        cost = cost + sum(dict.values())\n",
    "        count += 1\n",
    "    return cost / count"
   ]
  },
  {
   "cell_type": "code",
   "execution_count": null,
   "id": "dbb65205",
   "metadata": {},
   "outputs": [],
   "source": [
    "def average_prices(prcs):\n",
    "    return [sum(price) / len(price) for price in prcs]\n",
    "print(average_prices(prices))"
   ]
  },
  {
   "cell_type": "code",
   "execution_count": null,
   "id": "f4bbaa3f",
   "metadata": {},
   "outputs": [],
   "source": [
    "def ave_price(*args):\n",
    "    cost = 0\n",
    "    count = 0\n",
    "    for dict in args:\n",
    "        cost = cost + sum(dict.values())\n",
    "        count += 1\n",
    "    return cost / count\n",
    "dict_1 = {'flat_1': 10500, 'flat_2': 11000}\n",
    "dict_2 = {'flat_3': 15000}\n",
    "dict_3 = {'flat_4': 6500, 'flat_5': 7000, 'flat_6': 6000}\n",
    "\n",
    "ave_price(dict_1, dict_2, dict_3)"
   ]
  },
  {
   "cell_type": "code",
   "execution_count": null,
   "id": "f6d56bdf",
   "metadata": {},
   "outputs": [],
   "source": [
    "def average_prices(prcs):\n",
    "    return [sum(price) / len(price) for price in prcs]\n",
    "print(average_prices(prices))"
   ]
  },
  {
   "cell_type": "code",
   "execution_count": null,
   "id": "25874ef5",
   "metadata": {},
   "outputs": [],
   "source": []
  },
  {
   "cell_type": "code",
   "execution_count": null,
   "id": "bbb84df9",
   "metadata": {},
   "outputs": [],
   "source": [
    "my_dict = {\n",
    "    'id1': 654321, \n",
    "    'id2': 123456, \n",
    "    'id3': 777777"
   ]
  },
  {
   "cell_type": "code",
   "execution_count": 25,
   "id": "3a563ed0",
   "metadata": {},
   "outputs": [
    {
     "data": {
      "text/plain": [
       "1"
      ]
     },
     "execution_count": 25,
     "metadata": {},
     "output_type": "execute_result"
    }
   ],
   "source": [
    "-2 % 3"
   ]
  },
  {
   "cell_type": "code",
   "execution_count": 12,
   "id": "cf0f54a4",
   "metadata": {},
   "outputs": [
    {
     "data": {
      "text/plain": [
       "1"
      ]
     },
     "execution_count": 12,
     "metadata": {},
     "output_type": "execute_result"
    }
   ],
   "source": [
    "4%3"
   ]
  },
  {
   "cell_type": "code",
   "execution_count": 31,
   "id": "01c67a2a",
   "metadata": {},
   "outputs": [
    {
     "data": {
      "text/plain": [
       "-1"
      ]
     },
     "execution_count": 31,
     "metadata": {},
     "output_type": "execute_result"
    }
   ],
   "source": [
    "-2//3\n"
   ]
  },
  {
   "cell_type": "code",
   "execution_count": 29,
   "id": "4498adec",
   "metadata": {},
   "outputs": [
    {
     "data": {
      "text/plain": [
       "0"
      ]
     },
     "execution_count": 29,
     "metadata": {},
     "output_type": "execute_result"
    }
   ],
   "source": [
    "1//3"
   ]
  },
  {
   "cell_type": "code",
   "execution_count": 19,
   "id": "c51bd0c7",
   "metadata": {},
   "outputs": [
    {
     "data": {
      "text/plain": [
       "-6"
      ]
     },
     "execution_count": 19,
     "metadata": {},
     "output_type": "execute_result"
    }
   ],
   "source": [
    "-2*3"
   ]
  },
  {
   "cell_type": "markdown",
   "id": "f7e1c1a8",
   "metadata": {},
   "source": []
  },
  {
   "cell_type": "markdown",
   "id": "39631cfc",
   "metadata": {},
   "source": [
    "## "
   ]
  },
  {
   "cell_type": "markdown",
   "id": "3742ad9b",
   "metadata": {},
   "source": [
    "###### "
   ]
  }
 ],
 "metadata": {
  "kernelspec": {
   "display_name": "Python 3",
   "language": "python",
   "name": "python3"
  },
  "language_info": {
   "codemirror_mode": {
    "name": "ipython",
    "version": 3
   },
   "file_extension": ".py",
   "mimetype": "text/x-python",
   "name": "python",
   "nbconvert_exporter": "python",
   "pygments_lexer": "ipython3",
   "version": "3.8.8"
  },
  "varInspector": {
   "cols": {
    "lenName": 16,
    "lenType": 16,
    "lenVar": 40
   },
   "kernels_config": {
    "python": {
     "delete_cmd_postfix": "",
     "delete_cmd_prefix": "del ",
     "library": "var_list.py",
     "varRefreshCmd": "print(var_dic_list())"
    },
    "r": {
     "delete_cmd_postfix": ") ",
     "delete_cmd_prefix": "rm(",
     "library": "var_list.r",
     "varRefreshCmd": "cat(var_dic_list()) "
    }
   },
   "types_to_exclude": [
    "module",
    "function",
    "builtin_function_or_method",
    "instance",
    "_Feature"
   ],
   "window_display": false
  }
 },
 "nbformat": 4,
 "nbformat_minor": 5
}
