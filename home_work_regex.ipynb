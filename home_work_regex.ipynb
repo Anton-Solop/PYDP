{
 "cells": [
  {
   "cell_type": "markdown",
   "id": "233a8868",
   "metadata": {},
   "source": [
    "### Домашнее задание к лекции \"Регулярные выражения\""
   ]
  },
  {
   "cell_type": "markdown",
   "id": "22c2e2cf",
   "metadata": {},
   "source": [
    "### Оглавление\n",
    "  \n",
    "1. [Задание 1](#task1)   \n",
    "2. [Задание 2](#task2)  \n",
    "3. [Задание 3](#task3)  \n",
    "4. [Задание 4](#task4)  \n",
    "5. [Задание 5](#task5)  \n",
    "6. [Задание 6](#task6)  \n"
   ]
  },
  {
   "cell_type": "markdown",
   "id": "f3fc2d38",
   "metadata": {},
   "source": [
    "###### 1. Задание 1 <a id='task1'></a>"
   ]
  },
  {
   "cell_type": "code",
   "execution_count": 128,
   "id": "3fe56a57",
   "metadata": {},
   "outputs": [
    {
     "name": "stdout",
     "output_type": "stream",
     "text": [
      "Результат: Номер а222вС валиден. Регион: 96\n"
     ]
    }
   ],
   "source": [
    "def check_car_n(string_):\n",
    "    \"\"\" функция принимает на вход строку и проверяет является ли она валидным транспортным номером (1 буква, 3 цифры, 2 буквы, 2-3 цифры)\"\"\"\n",
    "    import re\n",
    "    regex_ = r'([авекмнорстух]{1}\\d{3}[авекмнорстух]{2})(\\d{2,3})'\n",
    "    result_ = re.search(regex_, string_, flags=re.I)\n",
    "    if result_:\n",
    "        print('Результат: Номер %s валиден. Регион: %s' %\n",
    "              (result_.group(1), result_.group(2)))\n",
    "    else:\n",
    "        print('Результат: Номер не валиден')\n",
    "\n",
    "\n",
    "b = 'а222вС96'\n",
    "#b = 'АБ22ВВ193'\n",
    "check_car_n(b)"
   ]
  },
  {
   "cell_type": "markdown",
   "id": "444eb0e2",
   "metadata": {},
   "source": [
    "###### 2. Задание 2 <a id='task2'></a>"
   ]
  },
  {
   "cell_type": "code",
   "execution_count": 129,
   "id": "b0c591d5",
   "metadata": {},
   "outputs": [
    {
     "name": "stdout",
     "output_type": "stream",
     "text": [
      "Результат: Напишите функцию, которая будет удалять все последовательные повторы слов из заданной строки при помощи регулярных выражений.\n"
     ]
    }
   ],
   "source": [
    "def del_doubl(string_):\n",
    "    \"\"\" функция удаляет все последовательные повторы слов из заданной строки.\"\"\"\n",
    "    import re\n",
    "    print('Результат:', re.sub(r'(\\w+)(\\s\\1)+', r'\\1', string_, flags=re.I))\n",
    "\n",
    "\n",
    "some_string = 'Напишите напишите функцию функцию, которая будет будет будет будет удалять все все все все последовательные повторы слов из из из из заданной строки строки при помощи регулярных выражений выражений.'\n",
    "del_doubl(some_string)"
   ]
  },
  {
   "cell_type": "markdown",
   "id": "1a033739",
   "metadata": {},
   "source": [
    "###### 3. Задание 3 <a id='task3'></a>"
   ]
  },
  {
   "cell_type": "code",
   "execution_count": 132,
   "id": "6a459f89",
   "metadata": {},
   "outputs": [
    {
     "name": "stdout",
     "output_type": "stream",
     "text": [
      "Результат: ИТ\n"
     ]
    }
   ],
   "source": [
    "def make_acronym(string_):\n",
    "    \"\"\"функция возвращает акроним по переданной в нее строке со словами.\"\"\"\n",
    "    import re\n",
    "    print('Результат:', (re.sub(r'\\s?(\\b\\w{1})\\w+', r'\\1' , string_, flags=re.I)).upper())\n",
    "\n",
    "some_words = 'Информационные технологии'\n",
    "#some_words = 'Near Field Communication'\n",
    "make_acronym(some_words)"
   ]
  },
  {
   "cell_type": "markdown",
   "id": "f4bcb8cf",
   "metadata": {},
   "source": [
    "###### 4. Задание 4 <a id='task4'></a>"
   ]
  },
  {
   "cell_type": "code",
   "execution_count": 82,
   "id": "032e2f37",
   "metadata": {},
   "outputs": [
    {
     "name": "stdout",
     "output_type": "stream",
     "text": [
      "Результат:\n",
      "\n",
      "gmail.com: 2\n",
      "test.in: 1\n",
      "ya.ru: 2\n",
      "mail.ru: 1\n"
     ]
    }
   ],
   "source": [
    "emails = ['test@gmail.com', 'xyz@test.in', 'test@ya.ru',\n",
    "          'xyz@mail.ru', 'xyz@ya.ru', 'xyz@gmail.com']\n",
    "\n",
    "\n",
    "def form_email_domen(spisok_):\n",
    "    \"\"\"принимает на вход список email-адресов и выводит их распределение по доменным зонам.\"\"\"\n",
    "    import re\n",
    "    res_ = {}\n",
    "    for email_ in emails:\n",
    "        regex_ = r'\\w+@(\\w+\\.\\w+)'\n",
    "        result_ = re.search(regex_, email_)\n",
    "        if result_.group(1) in res_:\n",
    "            res_[result_.group(1)] += 1\n",
    "        else:\n",
    "            res_[result_.group(1)] = 1\n",
    "    print('Результат:', end='\\n\\n')\n",
    "    for key in res_:\n",
    "        print(key+':', res_[key])\n",
    "\n",
    "\n",
    "form_email_domen(emails)"
   ]
  },
  {
   "cell_type": "markdown",
   "id": "8c10075a",
   "metadata": {},
   "source": [
    "###### 5. Задание 5 <a id='task5'></a>"
   ]
  },
  {
   "cell_type": "code",
   "execution_count": 134,
   "id": "4ab91c96",
   "metadata": {},
   "outputs": [
    {
     "name": "stdout",
     "output_type": "stream",
     "text": [
      "Результат:\n",
      "\n",
      "Слов на гласные буквы: 9\n",
      "Слов на согласные буквы: 21\n"
     ]
    }
   ],
   "source": [
    "def counting_vowels(string_):\n",
    "    \"\"\"подсчитывает сколько слов начинается на гласные, а сколько на согласные буквы в тексте (текст может быть написан как с использованием букв кириллицы, так и латиницы). \"\"\"\n",
    "    vowels_ = len(re.findall(r'\\b[AEIOUYаоэеиыуёюя]\\w+', string_, flags=re.I))\n",
    "    all_words = len(re.findall(r'\\b\\w+', string_))\n",
    "    print('Результат:', end='\\n\\n')\n",
    "    print('Слов на гласные буквы:', vowels_)\n",
    "    print('Слов на согласные буквы:', all_words - vowels_)\n",
    "\n",
    "some_text = 'Эталонной реализацией Python является интерпретатор CPython, поддерживающий большинство активно используемых платформ. Он распространяется под свободной лицензией Python Software Foundation License, позволяющей использовать его без ограничений в любых приложениях, включая проприетарные.'\n",
    "counting_vowels(some_text)"
   ]
  },
  {
   "cell_type": "markdown",
   "id": "97899db5",
   "metadata": {},
   "source": [
    "###### 6. Задание 6 <a id='task6'></a>"
   ]
  },
  {
   "cell_type": "code",
   "execution_count": 135,
   "id": "ef30d61e",
   "metadata": {},
   "outputs": [
    {
     "name": "stdout",
     "output_type": "stream",
     "text": [
      "Результат: +7-955-555-55-55\n"
     ]
    }
   ],
   "source": [
    "def check_phone_numb(number_):\n",
    "    \"\"\"проверяет номер сотового телефона на валидность (только для российского формата), если он валиден, то переводит его в формат: +7-xxx-xxx-xx-xx\"\"\"\n",
    "    regex_ = r'[+ ]?[78]{1}[( ]{1}(\\d{3})[) -]{1}\\s{0,5}(\\d{3})[ -](\\d\\d)[ -](\\d\\d)'\n",
    "    resalt_ = re.search(regex_, number_)\n",
    "    if resalt_:\n",
    "        print('Результат: +7', resalt_.group(1), resalt_.group(2),\n",
    "              resalt_.group(3), resalt_.group(4), sep='-')\n",
    "    else:\n",
    "        print('Результат: Номер не валиден')\n",
    "\n",
    "\n",
    "phone = '+7 955 555-55-55'\n",
    "#phone = '8(955)555-55-55'\n",
    "#phone = '+7 955 555 55 55'\n",
    "#phone = '7(955) 555-55-55'\n",
    "#phone = '423-555-55-5555'\n",
    "#phone = '123-456-789'\n",
    "check_phone_numb(phone)"
   ]
  }
 ],
 "metadata": {
  "kernelspec": {
   "display_name": "Python 3",
   "language": "python",
   "name": "python3"
  },
  "language_info": {
   "codemirror_mode": {
    "name": "ipython",
    "version": 3
   },
   "file_extension": ".py",
   "mimetype": "text/x-python",
   "name": "python",
   "nbconvert_exporter": "python",
   "pygments_lexer": "ipython3",
   "version": "3.8.8"
  },
  "varInspector": {
   "cols": {
    "lenName": 16,
    "lenType": 16,
    "lenVar": 40
   },
   "kernels_config": {
    "python": {
     "delete_cmd_postfix": "",
     "delete_cmd_prefix": "del ",
     "library": "var_list.py",
     "varRefreshCmd": "print(var_dic_list())"
    },
    "r": {
     "delete_cmd_postfix": ") ",
     "delete_cmd_prefix": "rm(",
     "library": "var_list.r",
     "varRefreshCmd": "cat(var_dic_list()) "
    }
   },
   "types_to_exclude": [
    "module",
    "function",
    "builtin_function_or_method",
    "instance",
    "_Feature"
   ],
   "window_display": false
  }
 },
 "nbformat": 4,
 "nbformat_minor": 5
}
