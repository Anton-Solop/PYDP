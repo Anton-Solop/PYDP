{
 "cells": [
  {
   "cell_type": "markdown",
   "id": "a3e4a987",
   "metadata": {},
   "source": [
    "### Домашнее задание к лекции \"Работа с файловой системой и модули.\""
   ]
  },
  {
   "cell_type": "code",
   "execution_count": 1,
   "id": "24015a8b",
   "metadata": {},
   "outputs": [],
   "source": [
    "# Преобразуем содержимое файла 'purchase_log.txt' в словарь 'purchases' соответствующего формата (Задание 1)\n",
    "import json\n",
    "purchases = {}\n",
    "with open('purchase_log.txt', 'r', encoding='utf-8') as f_p:\n",
    "    for i, line in enumerate(f_p):\n",
    "        purchases[json.loads(line)['user_id']] = json.loads(line)['category']\n",
    "# Открываем файл 'visit_log.csv' и записываем в файл 'funnel.csv' результат в требуемом формате (Задание 2)\n",
    "with open('visit_log.csv') as f_r:\n",
    "    with open('funnel.csv', 'w') as f_w:\n",
    "        for i, line_v in enumerate(f_r):\n",
    "            xz = line_v.strip('\\n').split(',')\n",
    "            if xz[0] in purchases.keys():\n",
    "                f_w.write(','.join([xz[0], xz[1], purchases[xz[0]]])+'\\n')"
   ]
  }
 ],
 "metadata": {
  "kernelspec": {
   "display_name": "Python 3",
   "language": "python",
   "name": "python3"
  },
  "language_info": {
   "codemirror_mode": {
    "name": "ipython",
    "version": 3
   },
   "file_extension": ".py",
   "mimetype": "text/x-python",
   "name": "python",
   "nbconvert_exporter": "python",
   "pygments_lexer": "ipython3",
   "version": "3.8.8"
  },
  "varInspector": {
   "cols": {
    "lenName": 16,
    "lenType": 16,
    "lenVar": 40
   },
   "kernels_config": {
    "python": {
     "delete_cmd_postfix": "",
     "delete_cmd_prefix": "del ",
     "library": "var_list.py",
     "varRefreshCmd": "print(var_dic_list())"
    },
    "r": {
     "delete_cmd_postfix": ") ",
     "delete_cmd_prefix": "rm(",
     "library": "var_list.r",
     "varRefreshCmd": "cat(var_dic_list()) "
    }
   },
   "types_to_exclude": [
    "module",
    "function",
    "builtin_function_or_method",
    "instance",
    "_Feature"
   ],
   "window_display": false
  }
 },
 "nbformat": 4,
 "nbformat_minor": 5
}
