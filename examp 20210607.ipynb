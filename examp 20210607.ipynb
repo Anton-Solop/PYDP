{
 "cells": [
  {
   "cell_type": "code",
   "execution_count": 6,
   "id": "25deb333",
   "metadata": {},
   "outputs": [
    {
     "name": "stdout",
     "output_type": "stream",
     "text": [
      "phrases of equal length\n"
     ]
    }
   ],
   "source": [
    "phrase_1 = 'Насколько проще было бы писать программы, если бы не заказчики'\n",
    "phrase_2 = 'Насколько проще было бы писать программы, если бы не заказчики'\n",
    "if len(phrase_1) == len(phrase_2):\n",
    "    print ('phrases of equal length') \n",
    "elif len(phrase_1) > len(phrase_2):\n",
    "    print ('phrase1 is bigger than phrase2')\n",
    "elif len(phrase_1) < len(phrase_2):\n",
    "     print ('phrase2 is bigger than phrase1')"
   ]
  },
  {
   "cell_type": "code",
   "execution_count": 4,
   "id": "554196ec",
   "metadata": {},
   "outputs": [
    {
     "name": "stdout",
     "output_type": "stream",
     "text": [
      "phrase1 is bigger than phrase2\n"
     ]
    }
   ],
   "source": [
    "phrase_1 = 'Насколько проще было бы писать программы, если бы не заказчики'\n",
    "phrase_2 = '640Кб должно хватить для любых задач. Билл Гейтс (по легенде)'\n",
    "if len(phrase_1) == len(phrase_2):\n",
    "    print ('phrases of equal length') \n",
    "elif len(phrase_1) > len(phrase_2):\n",
    "    print ('phrase1 is bigger than phrase2')\n",
    "elif len(phrase_1) < len(phrase_2):\n",
    "     print ('phrase2 is bigger than phrase1')"
   ]
  },
  {
   "cell_type": "code",
   "execution_count": 5,
   "id": "d8b2f91b",
   "metadata": {},
   "outputs": [
    {
     "name": "stdout",
     "output_type": "stream",
     "text": [
      "phrase2 is bigger than phrase1\n"
     ]
    }
   ],
   "source": [
    "phrase_1 = '640Кб должно хватить для любых задач. Билл Гейтс (по легенде)'\n",
    "phrase_2 = 'Насколько проще было бы писать программы, если бы не заказчики'\n",
    "if len(phrase_1) == len(phrase_2):\n",
    "    print ('phrases of equal length') \n",
    "elif len(phrase_1) > len(phrase_2):\n",
    "    print ('phrase1 is bigger than phrase2')\n",
    "elif len(phrase_1) < len(phrase_2):\n",
    "     print ('phrase2 is bigger than phrase1')"
   ]
  },
  {
   "cell_type": "code",
   "execution_count": null,
   "id": "abe50c6d",
   "metadata": {},
   "outputs": [],
   "source": [
    "phrase_1 = '640Кб должно хватить для любых задач. Билл Гейтс (по легенде)'\n",
    "phrase_2 = 'Насколько проще было бы писать программы, если бы не заказчики'\n",
    "print (type(phrase_1))\n",
    "if len(phrase_1) == len(phrase_2):\n",
    "    print ('phrases of equal length')\n",
    "elif len(phrase_1) > len(phrase_2):\n",
    "    print ('phrase1 is bigger than phrase2')\n",
    "print ('phrase2 is bigger than phrase1')"
   ]
  },
  {
   "cell_type": "code",
   "execution_count": null,
   "id": "e41efe5c",
   "metadata": {},
   "outputs": [],
   "source": [
    "x = y =  ['Яблоко', 'Груша', 'Слива']\n",
    "x is y   # True\n",
    "id(x), id(y), id(x) == id(y)   # (3240602862208, 3240602862208, True)"
   ]
  },
  {
   "cell_type": "code",
   "execution_count": null,
   "id": "e140186a",
   "metadata": {},
   "outputs": [],
   "source": [
    "x.append('Персик')\n",
    "x   # ['Яблоко', 'Груша', 'Слива', 'Персик']"
   ]
  },
  {
   "cell_type": "code",
   "execution_count": null,
   "id": "6b5f41a5",
   "metadata": {},
   "outputs": [],
   "source": [
    "y   # ['Яблоко', 'Груша', 'Слива', 'Персик']\n",
    "x is y, id(x) == id(y)   # (True, True)"
   ]
  },
  {
   "cell_type": "code",
   "execution_count": 7,
   "id": "ddd4b169",
   "metadata": {},
   "outputs": [
    {
     "ename": "NameError",
     "evalue": "name 'none' is not defined",
     "output_type": "error",
     "traceback": [
      "\u001b[1;31m---------------------------------------------------------------------------\u001b[0m",
      "\u001b[1;31mNameError\u001b[0m                                 Traceback (most recent call last)",
      "\u001b[1;32m<ipython-input-7-8eb4bf394e98>\u001b[0m in \u001b[0;36m<module>\u001b[1;34m\u001b[0m\n\u001b[1;32m----> 1\u001b[1;33m \u001b[0mtype\u001b[0m\u001b[1;33m(\u001b[0m\u001b[0mnone\u001b[0m\u001b[1;33m)\u001b[0m\u001b[1;33m\u001b[0m\u001b[1;33m\u001b[0m\u001b[0m\n\u001b[0m",
      "\u001b[1;31mNameError\u001b[0m: name 'none' is not defined"
     ]
    }
   ],
   "source": [
    "type(none)"
   ]
  },
  {
   "cell_type": "code",
   "execution_count": 16,
   "id": "525eb240",
   "metadata": {},
   "outputs": [
    {
     "ename": "IndentationError",
     "evalue": "unexpected indent (<ipython-input-16-a2b778e45aab>, line 7)",
     "output_type": "error",
     "traceback": [
      "\u001b[1;36m  File \u001b[1;32m\"<ipython-input-16-a2b778e45aab>\"\u001b[1;36m, line \u001b[1;32m7\u001b[0m\n\u001b[1;33m    if id3 is None:\u001b[0m\n\u001b[1;37m    ^\u001b[0m\n\u001b[1;31mIndentationError\u001b[0m\u001b[1;31m:\u001b[0m unexpected indent\n"
     ]
    }
   ],
   "source": [
    "my_dict = {\n",
    "    'id1': 123456, \n",
    "    'id2': 654321, \n",
    "    'id3': None,\n",
    "    'id4': 777777\n",
    "}\n",
    "    if id3 is None:\n",
    "    print('The database could not connect')\n"
   ]
  },
  {
   "cell_type": "code",
   "execution_count": 1,
   "id": "6df97d4a",
   "metadata": {},
   "outputs": [
    {
     "ename": "TypeError",
     "evalue": "unsupported operand type(s) for +: 'int' and 'NoneType'",
     "output_type": "error",
     "traceback": [
      "\u001b[1;31m---------------------------------------------------------------------------\u001b[0m",
      "\u001b[1;31mTypeError\u001b[0m                                 Traceback (most recent call last)",
      "\u001b[1;32m<ipython-input-1-894d8a6e333a>\u001b[0m in \u001b[0;36m<module>\u001b[1;34m\u001b[0m\n\u001b[1;32m----> 1\u001b[1;33m \u001b[0mk\u001b[0m \u001b[1;33m=\u001b[0m \u001b[1;36m1\u001b[0m \u001b[1;33m+\u001b[0m \u001b[1;32mNone\u001b[0m\u001b[1;33m\u001b[0m\u001b[1;33m\u001b[0m\u001b[0m\n\u001b[0m",
      "\u001b[1;31mTypeError\u001b[0m: unsupported operand type(s) for +: 'int' and 'NoneType'"
     ]
    }
   ],
   "source": [
    " k = 1 + None"
   ]
  },
  {
   "cell_type": "code",
   "execution_count": 19,
   "id": "5cd408b5",
   "metadata": {},
   "outputs": [
    {
     "name": "stdout",
     "output_type": "stream",
     "text": [
      "Введите год для проверки: 2021\n",
      "2021 год не високосный (365 дней).\n"
     ]
    }
   ],
   "source": [
    "year_input = int(input(\"Введите год для проверки: \"))\n",
    "# print(\"Вы ввели  год: \", year_input)\n",
    "if (year_input % 4 == 0 and year_input % 100 != 0) or year_input % 400 == 0:\n",
    "    print(year_input, \"год является високосным (366 дней).\")\n",
    "else:\n",
    "    print(year_input, \"год не високосный (365 дней).\")"
   ]
  },
  {
   "cell_type": "code",
   "execution_count": 47,
   "id": "975594ae",
   "metadata": {},
   "outputs": [
    {
     "name": "stdout",
     "output_type": "stream",
     "text": [
      "Определение знака Зодиака по дате рождения\n",
      "\n",
      "Введите год рождения (например:  1980 -- значит 1980 год): 1970\n",
      "Введите месяц рождения (например:  8 -- значит август): 9\n",
      "Введите число рождения (например: 26 -- значит 26 число): 3\n",
      "\n",
      "Ваш день рождения  03 September 1970 , находится в знаке Девы.\n"
     ]
    }
   ],
   "source": [
    "# Определяет знак Зодиака по дате, с учётом високосных годов.\n",
    "import datetime\n",
    "print(\"Определение знака Зодиака по дате рождения\")\n",
    "print()\n",
    "# Вводим дату : год, месяц, число)\n",
    "year_input = int(\n",
    "    input(\"Введите год рождения (например:  1980 -- значит 1980 год): \"))\n",
    "month_input = int(\n",
    "    input(\"Введите месяц рождения (например:  8 -- значит август): \"))\n",
    "day_input = int(\n",
    "    input(\"Введите число рождения (например: 26 -- значит 26 число): \"))\n",
    "birthday_date = datetime.datetime(year_input, month_input, day_input)\n",
    "dt_string = birthday_date.strftime(\"%d %B %Y\")\n",
    "print()\n",
    "print(\"Ваш день рождения \", dt_string, \", находится в знаке\", end=' ')\n",
    "# Поиск знака Зодиака по дате в интервалах временных периодов знаков.\n",
    "if datetime.datetime(year_input, 3, 21) <= birthday_date <= datetime.datetime(year_input, 4, 19):\n",
    "    # Aries\n",
    "    print(\"Овна.\")\n",
    "elif datetime.datetime(year_input, 4, 20) <= birthday_date <= datetime.datetime(year_input, 5, 20):\n",
    "    # Taurus\n",
    "    print(\"Тельца.\")\n",
    "elif datetime.datetime(year_input, 5, 21) <= birthday_date <= datetime.datetime(year_input, 6, 20):\n",
    "    # Gemini\n",
    "    print(\"Близнеца.\")\n",
    "elif datetime.datetime(year_input, 6, 21) <= birthday_date <= datetime.datetime(year_input, 7, 22):\n",
    "    # Cancer\n",
    "    print(\"Рака.\")\n",
    "elif datetime.datetime(year_input, 7, 23) <= birthday_date <= datetime.datetime(year_input, 8, 22):\n",
    "    # Leo\n",
    "    print(\"Льва.\")\n",
    "elif datetime.datetime(year_input, 8, 23) <= birthday_date <= datetime.datetime(year_input, 9, 22):\n",
    "    # Virgo\n",
    "    print(\"Девы.\")\n",
    "elif datetime.datetime(year_input, 9, 23) <= birthday_date <= datetime.datetime(year_input, 10, 22):\n",
    "    # Libra\n",
    "    print(\"Весов.\")\n",
    "elif datetime.datetime(year_input, 10, 23) <= birthday_date <= datetime.datetime(year_input, 11, 21):\n",
    "    # Scorpio\n",
    "    print(\"Скорпиона.\")\n",
    "elif datetime.datetime(year_input, 11, 22) <= birthday_date <= datetime.datetime(year_input, 12, 21):\n",
    "    # Sagittarius\n",
    "    print(\"Стрельца.\")\n",
    "elif datetime.datetime(year_input, 12, 22) <= birthday_date <= datetime.datetime(year_input, 1, 19):\n",
    "    # Capricorn\n",
    "    print(\"Козерога.\")\n",
    "elif datetime.datetime(year_input, 1, 20) <= birthday_date <= datetime.datetime(year_input, 2, 18):\n",
    "    # Aquarius\n",
    "    print(\"Водолея.\")\n",
    "elif datetime.datetime(year_input, 2, 19) <= birthday_date <= datetime.datetime(year_input, 3, 20):\n",
    "    # Pisces\n",
    "    print(\"Рыб.\")"
   ]
  },
  {
   "cell_type": "code",
   "execution_count": 31,
   "id": "2920bee3",
   "metadata": {},
   "outputs": [
    {
     "name": "stdout",
     "output_type": "stream",
     "text": [
      "Текущее время :  12-06-2021\n"
     ]
    }
   ],
   "source": [
    "import datetime\n",
    "\n",
    "dt_obj =datetime.datetime.now()\n",
    "dt_string = dt_obj.strftime(\"%d-%m-%Y\")\n",
    "print('Текущее время : ', dt_string)"
   ]
  },
  {
   "cell_type": "code",
   "execution_count": null,
   "id": "dad9d9d4",
   "metadata": {},
   "outputs": [],
   "source": [
    "\n",
    "\n",
    "start_Aries = datetime.datetime(year_input, 3, 21)\n",
    "finish_Aries = datetime.datetime(year_input, 4, 19)\n",
    "\n",
    "start_Taurus = datetime.datetime(year_input, 4, 20)\n",
    "finish_Taurus = datetime.datetime(year_input, 5, 20)\n",
    "\n",
    "start_Gemini = datetime.datetime(year_input, 5, 21)\n",
    "finish_Gemini = datetime.datetime(year_input, 6, 20)\n",
    "\n",
    "start_Cancer = datetime.datetime(year_input, 6, 21)\n",
    "finish_Cancer = datetime.datetime(year_input, 7, 22)\n",
    "\n",
    "start_Leo = datetime.datetime(year_input, 7, 23)\n",
    "finish_Leo = datetime.datetime(year_input, 8, 22)\n",
    "\n",
    "start_Virgo = datetime.datetime(year_input, 8, 23)\n",
    "finish_Virgo = datetime.datetime(year_input, 9, 22)\n",
    "\n",
    "start_Libra = datetime.datetime(year_input, 9, 23)\n",
    "finish_Libra = datetime.datetime(year_input, 10, 22)\n",
    "\n",
    "\n",
    "start_Scorpio = datetime.datetime(year_input, 10, 23)\n",
    "finish_Scorpio = datetime.datetime(year_input, 11, 21)\n",
    "\n",
    "\n",
    "start_Sagittarius = datetime.datetime(year_input, 11, 22)\n",
    "finish_Sagittarius = datetime.datetime(year_input, 12, 21)\n",
    "\n",
    "\n",
    "start_Capricorn = datetime.datetime(year_input, 12, 22)\n",
    "finish_Capricorn = datetime.datetime(year_input, 1, 19)\n",
    "\n",
    "\n",
    "start_Aquarius = datetime.datetime(year_input, 1, 20)\n",
    "finish_Aquarius = datetime.datetime(year_input, 2, 18)\n",
    "\n",
    "\n",
    "start_Pisces = datetime.datetime(year_input, 2, 19)\n",
    "finish_Pisces = datetime.datetime(year_input, 3, 20)\n",
    "\n",
    "\n",
    "if start_Aries <= birthday_date <= finish_Aries:\n"
   ]
  },
  {
   "cell_type": "code",
   "execution_count": 37,
   "id": "da335f4b",
   "metadata": {},
   "outputs": [
    {
     "name": "stdout",
     "output_type": "stream",
     "text": [
      "Введите год рождения (например:  1980 -- значит 1980 год): 1980\n",
      "1980-03-21 00:00:00\n"
     ]
    }
   ],
   "source": [
    "year_input = int(\n",
    "    input(\"Введите год рождения (например:  1980 -- значит 1980 год): \"))\n",
    "start_Aries = datetime.datetime(year_input, 3, 21)\n",
    "print(start_Aries)\n"
   ]
  },
  {
   "cell_type": "code",
   "execution_count": null,
   "id": "d91c0cbe",
   "metadata": {},
   "outputs": [],
   "source": [
    "if start_Aries <= birthday_date <= finish_Aries:"
   ]
  },
  {
   "cell_type": "code",
   "execution_count": null,
   "id": "610edc99",
   "metadata": {},
   "outputs": [],
   "source": [
    "width = 10\n",
    "length = 205\n",
    "height = 5"
   ]
  },
  {
   "cell_type": "code",
   "execution_count": 61,
   "id": "acb19d18",
   "metadata": {},
   "outputs": [
    {
     "name": "stdout",
     "output_type": "stream",
     "text": [
      "Для подбора упаковки, введите размеры товара в сантиметрах.\n",
      "Длина: 12\n",
      "Ширина: 12\n",
      "Высота: 12\n",
      "\n",
      "Коробка №1\n"
     ]
    }
   ],
   "source": [
    "# Определяет типа упаковки в зависимости от размера товара.\n",
    "print(\"Для подбора упаковки, введите размеры товара в сантиметрах.\")\n",
    "length = int(\n",
    "    input(\"Длина: \"))\n",
    "width = int(\n",
    "    input(\"Ширина: \"))\n",
    "height = int(\n",
    "    input(\"Высота: \"))\n",
    "print()\n",
    "if length > 200:\n",
    "    print(\"Упаковка для лыж\")\n",
    "elif width < 15 and height < 15 and length < 15:\n",
    "    print(\"Коробка №1\")\n",
    "elif 15 < width < 50 or 15 < height < 50 or 15 < length < 50:\n",
    "    print(\"Коробка №2\")\n",
    "else:\n",
    "    print(\"Стандартная коробка №3\")"
   ]
  },
  {
   "cell_type": "code",
   "execution_count": 84,
   "id": "b4d7250e",
   "metadata": {},
   "outputs": [
    {
     "name": "stdout",
     "output_type": "stream",
     "text": [
      "Для определения является ли билет “счастливым” , введите его шестизначный номер.\n",
      "Номер билета: 123411\n",
      "Счастливый билет\n"
     ]
    }
   ],
   "source": [
    "# Определяет является ли данный билет “счастливым”.\n",
    "# Билет считается счастливым, если сумма первых трех цифр совпадает с суммой последних трех цифр номера.\n",
    "print(\"Для определения является ли билет “счастливым” , введите его шестизначный номер.\")\n",
    "ticket_number = input(\"Номер билета: \")\n",
    "ver_num = [\n",
    "    ver_num for ver_num in ticket_number]\n",
    "if (int(ver_num[-1])+int(ver_num[-2])+int(ver_num[-3])) == (int(ver_num[0])+int(ver_num[1])+int(ver_num[2])):\n",
    "    print(\"Счастливый билет\")\n",
    "else:\n",
    "    print(\"Несчастливый билет\")"
   ]
  },
  {
   "cell_type": "code",
   "execution_count": 85,
   "id": "7fd8d04b",
   "metadata": {},
   "outputs": [
    {
     "name": "stdout",
     "output_type": "stream",
     "text": [
      "Для определения является ли билет “счастливым” , введите его шестизначный номер.\n",
      "Номер билета: 654960\n",
      "Счастливый билет\n"
     ]
    }
   ],
   "source": [
    "print(\"Для определения является ли билет “счастливым” , введите его шестизначный номер.\")\n",
    "# ticket_number = input(\"Номер билета: \")\n",
    "ver_num = [\n",
    "    ver_num for ver_num in (input(\"Номер билета: \"))]\n",
    "if (int(ver_num[-1])+int(ver_num[-2])+int(ver_num[-3])) == (int(ver_num[0])+int(ver_num[1])+int(ver_num[2])):\n",
    "    print(\"Счастливый билет\")\n",
    "else:\n",
    "    print(\"Несчастливый билет\")"
   ]
  },
  {
   "cell_type": "code",
   "execution_count": null,
   "id": "b3fc8b4e",
   "metadata": {},
   "outputs": [],
   "source": [
    "type = input(\"Введите тип фигуры (Круг, Треугольник, Прямоугольник): \")\n",
    "if type == \"Круг\":\n",
    "    rad = int(input(\"Введите радиус круга: \"))\n",
    "    square = 3.14*(rad**2)\n",
    "    print(\"Площадь круга: \", (3.14*(rad**2)))\n",
    "elif type == \"Треугольник\":\n",
    "    side_a=int(input(\"Введите длину стороны A: \"))\n",
    "    side_b=int(input(\"Введите длину стороны B: \"))\n",
    "    side_c=int(input(\"Введите длину стороны C: \"))\n",
    "    p=(side_a+side_b+side_c)/2\n",
    "    print(\"Площадь треугольника: \", (p*(p-side_a)*(p-side_b)*(p-side_c))**0.5)\n",
    "elif type == \"Прямоугольник\":\n",
    "    side_a=int(input(\"Введите длину стороны A: \"))\n",
    "    side_b=int(input(\"Введите длину стороны B: \"))\n",
    "    print(\"Площадь прямоугольника: \", side_a*side_b)\n",
    "else:\n",
    "    print(\" Неправильное название фигуры \")"
   ]
  },
  {
   "cell_type": "code",
   "execution_count": 7,
   "id": "dcb7b9b8",
   "metadata": {},
   "outputs": [
    {
     "name": "stdout",
     "output_type": "stream",
     "text": [
      "<class 'bool'>\n",
      "False\n"
     ]
    }
   ],
   "source": [
    "x=3\n",
    "y=5\n",
    "print(type(x<y))\n",
    "print((x>y))"
   ]
  },
  {
   "cell_type": "code",
   "execution_count": 8,
   "id": "4272bc34",
   "metadata": {},
   "outputs": [
    {
     "name": "stdout",
     "output_type": "stream",
     "text": [
      "2\n",
      "2\n",
      "-1\n"
     ]
    }
   ],
   "source": [
    "print(1+True)\n",
    "print(True+True)\n",
    "print(False-True)"
   ]
  },
  {
   "cell_type": "code",
   "execution_count": 10,
   "id": "4a194cca",
   "metadata": {},
   "outputs": [
    {
     "data": {
      "text/plain": [
       "'HELLO WORLD!'"
      ]
     },
     "execution_count": 10,
     "metadata": {},
     "output_type": "execute_result"
    }
   ],
   "source": [
    "test= \"Hello world!\"\n",
    "test.upper()"
   ]
  },
  {
   "cell_type": "code",
   "execution_count": 9,
   "id": "c5255651",
   "metadata": {},
   "outputs": [
    {
     "ename": "NameError",
     "evalue": "name 'test' is not defined",
     "output_type": "error",
     "traceback": [
      "\u001b[1;31m---------------------------------------------------------------------------\u001b[0m",
      "\u001b[1;31mNameError\u001b[0m                                 Traceback (most recent call last)",
      "\u001b[1;32m<ipython-input-9-470db72ce046>\u001b[0m in \u001b[0;36m<module>\u001b[1;34m\u001b[0m\n\u001b[1;32m----> 1\u001b[1;33m \u001b[0mtest\u001b[0m\u001b[1;33m.\u001b[0m\u001b[0mupper\u001b[0m\u001b[1;33m(\u001b[0m\u001b[1;33m)\u001b[0m\u001b[1;33m\u001b[0m\u001b[1;33m\u001b[0m\u001b[0m\n\u001b[0m",
      "\u001b[1;31mNameError\u001b[0m: name 'test' is not defined"
     ]
    }
   ],
   "source": []
  },
  {
   "cell_type": "code",
   "execution_count": 12,
   "id": "cc337557",
   "metadata": {},
   "outputs": [
    {
     "name": "stdout",
     "output_type": "stream",
     "text": [
      "Please Provide Input String\n",
      "RRRRRR\n",
      "Input String in Uppercase = RRRRRR\n",
      "Original String = RRRRRR\n"
     ]
    }
   ],
   "source": [
    "# upper() с пользовательским вводом\n",
    "s = input('Please Provide Input String\\n') \n",
    "print('Input String in Uppercase =', s.upper()) \n",
    "print('Original String =', s)\n"
   ]
  },
  {
   "cell_type": "code",
   "execution_count": null,
   "id": "7bb1f2bd",
   "metadata": {},
   "outputs": [],
   "source": []
  },
  {
   "cell_type": "code",
   "execution_count": null,
   "id": "9c3263f5",
   "metadata": {},
   "outputs": [],
   "source": []
  },
  {
   "cell_type": "code",
   "execution_count": null,
   "id": "bb461066",
   "metadata": {},
   "outputs": [],
   "source": []
  },
  {
   "cell_type": "code",
   "execution_count": null,
   "id": "9b5c8df7",
   "metadata": {},
   "outputs": [],
   "source": []
  },
  {
   "cell_type": "code",
   "execution_count": null,
   "id": "96bf0c94",
   "metadata": {},
   "outputs": [],
   "source": []
  }
 ],
 "metadata": {
  "kernelspec": {
   "display_name": "Python 3",
   "language": "python",
   "name": "python3"
  },
  "language_info": {
   "codemirror_mode": {
    "name": "ipython",
    "version": 3
   },
   "file_extension": ".py",
   "mimetype": "text/x-python",
   "name": "python",
   "nbconvert_exporter": "python",
   "pygments_lexer": "ipython3",
   "version": "3.8.8"
  },
  "varInspector": {
   "cols": {
    "lenName": 16,
    "lenType": 16,
    "lenVar": 40
   },
   "kernels_config": {
    "python": {
     "delete_cmd_postfix": "",
     "delete_cmd_prefix": "del ",
     "library": "var_list.py",
     "varRefreshCmd": "print(var_dic_list())"
    },
    "r": {
     "delete_cmd_postfix": ") ",
     "delete_cmd_prefix": "rm(",
     "library": "var_list.r",
     "varRefreshCmd": "cat(var_dic_list()) "
    }
   },
   "types_to_exclude": [
    "module",
    "function",
    "builtin_function_or_method",
    "instance",
    "_Feature"
   ],
   "window_display": false
  }
 },
 "nbformat": 4,
 "nbformat_minor": 5
}
