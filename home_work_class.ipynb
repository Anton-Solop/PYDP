{
 "cells": [
  {
   "cell_type": "markdown",
   "id": "d8af3b04",
   "metadata": {},
   "source": [
    "### Домашнее задание к лекции «Понятие класса»\n"
   ]
  },
  {
   "cell_type": "markdown",
   "id": "4fd39e78",
   "metadata": {},
   "source": [
    "\n",
    "### Оглавление\n",
    "  \n",
    "1. [Задание 1](#task1)   \n",
    "2. [Задание 2](#task2)  \n",
    "3. [Задание 3](#task3)  \n"
   ]
  },
  {
   "cell_type": "markdown",
   "id": "bd46e8f4",
   "metadata": {},
   "source": [
    "###### 1. Задание 1 <a id='task1'></a>"
   ]
  },
  {
   "cell_type": "code",
   "execution_count": 42,
   "id": "aed56990",
   "metadata": {},
   "outputs": [
    {
     "data": {
      "text/plain": [
       "'СДР (специальные права заимствования)'"
      ]
     },
     "execution_count": 42,
     "metadata": {},
     "output_type": "execute_result"
    }
   ],
   "source": [
    "def max_value():\n",
    "    \"\"\"возвращает название валюты с максимальным значением курса с помощью сервиса www.cbr-xml-daily.ru/daily_json.js\"\"\"\n",
    "    import requests\n",
    "    max_ = [0, 0]\n",
    "    full_data = requests.get('https://www.cbr-xml-daily.ru/daily_json.js').json()\n",
    "    for name_val in full_data['Valute'].keys():\n",
    "        if  full_data['Valute'][name_val]['Value'] > max_[1]:\n",
    "            max_[0] = full_data['Valute'][name_val]['Name']\n",
    "            max_[1] = full_data['Valute'][name_val]['Value']\n",
    "    return  max_[0]\n",
    "        \n",
    "        \n",
    "max_value()"
   ]
  },
  {
   "cell_type": "markdown",
   "id": "7c31f01f",
   "metadata": {},
   "source": [
    "###### 2. Задание 2 <a id='task2'></a>"
   ]
  },
  {
   "cell_type": "code",
   "execution_count": 33,
   "id": "59ac9fe4",
   "metadata": {},
   "outputs": [],
   "source": [
    "# coding: utf-8\n",
    "import requests\n",
    "\n",
    "\n",
    "def my_sum(x, y):\n",
    "    return x+y\n",
    "\n",
    "\n",
    "class Rate:\n",
    "    def __init__(self, format='value', diff=True):\n",
    "        self.format = format\n",
    "        self.diff = diff\n",
    "\n",
    "    def exchange_rates(self):\n",
    "        \"\"\"\n",
    "        Возвращает ответ сервиса с информацией о валютах в виде:\n",
    "\n",
    "        {\n",
    "            'AMD': {\n",
    "                'CharCode': 'AMD',\n",
    "                'ID': 'R01060',\n",
    "                'Name': 'Армянских драмов',\n",
    "                'Nominal': 100,\n",
    "                'NumCode': '051',\n",
    "                'Previous': 14.103,\n",
    "                'Value': 14.0879\n",
    "                },\n",
    "            ...\n",
    "        }\n",
    "        \"\"\"\n",
    "        r = requests.get('https://www.cbr-xml-daily.ru/daily_json.js')\n",
    "        return r.json()['Valute']\n",
    "\n",
    "    def make_format(self, currency):\n",
    "        \"\"\"\n",
    "        Возвращает информацию о валюте currency в двух вариантах , если diff = False:\n",
    "        - полная информация о валюте при self.format = 'full':\n",
    "        Rate('full').make_format('EUR')\n",
    "        {\n",
    "            'CharCode': 'EUR',\n",
    "            'ID': 'R01239',\n",
    "            'Name': 'Евро',\n",
    "            'Nominal': 1,\n",
    "            'NumCode': '978',\n",
    "            'Previous': 79.6765,\n",
    "            'Value': 79.4966\n",
    "        }\n",
    "\n",
    "        Rate('value').make_format('EUR')\n",
    "        79.4966\n",
    "        \"\"\"\n",
    "        response = self.exchange_rates()\n",
    "\n",
    "        if currency in response:\n",
    "            if self.format == 'full':\n",
    "                return response[currency]\n",
    "\n",
    "            if self.format == 'value':\n",
    "                if self.diff:\n",
    "                    # возвращает  изменение курса по сравнению c прошлым значением\n",
    "                    return response[currency]['Previous'] - response[currency]['Value']\n",
    "                else:\n",
    "                    # отображает всю информацию о валюте\n",
    "                    return response[currency]['Value']\n",
    "\n",
    "        return 'Error'\n",
    "\n",
    "    def eur(self):\n",
    "        \"\"\"Возвращает курс евро на сегодня в формате self.format\"\"\"\n",
    "        return self.make_format('EUR')\n",
    "\n",
    "    def usd(self):\n",
    "        \"\"\"Возвращает курс доллара на сегодня в формате self.format\"\"\"\n",
    "        return self.make_format('USD')\n",
    "\n",
    "    def AZN(self):\n",
    "        \"\"\"Возвращает курс азербайджанского маната на сегодня в формате self.format\"\"\"\n",
    "        return self.make_format('AZN')"
   ]
  },
  {
   "cell_type": "code",
   "execution_count": 38,
   "id": "f276a12d",
   "metadata": {},
   "outputs": [
    {
     "data": {
      "text/plain": [
       "0.635799999999989"
      ]
     },
     "execution_count": 38,
     "metadata": {},
     "output_type": "execute_result"
    }
   ],
   "source": [
    "a = Rate()\n",
    "# a.diff = False\n",
    "a.diff = True\n",
    "# a.format = 'full'\n",
    "a.format = 'value'\n",
    "# a.make_format('EUR')\n",
    "a.eur()"
   ]
  },
  {
   "cell_type": "markdown",
   "id": "88beefd3",
   "metadata": {},
   "source": [
    "###### 3. Задание 3 <a id='task3'></a>"
   ]
  },
  {
   "cell_type": "code",
   "execution_count": 69,
   "id": "d30157e1",
   "metadata": {},
   "outputs": [],
   "source": [
    "class Employee:\n",
    "    def __init__(self, name, seniority):\n",
    "        self.name = name\n",
    "        self.seniority = seniority\n",
    "        \n",
    "        self.grade = 1\n",
    "    \n",
    "    def grade_up(self):\n",
    "        \"\"\"Повышает уровень сотрудника\"\"\"\n",
    "        self.grade += 1\n",
    "    \n",
    "    def publish_grade(self):\n",
    "        \"\"\"Публикация результатов аккредитации сотрудников\"\"\"\n",
    "        print(self.name, self.grade)\n",
    "    \n",
    "    def check_if_it_is_time_for_upgrade(self):\n",
    "        pass\n",
    "\n",
    "class Developer(Employee):\n",
    "    def __init__(self, name, seniority):\n",
    "        super().__init__(name, seniority)\n",
    "    \n",
    "    def check_if_it_is_time_for_upgrade(self):\n",
    "        # для каждой аккредитации увеличиваем счетчик на 1\n",
    "        # пока считаем, что все разработчики проходят аккредитацию\n",
    "        self.seniority += 1\n",
    "        \n",
    "        # условие повышения сотрудника из презентации\n",
    "        if self.seniority % 5 == 0:\n",
    "            self.grade_up()\n",
    "        \n",
    "        # публикация результатов\n",
    "        return self.publish_grade()"
   ]
  },
  {
   "cell_type": "code",
   "execution_count": 70,
   "id": "025c1d80",
   "metadata": {},
   "outputs": [],
   "source": [
    "class Designer(Employee):\n",
    "    def __init__(self, name, seniority, international_award = 2):\n",
    "        super().__init__(name, seniority)\n",
    "        # количество международных премий ( по умолчанию у каждого две)\n",
    "        self.award = international_award\n",
    "    \n",
    "    def check_if_it_is_time_for_upgrade_designer(self):\n",
    "        # для каждой аккредитации увеличиваем счетчик на 1\n",
    "        # пока считаем, что все дизайнеры проходят аккредитацию\n",
    "        self.seniority += 1\n",
    "        # Получение  одной международной премии – это +2 балла ежегодно\n",
    "        self.seniority = self.seniority + self.award * 2\n",
    "        # условие повышения сотрудника из презентации\n",
    "        if self.seniority >= 7 :\n",
    "            self.grade_up()\n",
    "            self.seniority = self.seniority - 7\n",
    "        \n",
    "        # публикация результатов\n",
    "        return self.publish_grade()"
   ]
  },
  {
   "cell_type": "code",
   "execution_count": 73,
   "id": "6e1c14c0",
   "metadata": {},
   "outputs": [],
   "source": [
    "elena = Designer('Elena', 0, 1)\n"
   ]
  },
  {
   "cell_type": "code",
   "execution_count": 74,
   "id": "3db15e77",
   "metadata": {},
   "outputs": [
    {
     "name": "stdout",
     "output_type": "stream",
     "text": [
      "Elena 1\n",
      "Elena 1\n",
      "Elena 2\n",
      "Elena 2\n",
      "Elena 3\n",
      "Elena 3\n",
      "Elena 4\n",
      "Elena 4\n",
      "Elena 4\n",
      "Elena 5\n"
     ]
    }
   ],
   "source": [
    "for i in range(10):\n",
    "    elena.check_if_it_is_time_for_upgrade_designer()"
   ]
  }
 ],
 "metadata": {
  "celltoolbar": "Необработанный формат ячейки",
  "kernelspec": {
   "display_name": "Python 3",
   "language": "python",
   "name": "python3"
  },
  "language_info": {
   "codemirror_mode": {
    "name": "ipython",
    "version": 3
   },
   "file_extension": ".py",
   "mimetype": "text/x-python",
   "name": "python",
   "nbconvert_exporter": "python",
   "pygments_lexer": "ipython3",
   "version": "3.8.8"
  },
  "varInspector": {
   "cols": {
    "lenName": 16,
    "lenType": 16,
    "lenVar": 40
   },
   "kernels_config": {
    "python": {
     "delete_cmd_postfix": "",
     "delete_cmd_prefix": "del ",
     "library": "var_list.py",
     "varRefreshCmd": "print(var_dic_list())"
    },
    "r": {
     "delete_cmd_postfix": ") ",
     "delete_cmd_prefix": "rm(",
     "library": "var_list.r",
     "varRefreshCmd": "cat(var_dic_list()) "
    }
   },
   "types_to_exclude": [
    "module",
    "function",
    "builtin_function_or_method",
    "instance",
    "_Feature"
   ],
   "window_display": false
  }
 },
 "nbformat": 4,
 "nbformat_minor": 5
}
