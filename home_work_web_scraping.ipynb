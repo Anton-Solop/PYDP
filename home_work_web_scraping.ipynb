{
 "cells": [
  {
   "cell_type": "markdown",
   "id": "2c4f7ae6",
   "metadata": {},
   "source": [
    "### Домашнее задание к лекции «Основы парсинга и работы с API»"
   ]
  },
  {
   "cell_type": "markdown",
   "id": "1f889e5f",
   "metadata": {},
   "source": [
    "\n",
    "### Оглавление\n",
    "  \n",
    "1. [Задание 1](#task1)   \n",
    "2. [Задание 2](#task2)  "
   ]
  },
  {
   "cell_type": "markdown",
   "id": "a704c33e",
   "metadata": {},
   "source": [
    "###### 1. Задание 1 <a id='task1'></a>"
   ]
  },
  {
   "cell_type": "markdown",
   "id": "43ef8a58",
   "metadata": {},
   "source": [
    "Обязательная часть\n",
    "Будем парсить страницу со свежеми новостям на habr.com/ru/all/.\n",
    "\n",
    "Вам необходимо собирать только те статьи, в которых встречается хотя бы одно требуемое ключевое слово. Эти слова определяем в начале кода в переменной, например:\n",
    "\n",
    "KEYWORDS = ['python', 'парсинг']\n",
    "\n",
    "Поиск вести по всей доступной preview-информации (это информация, доступная непосредственно с текущей страницы).\n",
    "\n",
    "В итоге должен формироваться датафрейм вида: <дата> - <заголовок> - <ссылка>"
   ]
  },
  {
   "cell_type": "code",
   "execution_count": null,
   "id": "c03b92cf",
   "metadata": {},
   "outputs": [],
   "source": [
    "import requests"
   ]
  },
  {
   "cell_type": "code",
   "execution_count": null,
   "id": "af54db26",
   "metadata": {},
   "outputs": [],
   "source": [
    "# определяем список хабов, которые нам заданы\n",
    "KEYWORDS = ['python', 'парсинг']"
   ]
  },
  {
   "cell_type": "code",
   "execution_count": null,
   "id": "716c39a1",
   "metadata": {},
   "outputs": [],
   "source": [
    "# определяем список хабов, которые нам интересны\n",
    "DESIRED_HUBS = ['python', 'bigdata']"
   ]
  },
  {
   "cell_type": "code",
   "execution_count": null,
   "id": "44d504a5",
   "metadata": {},
   "outputs": [],
   "source": [
    "URL = 'habr.com/ru/all/'"
   ]
  },
  {
   "cell_type": "code",
   "execution_count": null,
   "id": "481ee98a",
   "metadata": {},
   "outputs": [],
   "source": [
    "req = requests.get(URL)\n",
    "req"
   ]
  },
  {
   "cell_type": "code",
   "execution_count": null,
   "id": "e898e5ec",
   "metadata": {},
   "outputs": [],
   "source": [
    "req.text"
   ]
  },
  {
   "cell_type": "code",
   "execution_count": null,
   "id": "3ea3d382",
   "metadata": {},
   "outputs": [],
   "source": [
    "import pandas as pd\n",
    "\n",
    "  \n",
    "# создание фрейма данных из CSV-файла\n",
    "\n",
    "data = pd.read_csv(\"employees.csv\")\n",
    "\n",
    "  \n",
    "# создание фильтров серии bool из isin ()\n",
    "\n",
    "filter1 = data[\"Gender\"].isin([\"Female\"])\n",
    "\n",
    "filter2 = data[\"Team\"].isin([\"Engineering\", \"Distribution\", \"Finance\" ])\n",
    "\n",
    "  \n",
    "# отображение данных с применением фильтра и обязательным\n",
    "data[filter1 & filter2]"
   ]
  },
  {
   "cell_type": "code",
   "execution_count": null,
   "id": "9f79a1a0",
   "metadata": {},
   "outputs": [],
   "source": [
    "# получаем страницу с самыми свежими постами\n",
    "req = requests.get('https://habr.com/ru/all/')\n",
    "soup = BeautifulSoup(req.text, 'html.parser')"
   ]
  },
  {
   "cell_type": "code",
   "execution_count": 1,
   "id": "88a8288c",
   "metadata": {},
   "outputs": [],
   "source": [
    "# определяем список хабов, которые нам интересны\n",
    "DESIRED_HUBS = ['python', 'bigdata']"
   ]
  },
  {
   "cell_type": "code",
   "execution_count": 6,
   "id": "fb9b46d4",
   "metadata": {},
   "outputs": [],
   "source": [
    "# получаем страницу с самыми свежими постами\n",
    "req = requests.get('https://habr.com/ru/all/')\n",
    "soup = BeautifulSoup(req.text, 'html.parser')"
   ]
  },
  {
   "cell_type": "code",
   "execution_count": 9,
   "id": "0a406c44",
   "metadata": {},
   "outputs": [
    {
     "data": {
      "text/plain": [
       "[<div class=\"tm-article-snippet\"><div class=\"tm-article-snippet__meta-container\"><div class=\"tm-article-snippet__meta\"><span class=\"tm-user-info tm-article-snippet__author\"><a class=\"tm-user-info__userpic\" href=\"/ru/users/Leka_engineer/\" title=\"Leka_engineer\"><div class=\"tm-entity-image\"><svg class=\"tm-svg-img tm-image-placeholder tm-image-placeholder_pink\" height=\"24\" width=\"24\"><!-- --><use xlink:href=\"/img/megazord-v24.4c3730a5.svg#placeholder-user\"></use></svg></div></a><span class=\"tm-user-info__user\"><a class=\"tm-user-info__username\" href=\"/ru/users/Leka_engineer/\">\n",
       "       Leka_engineer\n",
       "     </a></span></span><span class=\"tm-article-snippet__datetime-published\"><time datetime=\"2021-07-26T15:51:34.000Z\" title=\"2021-07-26, 18:51\">сегодня в 18:51</time></span></div><!-- --></div><h2 class=\"tm-article-snippet__title tm-article-snippet__title_h2\"><a class=\"tm-article-snippet__title-link\" data-article-link=\"\" href=\"/ru/post/569724/\"><span>КСВ разъёма и перехода на плату</span></a></h2><div class=\"tm-article-snippet__hubs\"><span class=\"tm-article-snippet__hubs-item\"><a class=\"tm-article-snippet__hubs-item-link\" href=\"/ru/hub/netdev/\"><span>Разработка систем связи</span></a></span><span class=\"tm-article-snippet__hubs-item\"><a class=\"tm-article-snippet__hubs-item-link\" href=\"/ru/hub/prototyping/\"><span>Прототипирование</span></a></span><span class=\"tm-article-snippet__hubs-item\"><a class=\"tm-article-snippet__hubs-item-link\" href=\"/ru/hub/electronics/\"><span>Производство и разработка электроники</span></a></span><span class=\"tm-article-snippet__hubs-item\"><a class=\"tm-article-snippet__hubs-item-link\" href=\"/ru/hub/popular_science/\"><span>Научно-популярное</span></a></span></div><div class=\"tm-article-snippet__labels\"><!-- --></div><!-- --><div class=\"tm-article-body tm-article-snippet__lead\">\n",
       " <div class=\"tm-article-snippet__cover tm-article-snippet__cover_cover\"><img class=\"tm-article-snippet__lead-image\" src=\"https://habrastorage.org/getpro/habr/upload_files/5ec/2c5/bf1/5ec2c5bf11a2cc6fd5d2788de0964e00.jpg\" style=\"object-position:5.7692307692308% 59.090909090909%;\"/></div><div class=\"article-formatted-body article-formatted-body_version-2\"><p>СВЧ устройство не может быть исполнено без приспособления ввода/вывода сигнала. Чаще всего сигналы подаются с помощью коаксиальных кабелей, на конце которых установлены коаксиальные разъёмы. Соответственно, на устройстве (корпусе или печатной плате) должны быть установлены ответные разъёмы. </p><p>К сожалению, очень часто инженеры разработчики не уделяют должного внимания переходу, тщательно настраивают все узлы изделия, но разъёмы просто покупают в духе \"написано до 18 ГГц\" и подойдёт значит.</p><p>В данной мини-статье будет рассмотрен только разъём типа SMA, так как это — один из наиболее часто применяемых интерфейсов в электронике СВЧ.</p></div><a class=\"tm-article-snippet__readmore\" href=\"/ru/post/569724/\"><span>почему плата на обложке \"плохая\" ?</span></a></div></div>,\n",
       " <div class=\"tm-article-snippet\"><div class=\"tm-article-snippet__meta-container\"><div class=\"tm-article-snippet__meta\"><span class=\"tm-user-info tm-article-snippet__author\"><a class=\"tm-user-info__userpic\" href=\"/ru/users/AlenaMakarova/\" title=\"AlenaMakarova\"><div class=\"tm-entity-image\"><img alt=\"\" class=\"tm-entity-image__pic\" height=\"24\" loading=\"lazy\" src=\"//habrastorage.org/r/w32/getpro/habr/avatars/0ee/d07/f99/0eed07f9947c758c08d2dbf854c120f4.jpg\" width=\"24\"/></div></a><span class=\"tm-user-info__user\"><a class=\"tm-user-info__username\" href=\"/ru/users/AlenaMakarova/\">\n",
       "       AlenaMakarova\n",
       "     </a></span></span><span class=\"tm-article-snippet__datetime-published\"><time datetime=\"2021-07-26T15:48:44.000Z\" title=\"2021-07-26, 18:48\">сегодня в 18:48</time></span></div><!-- --></div><h2 class=\"tm-article-snippet__title tm-article-snippet__title_h2\"><a class=\"tm-article-snippet__title-link\" data-article-link=\"\" href=\"/ru/post/569722/\"><span>В поисках защитного титра антител</span></a></h2><div class=\"tm-article-snippet__hubs\"><span class=\"tm-article-snippet__hubs-item\"><a class=\"tm-article-snippet__hubs-item-link\" href=\"/ru/hub/biotech/\"><span>Биотехнологии</span></a></span><span class=\"tm-article-snippet__hubs-item\"><a class=\"tm-article-snippet__hubs-item-link\" href=\"/ru/hub/health/\"><span>Здоровье</span></a></span><span class=\"tm-article-snippet__hubs-item\"><a class=\"tm-article-snippet__hubs-item-link\" href=\"/ru/hub/biology/\"><span>Биология</span></a></span></div><div class=\"tm-article-snippet__labels\"><!-- --></div><!-- --><div class=\"tm-article-body tm-article-snippet__lead\">\n",
       " <div class=\"tm-article-snippet__cover tm-article-snippet__cover_cover\"><img class=\"tm-article-snippet__lead-image\" src=\"https://habrastorage.org/getpro/habr/upload_files/dea/f9f/97e/deaf9f97e4ec4721082b4b39a153759b.jpg\" style=\"object-position:0% 0%;\"/></div><div class=\"article-formatted-body article-formatted-body_version-2\"><p>Сегодня будет длинная, немного грустая, но важная статья. Мы поговорим о том, можно ли заразиться после вакцинации? Защищают ли вакцины от штамма дельта? Как определить, сформирован ли иммунитет после вакцинации? Какие анализы сдать? На какие значения ориентироваться? </p><p><strong>МОГУ ЛИ Я ЗАРАЗИТЬСЯ ПОСЛЕ ВАКЦИНАЦИИ?</strong></p><p>Да, Вы можете заразиться коронавирусом после полного курса вакцинации. К сожалению, ни одна вакцина от covid-2019 в мире не может полностью защитить от болезни на 100%. Эффективность Спутника V по данным клинических исследований составляет 91,4%. Это значит, что Спутник V защитит примерно 9 из 10 человек от заражения уханьским штаммом SARS-CoV-2 [1], однако, эффективность Спутник V от заражения индийским штаммом дельта немного ниже, но об этом поговорим чуть позже. </p><p>Заразится ли человек covid-2019 после вакцинации, зависит не только уровня антител и иммунитета человека, но и от инфекционной дозы – количества вирусных частиц, которые человек получает при заражении. Считается, что инфекционная доза может отличаться до 1000 раз, и лишь небольшая часть людей ответственная за 80% всех новых инфицирований. Таким суперспредером может быть и «здоровый человек», поскольку максимальные выделение вирусных частиц наблюдается не только в первые дни болезни, но и за 1-2 суток до начала первых симптомов [2, 3]. Важен и путь заражения. В случае заражения при контакте с поверхностями вероятность заразиться ниже и болезнь протекает легче, а при вдыхании аэрозоля быстро развивается пневмония [4]. После вакцинации нужно продолжать носить маску и не посещать места скопления людей без необходимости, чтобы снизить инфекционную дозу [5].</p></div><a class=\"tm-article-snippet__readmore\" href=\"/ru/post/569722/\"><span>Мифы о вакцинации</span></a></div></div>,\n",
       " <div class=\"tm-article-snippet\"><div class=\"tm-article-snippet__meta-container\"><div class=\"tm-article-snippet__meta\"><span class=\"tm-user-info tm-article-snippet__author\"><a class=\"tm-user-info__userpic\" href=\"/ru/users/luxa_klim/\" title=\"luxa_klim\"><div class=\"tm-entity-image\"><svg class=\"tm-svg-img tm-image-placeholder tm-image-placeholder_lilac\" height=\"24\" width=\"24\"><!-- --><use xlink:href=\"/img/megazord-v24.4c3730a5.svg#placeholder-user\"></use></svg></div></a><span class=\"tm-user-info__user\"><a class=\"tm-user-info__username\" href=\"/ru/users/luxa_klim/\">\n",
       "       luxa_klim\n",
       "     </a></span></span><span class=\"tm-article-snippet__datetime-published\"><time datetime=\"2021-07-26T15:30:45.000Z\" title=\"2021-07-26, 18:30\">сегодня в 18:30</time></span></div><!-- --></div><h2 class=\"tm-article-snippet__title tm-article-snippet__title_h2\"><a class=\"tm-article-snippet__title-link\" data-article-link=\"\" href=\"/ru/post/569716/\"><span>Как я генерировал мандалы</span></a></h2><div class=\"tm-article-snippet__hubs\"><span class=\"tm-article-snippet__hubs-item\"><a class=\"tm-article-snippet__hubs-item-link\" href=\"/ru/hub/webdev/\"><span>Разработка веб-сайтов</span></a></span><span class=\"tm-article-snippet__hubs-item\"><a class=\"tm-article-snippet__hubs-item-link\" href=\"/ru/hub/python/\"><span>Python</span></a></span><span class=\"tm-article-snippet__hubs-item\"><a class=\"tm-article-snippet__hubs-item-link\" href=\"/ru/hub/javascript/\"><span>JavaScript</span></a></span><span class=\"tm-article-snippet__hubs-item\"><a class=\"tm-article-snippet__hubs-item-link\" href=\"/ru/hub/vector_graphics/\"><span>Работа с векторной графикой</span></a></span><span class=\"tm-article-snippet__hubs-item\"><a class=\"tm-article-snippet__hubs-item-link\" href=\"/ru/hub/flask/\"><span>Flask</span></a></span></div><div class=\"tm-article-snippet__labels\"><div class=\"tm-article-snippet__label\"><span>\n",
       "           Из песочницы\n",
       "         </span></div></div><!-- --><div class=\"tm-article-body tm-article-snippet__lead\">\n",
       " <div class=\"tm-article-snippet__cover tm-article-snippet__cover_cover\"><img class=\"tm-article-snippet__lead-image\" src=\"https://habrastorage.org/getpro/habr/upload_files/806/da1/af2/806da1af26734fcc2bf46f2f6a794fdc.png\" style=\"object-position:0% 48.409090909091%;\"/></div><div class=\"article-formatted-body article-formatted-body_version-2\"><p>Первый опыт в веб-разработке и работе с векторной графикой.</p></div><a class=\"tm-article-snippet__readmore\" href=\"/ru/post/569716/\"><span>Читать далее</span></a></div></div>,\n",
       " <div class=\"tm-article-snippet\"><div class=\"tm-article-snippet__meta-container\"><div class=\"tm-article-snippet__meta\"><span class=\"tm-user-info tm-article-snippet__author\"><a class=\"tm-user-info__userpic\" href=\"/ru/users/yurchenkovski/\" title=\"yurchenkovski\"><div class=\"tm-entity-image\"><svg class=\"tm-svg-img tm-image-placeholder tm-image-placeholder_pink\" height=\"24\" width=\"24\"><!-- --><use xlink:href=\"/img/megazord-v24.4c3730a5.svg#placeholder-user\"></use></svg></div></a><span class=\"tm-user-info__user\"><a class=\"tm-user-info__username\" href=\"/ru/users/yurchenkovski/\">\n",
       "       yurchenkovski\n",
       "     </a></span></span><span class=\"tm-article-snippet__datetime-published\"><time datetime=\"2021-07-26T14:48:55.000Z\" title=\"2021-07-26, 17:48\">сегодня в 17:48</time></span></div><!-- --></div><h2 class=\"tm-article-snippet__title tm-article-snippet__title_h2\"><a class=\"tm-article-snippet__title-link\" data-article-link=\"\" href=\"/ru/company/dins/blog/569706/\"><span>DINS DevOps EVENING: TICK-стек — разбор полетов спустя 3 года эксплуатации</span></a></h2><div class=\"tm-article-snippet__hubs\"><span class=\"tm-article-snippet__hubs-item\"><a class=\"tm-article-snippet__hubs-item-link\" href=\"/ru/company/dins/blog/\"><span>Блог компании DINS</span></a></span></div><div class=\"tm-article-snippet__labels\"><!-- --></div><!-- --><div class=\"tm-article-body tm-article-snippet__lead\">\n",
       " <div class=\"tm-article-snippet__cover tm-article-snippet__cover_cover\"><img class=\"tm-article-snippet__lead-image\" src=\"https://habrastorage.org/getpro/habr/upload_files/afc/47f/d4f/afc47fd4fd691858be8b3a268f729ab4.png\" style=\"object-position:0% 0%;\"/></div><div class=\"article-formatted-body article-formatted-body_version-2\"><p>Евгений Тетеньчук из DINS расскажет о компонентах TICK, разберет альтернативы и покажет возможный путь миграции в другие решения. Участие бесплатное, но нужно <a href=\"https://dins.timepad.ru/event/1715370/?utm_refcode=3a181dc9563c3f96adf8c8e1f057a572909e52e0\"><u>зарегистрироваться</u></a>. </p><p>Подробная программа и информация о спикерах — под катом.</p></div><a class=\"tm-article-snippet__readmore\" href=\"/ru/company/dins/blog/569706/\"><span>Читать далее</span></a></div></div>,\n",
       " <div class=\"tm-article-snippet\"><div class=\"tm-article-snippet__meta-container\"><div class=\"tm-article-snippet__meta\"><span class=\"tm-user-info tm-article-snippet__author\"><a class=\"tm-user-info__userpic\" href=\"/ru/users/rsashka/\" title=\"rsashka\"><div class=\"tm-entity-image\"><svg class=\"tm-svg-img tm-image-placeholder tm-image-placeholder_pink\" height=\"24\" width=\"24\"><!-- --><use xlink:href=\"/img/megazord-v24.4c3730a5.svg#placeholder-user\"></use></svg></div></a><span class=\"tm-user-info__user\"><a class=\"tm-user-info__username\" href=\"/ru/users/rsashka/\">\n",
       "       rsashka\n",
       "     </a></span></span><span class=\"tm-article-snippet__datetime-published\"><time datetime=\"2021-07-26T14:46:26.000Z\" title=\"2021-07-26, 17:46\">сегодня в 17:46</time></span></div><!-- --></div><h2 class=\"tm-article-snippet__title tm-article-snippet__title_h2\"><a class=\"tm-article-snippet__title-link\" data-article-link=\"\" href=\"/ru/company/timeweb/blog/569422/\"><span>Можно ли использовать декларативный и императивный стили написания программ одновременно?</span></a></h2><div class=\"tm-article-snippet__hubs\"><span class=\"tm-article-snippet__hubs-item\"><a class=\"tm-article-snippet__hubs-item-link\" href=\"/ru/company/timeweb/blog/\"><span>Блог компании Timeweb</span></a></span><span class=\"tm-article-snippet__hubs-item\"><a class=\"tm-article-snippet__hubs-item-link\" href=\"/ru/hub/crazydev/\"><span>Ненормальное программирование</span></a></span><span class=\"tm-article-snippet__hubs-item\"><a class=\"tm-article-snippet__hubs-item-link\" href=\"/ru/hub/programming/\"><span>Программирование</span></a></span><span class=\"tm-article-snippet__hubs-item\"><a class=\"tm-article-snippet__hubs-item-link\" href=\"/ru/hub/cpp/\"><span>C++</span></a></span><span class=\"tm-article-snippet__hubs-item\"><a class=\"tm-article-snippet__hubs-item-link\" href=\"/ru/hub/prolog/\"><span>Prolog</span></a></span></div><div class=\"tm-article-snippet__labels\"><!-- --></div><!-- --><div class=\"tm-article-body tm-article-snippet__lead\">\n",
       " <!-- --><div class=\"article-formatted-body article-formatted-body_version-1\"><img src=\"https://habrastorage.org/webt/se/qo/t4/seqot4lq7cpkfff4vr4gkg8aw6s.jpeg\"/><br/>\n",
       " <br/>\n",
       " При разработке своего собственного языка программирования автор должен определиться, какими свойствами его язык должен обладать, ведь в конечном итоге именно это и будет определять назначение языка и особенности его использования. Причем некоторые свойства настолько сильно влияют на итоговую концепцию языка и его синтаксис, что в последствии их изменение невозможно в принципе, либо новый синтаксис получается очень запутанным и непонятным. Наверно из-за этого многие свойства языков программирования рассматриваются и изучаются как взаимоисключающие.<br/>\n",
       " <br/>\n",
       " До недавнего времени я считал, что императивная и декларативная парадигмы написания программ являются антагонистами и взаимоисключающими понятиями. Ведь выбор стиля написания кода, изначально определяется автором языка еще на стадии его проектирования и оказывает влияние на все последующие аспекты.<br/>\n",
       " <br/>\n",
       " Но сейчас я думаю, что это не верно. Императивный и декларативный стили программирования не являются взаимоисключающими, а писать программы только в одной из указанных парадигм подталкивают правила синтаксиса, реализованные в языке!<br/>\n",
       " <br/>\n",
       " Другими словами, использовать только императивную или только декларативную парадигмы разработчик вынужден не потому, что он не умеет или не хочет писать код по другому, а из-за того, что все более-менее мейнстримные языки программирования ориентированы на использование только одной парадигмы. И выбор только одной парадигмы написания кода, это ограничение, которое навязано программистам создателями языка. Ведь если они изначально ориентировались только на одну концепцию разработки кода, то и разрабатывали синтаксис языка в соответствии с этой парадигмой.<br/>\n",
       " <br/>\n",
       " Данная статья — размышление о совместимости декларативной и императивной парадигм программирования и возможности их одновременного использования в рамках одного языка программирования одновременно.<br/>\n",
       " <br/></div><a class=\"tm-article-snippet__readmore\" href=\"/ru/company/timeweb/blog/569422/\"><span>Читать дальше →</span></a></div></div>,\n",
       " <div class=\"tm-article-snippet\"><div class=\"tm-article-snippet__meta-container\"><div class=\"tm-article-snippet__meta\"><span class=\"tm-user-info tm-article-snippet__author\"><a class=\"tm-user-info__userpic\" href=\"/ru/users/Kaspersky_Lab/\" title=\"Kaspersky_Lab\"><div class=\"tm-entity-image\"><img alt=\"\" class=\"tm-entity-image__pic\" height=\"24\" loading=\"lazy\" src=\"//habrastorage.org/r/w32/getpro/habr/avatars/fe4/0e2/2a9/fe40e22a957a2624684a47d3da2d924f.png\" width=\"24\"/></div></a><span class=\"tm-user-info__user\"><a class=\"tm-user-info__username\" href=\"/ru/users/Kaspersky_Lab/\">\n",
       "       Kaspersky_Lab\n",
       "     </a></span></span><span class=\"tm-article-snippet__datetime-published\"><time datetime=\"2021-07-26T14:40:56.000Z\" title=\"2021-07-26, 17:40\">сегодня в 17:40</time></span></div><!-- --></div><h2 class=\"tm-article-snippet__title tm-article-snippet__title_h2\"><a class=\"tm-article-snippet__title-link\" data-article-link=\"\" href=\"/ru/company/kaspersky/blog/569700/\"><span>Security Week 30: SeriousSAM — эскалация привилегий в Windows</span></a></h2><div class=\"tm-article-snippet__hubs\"><span class=\"tm-article-snippet__hubs-item\"><a class=\"tm-article-snippet__hubs-item-link\" href=\"/ru/company/kaspersky/blog/\"><span>Блог компании «Лаборатория Касперского»</span></a></span><span class=\"tm-article-snippet__hubs-item\"><a class=\"tm-article-snippet__hubs-item-link\" href=\"/ru/hub/infosecurity/\"><span>Информационная безопасность</span></a></span></div><div class=\"tm-article-snippet__labels\"><!-- --></div><!-- --><div class=\"tm-article-body tm-article-snippet__lead\">\n",
       " <!-- --><div class=\"article-formatted-body article-formatted-body_version-1\">Месяц нетривиальных уязвимостей в Windows продолжается. На прошлой неделе сразу несколько исследователей раскрыли детали уязвимости SeriousSAM (по аналогии с недавними уязвимостями PrintNightmare в службе печати, было также предложено название HiveNightmare). Еще 19 июля исследователь Джонас Лик (Jonas Lyk) <a href=\"https://twitter.com/jonasLyk/status/1417205166172950531\" rel=\"nofollow noopener noreferrer\">заметил</a>, что доступ к файлам системы Security Account Manager открыт пользователям с минимальными привилегиями. Уязвимыми, впрочем, оказались не исходные данные, а их бэкап, создающийся при помощи функции Volume Shadow Copy. <br/>\n",
       " <br/>\n",
       " <div style=\"text-align:center;\"><img src=\"https://habrastorage.org/webt/cz/to/xz/cztoxz6i_pn0ndgcqlpupj1yvwa.png\"/></div><br/>\n",
       " <br/>\n",
       " Начиная с версии Windows 10 v1809 (выпущенной, соответственно, осенью 2018 года) приоткрылся доступ к чувствительным данным, включая захешированные пароли. 20 июля исследователь Кевин Бомонт <a href=\"https://doublepulsar.com/hivenightmare-aka-serioussam-anybody-can-read-the-registry-in-windows-10-7a871c465fa5\" rel=\"nofollow noopener noreferrer\">показал</a> работающий эксплойт для данной уязвимости. По сути proof of concept просто копирует системные файлы в пользовательскую директорию. Хеши паролей затем используются для получения наивысших привилегий в Windows 10. <br/></div><a class=\"tm-article-snippet__readmore\" href=\"/ru/company/kaspersky/blog/569700/\"><span>Читать дальше →</span></a></div></div>,\n",
       " <div class=\"tm-article-snippet\"><div class=\"tm-article-snippet__meta-container\"><div class=\"tm-article-snippet__meta\"><span class=\"tm-user-info tm-article-snippet__author\"><a class=\"tm-user-info__userpic\" href=\"/ru/users/MaxRokatansky/\" title=\"MaxRokatansky\"><div class=\"tm-entity-image\"><img alt=\"\" class=\"tm-entity-image__pic\" height=\"24\" loading=\"lazy\" src=\"//habrastorage.org/r/w32/getpro/habr/avatars/b9f/baf/5f9/b9fbaf5f96ae52973706a0716bd9216e.jpg\" width=\"24\"/></div></a><span class=\"tm-user-info__user\"><a class=\"tm-user-info__username\" href=\"/ru/users/MaxRokatansky/\">\n",
       "       MaxRokatansky\n",
       "     </a></span></span><span class=\"tm-article-snippet__datetime-published\"><time datetime=\"2021-07-26T14:38:18.000Z\" title=\"2021-07-26, 17:38\">сегодня в 17:38</time></span></div><!-- --></div><h2 class=\"tm-article-snippet__title tm-article-snippet__title_h2\"><a class=\"tm-article-snippet__title-link\" data-article-link=\"\" href=\"/ru/company/otus/blog/569662/\"><span>Разбираемся с AsyncImage в SwiftUI</span></a></h2><div class=\"tm-article-snippet__hubs\"><span class=\"tm-article-snippet__hubs-item\"><a class=\"tm-article-snippet__hubs-item-link\" href=\"/ru/company/otus/blog/\"><span>Блог компании OTUS</span></a></span><span class=\"tm-article-snippet__hubs-item\"><a class=\"tm-article-snippet__hubs-item-link\" href=\"/ru/hub/ios_dev/\"><span>Разработка под iOS</span></a></span><span class=\"tm-article-snippet__hubs-item\"><a class=\"tm-article-snippet__hubs-item-link\" href=\"/ru/hub/swift/\"><span>Swift</span></a></span></div><div class=\"tm-article-snippet__labels\"><div class=\"tm-article-snippet__label\"><span>\n",
       "           Перевод\n",
       "         </span></div></div><!-- --><div class=\"tm-article-body tm-article-snippet__lead\">\n",
       " <div class=\"tm-article-snippet__cover tm-article-snippet__cover_cover\"><img class=\"tm-article-snippet__lead-image\" src=\"https://habrastorage.org/getpro/habr/upload_files/093/43a/212/09343a2120aeca5701f2e641c73b609d.png\" style=\"object-position:0% 0%;\"/></div><div class=\"article-formatted-body article-formatted-body_version-2\"><p>На протяжении нашей профессиональной деятельности мы в основном создаем приложения, которые так или иначе обмениваются данными с веб-сервисами. Изображения на удаленных серверах — это как раз один из таких типов данных, которые нам необходимо загружать и отображать в нашем приложении. SwiftUI предоставляет нам тип AsyncImage, который является представлением для загрузки и отображения изображений по URL-адресу. В этой статье вы узнаете, как использовать и кастомизировать AsyncImage в SwiftUI.</p></div><a class=\"tm-article-snippet__readmore\" href=\"/ru/company/otus/blog/569662/\"><span>Читать далее</span></a></div></div>,\n",
       " <div class=\"tm-article-snippet\"><div class=\"tm-article-snippet__meta-container\"><div class=\"tm-article-snippet__meta\"><span class=\"tm-user-info tm-article-snippet__author\"><a class=\"tm-user-info__userpic\" href=\"/ru/users/JetBrains_Education/\" title=\"JetBrains_Education\"><div class=\"tm-entity-image\"><img alt=\"\" class=\"tm-entity-image__pic\" height=\"24\" loading=\"lazy\" src=\"//habrastorage.org/r/w32/getpro/habr/avatars/dc7/9ed/782/dc79ed78200ea52189b18c0882ee5742.png\" width=\"24\"/></div></a><span class=\"tm-user-info__user\"><a class=\"tm-user-info__username\" href=\"/ru/users/JetBrains_Education/\">\n",
       "       JetBrains_Education\n",
       "     </a></span></span><span class=\"tm-article-snippet__datetime-published\"><time datetime=\"2021-07-26T14:36:28.000Z\" title=\"2021-07-26, 17:36\">сегодня в 17:36</time></span></div><!-- --></div><h2 class=\"tm-article-snippet__title tm-article-snippet__title_h2\"><a class=\"tm-article-snippet__title-link\" data-article-link=\"\" href=\"/ru/company/JetBrains-education/blog/569704/\"><span>DevDays: студенческий хакатон на магистерской программе JetBrains&amp;ITMO</span></a></h2><div class=\"tm-article-snippet__hubs\"><span class=\"tm-article-snippet__hubs-item\"><a class=\"tm-article-snippet__hubs-item-link\" href=\"/ru/company/JetBrains-education/blog/\"><span>Блог компании Образовательные проекты JetBrains</span></a></span><span class=\"tm-article-snippet__hubs-item\"><a class=\"tm-article-snippet__hubs-item-link\" href=\"/ru/hub/hackathons/\"><span>Хакатоны</span></a></span><span class=\"tm-article-snippet__hubs-item\"><a class=\"tm-article-snippet__hubs-item-link\" href=\"/ru/hub/study/\"><span>Учебный процесс в IT</span></a></span></div><div class=\"tm-article-snippet__labels\"><!-- --></div><!-- --><div class=\"tm-article-body tm-article-snippet__lead\">\n",
       " <div class=\"tm-article-snippet__cover tm-article-snippet__cover_cover\"><img class=\"tm-article-snippet__lead-image\" src=\"https://habrastorage.org/getpro/habr/upload_files/1ed/a6b/d79/1eda6bd7998b26d63148f330a63361a0.jpg\" style=\"object-position:0% 0%;\"/></div><div class=\"article-formatted-body article-formatted-body_version-2\"><p>«Увлекательное испытание себя» – так описывают студенты участие в хакатоне, который проходит каждый семестр у первокурсников <a href=\"https://mse.itmo.ru/\"><u>магистерской программы JetBrains&amp;ITMO</u></a>. DevDays – это три дня и три ночи интенсивной работы и горячих митингов, знакомство с новыми технологиями и множество строк кода. Ребята работают в небольших командах и проходят все этапы разработки: от возникновения идеи проекта до работающего решения. А прошедшей весной студенты наконец поработали друг с другом вживую после почти года удаленки. </p><p>В этом посте рассказываем подробнее об идеях проектов: два плагина для Intellij IDEA,  приложение для тиктокеров, эмулятор мыши для механических клавиатур и чатбот-органайзер.</p></div><a class=\"tm-article-snippet__readmore\" href=\"/ru/company/JetBrains-education/blog/569704/\"><span>Читать далее</span></a></div></div>,\n",
       " <div class=\"tm-article-snippet\"><div class=\"tm-article-snippet__meta-container\"><div class=\"tm-article-snippet__meta\"><span class=\"tm-user-info tm-article-snippet__author\"><a class=\"tm-user-info__userpic\" href=\"/ru/users/annalen_der_physik/\" title=\"annalen_der_physik\"><div class=\"tm-entity-image\"><svg class=\"tm-svg-img tm-image-placeholder tm-image-placeholder_lilac\" height=\"24\" width=\"24\"><!-- --><use xlink:href=\"/img/megazord-v24.4c3730a5.svg#placeholder-user\"></use></svg></div></a><span class=\"tm-user-info__user\"><a class=\"tm-user-info__username\" href=\"/ru/users/annalen_der_physik/\">\n",
       "       annalen_der_physik\n",
       "     </a></span></span><span class=\"tm-article-snippet__datetime-published\"><time datetime=\"2021-07-26T14:18:33.000Z\" title=\"2021-07-26, 17:18\">сегодня в 17:18</time></span></div><!-- --></div><h2 class=\"tm-article-snippet__title tm-article-snippet__title_h2\"><a class=\"tm-article-snippet__title-link\" data-article-link=\"\" href=\"/ru/post/569698/\"><span>Диаграммы Фейнмана в первом классе</span></a></h2><div class=\"tm-article-snippet__hubs\"><span class=\"tm-article-snippet__hubs-item\"><a class=\"tm-article-snippet__hubs-item-link\" href=\"/ru/hub/maths/\"><span>Математика</span></a></span><span class=\"tm-article-snippet__hubs-item\"><a class=\"tm-article-snippet__hubs-item-link\" href=\"/ru/hub/physics/\"><span>Физика</span></a></span></div><div class=\"tm-article-snippet__labels\"><div class=\"tm-article-snippet__label\"><span>\n",
       "           Из песочницы\n",
       "         </span></div></div><!-- --><div class=\"tm-article-body tm-article-snippet__lead\">\n",
       " <div class=\"tm-article-snippet__cover\"><img class=\"tm-article-snippet__lead-image\" src=\"https://habrastorage.org/getpro/habr/upload_files/69e/fca/f07/69efcaf0755f51b923bc42cfcc803021.png\" style=\"object-position:0% 0%;\"/></div><div class=\"article-formatted-body article-formatted-body_version-2\"><p>Старшая дочь, 7 лет отроду, учится во втором классе бразильской школы (здесь дети идут в первый класс в 6 лет). Времена нынче трудные, школы уже 3 полугодия закрыты. Поэтому по сути в школу она так и не ходила. Справедливости ради надо сказать, что в 3 года в садике она выучила португальский в объеме достаточном для жизни, в 4 года ее обучили буквам и счету, в 5 лет она ходила в подготовишку к первому классу в Томске и тоже чему-то научилась. Сейчас у нее каникулы. И мы решили записаться в русскую онлайн школу. Там как раз есть тестовые 2 недели. Пошли в первый класс. И вот, на первом занятии по русскому языку я вижу диаграммы Фейнмана!   Я чуть со стула не свалился...</p><p>После этого лирического отступления идет высоконагруженный технический пост про диаграммную технику Фейнмана и ее народно-хозяйственное значение. </p></div><a class=\"tm-article-snippet__readmore\" href=\"/ru/post/569698/\"><span>Читать далее</span></a></div></div>,\n",
       " <div class=\"tm-article-snippet\"><div class=\"tm-article-snippet__meta-container\"><div class=\"tm-article-snippet__meta\"><span class=\"tm-user-info tm-article-snippet__author\"><a class=\"tm-user-info__userpic\" href=\"/ru/users/VitalyCherkov/\" title=\"VitalyCherkov\"><div class=\"tm-entity-image\"><img alt=\"\" class=\"tm-entity-image__pic\" height=\"24\" loading=\"lazy\" src=\"//habrastorage.org/r/w32/getpro/habr/avatars/943/093/6f0/9430936f0cf1c1b476000528a1711e74.png\" width=\"24\"/></div></a><span class=\"tm-user-info__user\"><a class=\"tm-user-info__username\" href=\"/ru/users/VitalyCherkov/\">\n",
       "       VitalyCherkov\n",
       "     </a></span></span><span class=\"tm-article-snippet__datetime-published\"><time datetime=\"2021-07-26T14:02:01.000Z\" title=\"2021-07-26, 17:02\">сегодня в 17:02</time></span></div><!-- --></div><h2 class=\"tm-article-snippet__title tm-article-snippet__title_h2\"><a class=\"tm-article-snippet__title-link\" data-article-link=\"\" href=\"/ru/company/kts/blog/569448/\"><span>Пятёрочка — Интегрируй меня полностью</span></a></h2><div class=\"tm-article-snippet__hubs\"><span class=\"tm-article-snippet__hubs-item\"><a class=\"tm-article-snippet__hubs-item-link\" href=\"/ru/company/kts/blog/\"><span>Блог компании KTS</span></a></span><span class=\"tm-article-snippet__hubs-item\"><a class=\"tm-article-snippet__hubs-item-link\" href=\"/ru/hub/javascript/\"><span>JavaScript</span></a></span><span class=\"tm-article-snippet__hubs-item\"><a class=\"tm-article-snippet__hubs-item-link\" href=\"/ru/hub/refactoring/\"><span>Проектирование и рефакторинг</span></a></span><span class=\"tm-article-snippet__hubs-item\"><a class=\"tm-article-snippet__hubs-item-link\" href=\"/ru/hub/reactjs/\"><span>ReactJS</span></a></span></div><div class=\"tm-article-snippet__labels\"><!-- --></div><!-- --><div class=\"tm-article-body tm-article-snippet__lead\">\n",
       " <div class=\"tm-article-snippet__cover tm-article-snippet__cover_cover\"><img class=\"tm-article-snippet__lead-image\" src=\"https://habrastorage.org/getpro/habr/upload_files/9b9/a11/9d7/9b9a119d70f156747fd211ac8c99826b.png\" style=\"object-position:0% 0%;\"/></div><div class=\"article-formatted-body article-formatted-body_version-2\"><p>Мы в KTS делаем проект для Пятерочки – новый личный кабинет сотрудника. Продукт объединяет уже существующие сервисы и автоматизирует бизнес-процессы, которые раньше выполнялись вручную.</p><p>Над личным кабинетом работает много команд, поэтому нужен удобный механизм параллельной разработки модулей-микрофронтендов. Мы попробовали три способа встраивания: iframe, NPM-пакеты и Webpack Module Federation. В статье анализируем преимущества и недостатки каждого из них и рассказываем, почему переходили от одной технологии к другой.</p></div><a class=\"tm-article-snippet__readmore\" href=\"/ru/company/kts/blog/569448/\"><span>Поехали!</span></a></div></div>,\n",
       " <div class=\"tm-article-snippet\"><div class=\"tm-article-snippet__meta-container\"><div class=\"tm-article-snippet__meta\"><span class=\"tm-user-info tm-article-snippet__author\"><a class=\"tm-user-info__userpic\" href=\"/ru/users/NikYam/\" title=\"NikYam\"><div class=\"tm-entity-image\"><svg class=\"tm-svg-img tm-image-placeholder tm-image-placeholder_pink\" height=\"24\" width=\"24\"><!-- --><use xlink:href=\"/img/megazord-v24.4c3730a5.svg#placeholder-user\"></use></svg></div></a><span class=\"tm-user-info__user\"><a class=\"tm-user-info__username\" href=\"/ru/users/NikYam/\">\n",
       "       NikYam\n",
       "     </a></span></span><span class=\"tm-article-snippet__datetime-published\"><time datetime=\"2021-07-26T13:29:19.000Z\" title=\"2021-07-26, 16:29\">сегодня в 16:29</time></span></div><!-- --></div><h2 class=\"tm-article-snippet__title tm-article-snippet__title_h2\"><a class=\"tm-article-snippet__title-link\" data-article-link=\"\" href=\"/ru/company/pgk/blog/569686/\"><span>Цифровой двойник вагона</span></a></h2><div class=\"tm-article-snippet__hubs\"><span class=\"tm-article-snippet__hubs-item\"><a class=\"tm-article-snippet__hubs-item-link\" href=\"/ru/company/pgk/blog/\"><span>Блог компании Первая грузовая компания (ПГК)</span></a></span><span class=\"tm-article-snippet__hubs-item\"><a class=\"tm-article-snippet__hubs-item-link\" href=\"/ru/hub/productpm/\"><span>Управление продуктом</span></a></span><span class=\"tm-article-snippet__hubs-item\"><a class=\"tm-article-snippet__hubs-item-link\" href=\"/ru/hub/transport/\"><span>Транспорт</span></a></span></div><div class=\"tm-article-snippet__labels\"><!-- --></div><!-- --><div class=\"tm-article-body tm-article-snippet__lead\">\n",
       " <div class=\"tm-article-snippet__cover tm-article-snippet__cover_cover\"><img class=\"tm-article-snippet__lead-image\" src=\"https://habrastorage.org/getpro/habr/upload_files/926/19d/ffa/92619dffa30646592cbc7b0004d52cdf.jpeg\" style=\"object-position:0% 0%;\"/></div><div class=\"article-formatted-body article-formatted-body_version-2\"><p>Всем привет!</p><p>Меня зовут Никита Ямщиков, руководитель департамента цифрового развития «Первой грузовой компании» (ПГК). В статье я расскажу о том, как наша команда делает обычный железнодорожный вагон цифровым. Собственно, один из продуктов, над которым мы сейчас работаем, так и называется — «Цифровой вагон». Система помогает собирать и анализировать большое количество данных о состоянии вагона, принимать своевременные решения о его ремонте и, таким образом, оптимизировать затраты компании. </p><p><strong>Оцифровать ремонт вагонов</strong></p><p>Качество вагонов — существенная сервисная составляющая железнодорожных грузоперевозок. Поэтому своевременное и качественное проведение ремонтов очень важно. Сам процесс довольно консервативный, а большая его часть происходит в полуавтоматическом режиме со значительной долей ручных корректировок. Все это ведет к таким рискам, как выбор отдаленного депо (а это рост стоимости перегона), отсутствие необходимых деталей, непроизводительный простой в их ожидании. Как нетрудно догадаться, эти риски, в случае своей реализации, ведут к дополнительным затратам. </p><p>Когда по инициативе РЖД на сети начали массово устанавливать датчики, которые измеряют технические показатели колесных пар вагонов – одну из самых дорогостоящих его частей – и позволяют видеть информацию практически в режиме «онлайн», мы поняли, что можем это использовать для решения своих задач. Так появилась идея, с которой стартовал продукт «Цифровой вагон» в ПГК. Мы решили создать модуль, который отслеживает технические показатели колесных пар с этих датчиков — ИС КТИ (контрольно-технические измерения). </p></div><a class=\"tm-article-snippet__readmore\" href=\"/ru/company/pgk/blog/569686/\"><span>Читать далее</span></a></div></div>,\n",
       " <div class=\"tm-article-snippet\"><div class=\"tm-article-snippet__meta-container\"><div class=\"tm-article-snippet__meta\"><span class=\"tm-user-info tm-article-snippet__author\"><a class=\"tm-user-info__userpic\" href=\"/ru/users/MaxRokatansky/\" title=\"MaxRokatansky\"><div class=\"tm-entity-image\"><img alt=\"\" class=\"tm-entity-image__pic\" height=\"24\" loading=\"lazy\" src=\"//habrastorage.org/r/w32/getpro/habr/avatars/b9f/baf/5f9/b9fbaf5f96ae52973706a0716bd9216e.jpg\" width=\"24\"/></div></a><span class=\"tm-user-info__user\"><a class=\"tm-user-info__username\" href=\"/ru/users/MaxRokatansky/\">\n",
       "       MaxRokatansky\n",
       "     </a></span></span><span class=\"tm-article-snippet__datetime-published\"><time datetime=\"2021-07-26T13:22:10.000Z\" title=\"2021-07-26, 16:22\">сегодня в 16:22</time></span></div><!-- --></div><h2 class=\"tm-article-snippet__title tm-article-snippet__title_h2\"><a class=\"tm-article-snippet__title-link\" data-article-link=\"\" href=\"/ru/company/otus/blog/569650/\"><span>@Once: однократные замыкания</span></a></h2><div class=\"tm-article-snippet__hubs\"><span class=\"tm-article-snippet__hubs-item\"><a class=\"tm-article-snippet__hubs-item-link\" href=\"/ru/company/otus/blog/\"><span>Блог компании OTUS</span></a></span><span class=\"tm-article-snippet__hubs-item\"><a class=\"tm-article-snippet__hubs-item-link\" href=\"/ru/hub/ios_dev/\"><span>Разработка под iOS</span></a></span><span class=\"tm-article-snippet__hubs-item\"><a class=\"tm-article-snippet__hubs-item-link\" href=\"/ru/hub/swift/\"><span>Swift</span></a></span></div><div class=\"tm-article-snippet__labels\"><div class=\"tm-article-snippet__label\"><span>\n",
       "           Перевод\n",
       "         </span></div></div><!-- --><div class=\"tm-article-body tm-article-snippet__lead\">\n",
       " <div class=\"tm-article-snippet__cover tm-article-snippet__cover_cover\"><img class=\"tm-article-snippet__lead-image\" src=\"https://habrastorage.org/getpro/habr/upload_files/9c4/af4/efa/9c4af4efa155e8904422e90203a8d700.png\" style=\"object-position:0% 0%;\"/></div><div class=\"article-formatted-body article-formatted-body_version-2\"><p>В Swift 5.5 появилась возможность использовать обертки свойств на <a href=\"https://github.com/apple/swift-evolution/blob/main/proposals/0293-extend-property-wrappers-to-function-and-closure-parameters.md\"><u>параметрах функций и замыканий</u></a>. Это наконец позволило мне реализовать то, что я и многие другие люди всегда хотели видеть в Swift — способ каким-либо образом обеспечить, чтобы замыкание (closure) вызывалось ровно один раз.</p><p>Чтобы понять, зачем, вот вам простой пример.</p></div><a class=\"tm-article-snippet__readmore\" href=\"/ru/company/otus/blog/569650/\"><span>Читать далее</span></a></div></div>,\n",
       " <div class=\"tm-article-snippet\"><div class=\"tm-article-snippet__meta-container\"><div class=\"tm-article-snippet__meta\"><span class=\"tm-user-info tm-article-snippet__author\"><a class=\"tm-user-info__userpic\" href=\"/ru/users/ilyashikhaleev/\" title=\"ilyashikhaleev\"><div class=\"tm-entity-image\"><img alt=\"\" class=\"tm-entity-image__pic\" height=\"24\" loading=\"lazy\" src=\"//habrastorage.org/r/w32/getpro/habr/avatars/269/29a/1a2/26929a1a21eb3e64c37d0d9a35a086c2.jpg\" width=\"24\"/></div></a><span class=\"tm-user-info__user\"><a class=\"tm-user-info__username\" href=\"/ru/users/ilyashikhaleev/\">\n",
       "       ilyashikhaleev\n",
       "     </a></span></span><span class=\"tm-article-snippet__datetime-published\"><time datetime=\"2021-07-26T13:18:40.000Z\" title=\"2021-07-26, 16:18\">сегодня в 16:18</time></span></div><!-- --></div><h2 class=\"tm-article-snippet__title tm-article-snippet__title_h2\"><a class=\"tm-article-snippet__title-link\" data-article-link=\"\" href=\"/ru/company/ispring/blog/569648/\"><span>Отправка доменных событий в модульном монолите</span></a></h2><div class=\"tm-article-snippet__hubs\"><span class=\"tm-article-snippet__hubs-item\"><a class=\"tm-article-snippet__hubs-item-link\" href=\"/ru/company/ispring/blog/\"><span>Блог компании ispring</span></a></span><span class=\"tm-article-snippet__hubs-item\"><a class=\"tm-article-snippet__hubs-item-link\" href=\"/ru/hub/php/\"><span>PHP</span></a></span><span class=\"tm-article-snippet__hubs-item\"><a class=\"tm-article-snippet__hubs-item-link\" href=\"/ru/hub/programming/\"><span>Программирование</span></a></span><span class=\"tm-article-snippet__hubs-item\"><a class=\"tm-article-snippet__hubs-item-link\" href=\"/ru/hub/analysis_design/\"><span>Анализ и проектирование систем</span></a></span><span class=\"tm-article-snippet__hubs-item\"><a class=\"tm-article-snippet__hubs-item-link\" href=\"/ru/hub/refactoring/\"><span>Проектирование и рефакторинг</span></a></span></div><div class=\"tm-article-snippet__labels\"><!-- --></div><!-- --><div class=\"tm-article-body tm-article-snippet__lead\">\n",
       " <div class=\"tm-article-snippet__cover tm-article-snippet__cover_cover\"><img class=\"tm-article-snippet__lead-image\" src=\"https://habrastorage.org/getpro/habr/upload_files/358/700/305/3587003050c35745c0ed6e0e32f0a3b1.png\" style=\"object-position:0% 0%;\"/></div><div class=\"article-formatted-body article-formatted-body_version-2\"><p>Всем привет! В этой статье хочу поделиться опытом построения системы доменных событий (domain events) в нашем модульном монолите и микросервисах, рассказать о том, как мы гарантируем их доставку, следим за консистентностью в рамках транзакций, используя transactional outbox, чем доменные события отличаются от интеграционных и всё это в рамках multi tenant приложения. Подробнее под катом.</p></div><a class=\"tm-article-snippet__readmore\" href=\"/ru/company/ispring/blog/569648/\"><span>Читать далее</span></a></div></div>,\n",
       " <div class=\"tm-article-snippet\"><div class=\"tm-article-snippet__meta-container\"><div class=\"tm-article-snippet__meta\"><span class=\"tm-user-info tm-article-snippet__author\"><a class=\"tm-user-info__userpic\" href=\"/ru/users/ru_vds/\" title=\"ru_vds\"><div class=\"tm-entity-image\"><img alt=\"\" class=\"tm-entity-image__pic\" height=\"24\" loading=\"lazy\" src=\"//habrastorage.org/r/w32/getpro/habr/avatars/e36/812/d3d/e36812d3de38eb3d479d7a13228717ef.png\" width=\"24\"/></div></a><span class=\"tm-user-info__user\"><a class=\"tm-user-info__username\" href=\"/ru/users/ru_vds/\">\n",
       "       ru_vds\n",
       "     </a></span></span><span class=\"tm-article-snippet__datetime-published\"><time datetime=\"2021-07-26T13:01:01.000Z\" title=\"2021-07-26, 16:01\">сегодня в 16:01</time></span></div><!-- --></div><h2 class=\"tm-article-snippet__title tm-article-snippet__title_h2\"><a class=\"tm-article-snippet__title-link\" data-article-link=\"\" href=\"/ru/company/ruvds/blog/567154/\"><span>В JS-функциях «побеждает» последний оператор return</span></a></h2><div class=\"tm-article-snippet__hubs\"><span class=\"tm-article-snippet__hubs-item\"><a class=\"tm-article-snippet__hubs-item-link\" href=\"/ru/company/ruvds/blog/\"><span>Блог компании RUVDS.com</span></a></span><span class=\"tm-article-snippet__hubs-item\"><a class=\"tm-article-snippet__hubs-item-link\" href=\"/ru/hub/webdev/\"><span>Разработка веб-сайтов</span></a></span><span class=\"tm-article-snippet__hubs-item\"><a class=\"tm-article-snippet__hubs-item-link\" href=\"/ru/hub/javascript/\"><span>JavaScript</span></a></span></div><div class=\"tm-article-snippet__labels\"><div class=\"tm-article-snippet__label\"><span>\n",
       "           Перевод\n",
       "         </span></div></div><!-- --><div class=\"tm-article-body tm-article-snippet__lead\">\n",
       " <!-- --><div class=\"article-formatted-body article-formatted-body_version-1\">Вот — JavaScript-функция. Какой из операторов <code>return</code>, имеющихся в ней, «победит» при вызове этой функции?<br/>\n",
       " <br/>\n",
       " <pre><code class=\"javascript\">function test() {\n",
       "   return 'one';\n",
       "   return 'two';\n",
       "   return 'three';\n",
       " }\n",
       " </code></pre><br/>\n",
       " Вероятно, вы скажете, что это — первый <code>return</code>. А вот я хочу попытаться убедить вас в том, что «победителем» окажется <code>return</code> последний.<br/>\n",
       " <br/>\n",
       " <a href=\"https://habr.com/ru/company/ruvds/blog/567154/\"><img src=\"https://habrastorage.org/webt/wo/xw/pp/woxwppn0iznd8vikamlu40x4de8.jpeg\"/></a><br/>\n",
       " <br/>\n",
       " Будьте спокойны: эта функция, определённо, возвращает <code>'one'</code>. Но в данном случае первый <code>return</code> не даёт выполняться остальным. В результате «последний <code>return</code>» — это и есть <code>return 'one'</code>, именно он и «побеждает» другие операторы <code>return</code>. Конечно, это — и самый первый такой оператор, но при этом то, что я заявил выше, остаётся истинным (я, говоря это, с самодовольным видом скрещиваю руки на груди).<br/>\n",
       " <br/>\n",
       " Знаю, в вашей голове сейчас проносится примерно такая мысль: «Да заткнись уже!». Но я, всё же, прошу вас ещё немного меня потерпеть…<br/></div><a class=\"tm-article-snippet__readmore\" href=\"/ru/company/ruvds/blog/567154/\"><span>Читать дальше →</span></a></div></div>,\n",
       " <div class=\"tm-article-snippet\"><div class=\"tm-article-snippet__meta-container\"><div class=\"tm-article-snippet__meta\"><span class=\"tm-user-info tm-article-snippet__author\"><a class=\"tm-user-info__userpic\" href=\"/ru/users/turokg/\" title=\"turokg\"><div class=\"tm-entity-image\"><svg class=\"tm-svg-img tm-image-placeholder tm-image-placeholder_blue\" height=\"24\" width=\"24\"><!-- --><use xlink:href=\"/img/megazord-v24.4c3730a5.svg#placeholder-user\"></use></svg></div></a><span class=\"tm-user-info__user\"><a class=\"tm-user-info__username\" href=\"/ru/users/turokg/\">\n",
       "       turokg\n",
       "     </a></span></span><span class=\"tm-article-snippet__datetime-published\"><time datetime=\"2021-07-26T12:45:59.000Z\" title=\"2021-07-26, 15:45\">сегодня в 15:45</time></span></div><!-- --></div><h2 class=\"tm-article-snippet__title tm-article-snippet__title_h2\"><a class=\"tm-article-snippet__title-link\" data-article-link=\"\" href=\"/ru/post/569674/\"><span>Yappa: запускаем python web-приложения. Просто. Бессерверно. В Яндекс Облаке</span></a></h2><div class=\"tm-article-snippet__hubs\"><span class=\"tm-article-snippet__hubs-item\"><a class=\"tm-article-snippet__hubs-item-link\" href=\"/ru/hub/python/\"><span>Python</span></a></span><span class=\"tm-article-snippet__hubs-item\"><a class=\"tm-article-snippet__hubs-item-link\" href=\"/ru/hub/django/\"><span>Django</span></a></span><span class=\"tm-article-snippet__hubs-item\"><a class=\"tm-article-snippet__hubs-item-link\" href=\"/ru/hub/flask/\"><span>Flask</span></a></span><span class=\"tm-article-snippet__hubs-item\"><a class=\"tm-article-snippet__hubs-item-link\" href=\"/ru/hub/serverless/\"><span>Serverless</span></a></span></div><div class=\"tm-article-snippet__labels\"><div class=\"tm-article-snippet__label\"><span>\n",
       "           Из песочницы\n",
       "         </span></div></div><!-- --><div class=\"tm-article-body tm-article-snippet__lead\">\n",
       " <div class=\"tm-article-snippet__cover tm-article-snippet__cover_cover\"><img class=\"tm-article-snippet__lead-image\" src=\"https://habrastorage.org/getpro/habr/upload_files/f74/2ba/8e2/f742ba8e2ec7417ed4a9a636f6c379da.png\" style=\"object-position:0% 0%;\"/></div><div class=\"article-formatted-body article-formatted-body_version-2\"><p>$ yappa deploy </p><p>Все. </p><p>Твое python приложение доступно в яндекс облаке, у него есть свой урл, оно готово к любому наплыву посетителей. А платишь ты только за время цпу, затраченное на обработку запросов.</p></div><a class=\"tm-article-snippet__readmore\" href=\"/ru/post/569674/\"><span>Читать далее</span></a></div></div>,\n",
       " <div class=\"tm-article-snippet\"><div class=\"tm-article-snippet__meta-container\"><div class=\"tm-article-snippet__meta\"><span class=\"tm-user-info tm-article-snippet__author\"><a class=\"tm-user-info__userpic\" href=\"/ru/users/Catelyn/\" title=\"Catelyn\"><div class=\"tm-entity-image\"><svg class=\"tm-svg-img tm-image-placeholder tm-image-placeholder_blue\" height=\"24\" width=\"24\"><!-- --><use xlink:href=\"/img/megazord-v24.4c3730a5.svg#placeholder-user\"></use></svg></div></a><span class=\"tm-user-info__user\"><a class=\"tm-user-info__username\" href=\"/ru/users/Catelyn/\">\n",
       "       Catelyn\n",
       "     </a></span></span><span class=\"tm-article-snippet__datetime-published\"><time datetime=\"2021-07-26T12:43:09.000Z\" title=\"2021-07-26, 15:43\">сегодня в 15:43</time></span></div><!-- --></div><h2 class=\"tm-article-snippet__title tm-article-snippet__title_h2\"><a class=\"tm-article-snippet__title-link\" data-article-link=\"\" href=\"/ru/company/socialquantum/blog/568946/\"><span>Построение процессов в QA: проблемы и решения</span></a></h2><div class=\"tm-article-snippet__hubs\"><span class=\"tm-article-snippet__hubs-item\"><a class=\"tm-article-snippet__hubs-item-link\" href=\"/ru/company/socialquantum/blog/\"><span>Блог компании Social Quantum</span></a></span><span class=\"tm-article-snippet__hubs-item\"><a class=\"tm-article-snippet__hubs-item-link\" href=\"/ru/hub/gamedev/\"><span>Разработка игр</span></a></span><span class=\"tm-article-snippet__hubs-item\"><a class=\"tm-article-snippet__hubs-item-link\" href=\"/ru/hub/game_testing/\"><span>Тестирование игр</span></a></span></div><div class=\"tm-article-snippet__labels\"><!-- --></div><!-- --><div class=\"tm-article-body tm-article-snippet__lead\">\n",
       " <div class=\"tm-article-snippet__cover tm-article-snippet__cover_cover\"><img class=\"tm-article-snippet__lead-image\" src=\"https://habrastorage.org/getpro/habr/upload_files/257/95f/cc2/25795fcc26495aa16eb10033e12ecf27.png\" style=\"object-position:64.74358974359% 4.3181818181818%;\"/></div><div class=\"article-formatted-body article-formatted-body_version-2\"><p>Каждый тестировщик в моем окружении хоть раз попадал в ситуацию, когда на проекте требуется построить процесс с нуля. Многие наверняка задавались вопросом «С чего начать?». За последние 5 лет у меня было несколько проектов с таким опытом в разных студиях.<br/><br/>Что же делать?  Нужно найти точку опоры, исходя из которой можно понять какой процесс подойдет. Для меня этой точкой опоры стали проблемы мобильных игровых проектов на ранней стадии разработки. В этом материале разберем самые основные и постараемся найти для них решение.</p></div><a class=\"tm-article-snippet__readmore\" href=\"/ru/company/socialquantum/blog/568946/\"><span>Читать далее</span></a></div></div>,\n",
       " <div class=\"tm-article-snippet\"><div class=\"tm-article-snippet__meta-container\"><div class=\"tm-article-snippet__meta\"><span class=\"tm-user-info tm-article-snippet__author\"><a class=\"tm-user-info__userpic\" href=\"/ru/users/KotPoliglot/\" title=\"KotPoliglot\"><div class=\"tm-entity-image\"><img alt=\"\" class=\"tm-entity-image__pic\" height=\"24\" loading=\"lazy\" src=\"//habrastorage.org/r/w32/getpro/habr/avatars/766/198/147/76619814755636a717a5a0132537d576.png\" width=\"24\"/></div></a><span class=\"tm-user-info__user\"><a class=\"tm-user-info__username\" href=\"/ru/users/KotPoliglot/\">\n",
       "       KotPoliglot\n",
       "     </a></span></span><span class=\"tm-article-snippet__datetime-published\"><time datetime=\"2021-07-26T12:17:21.000Z\" title=\"2021-07-26, 15:17\">сегодня в 15:17</time></span></div><!-- --></div><h2 class=\"tm-article-snippet__title tm-article-snippet__title_h2\"><a class=\"tm-article-snippet__title-link\" data-article-link=\"\" href=\"/ru/company/timeweb/blog/569338/\"><span>Установка дополнительных версий PHP в VestaCP с помощью Docker</span></a></h2><div class=\"tm-article-snippet__hubs\"><span class=\"tm-article-snippet__hubs-item\"><a class=\"tm-article-snippet__hubs-item-link\" href=\"/ru/company/timeweb/blog/\"><span>Блог компании Timeweb</span></a></span><span class=\"tm-article-snippet__hubs-item\"><a class=\"tm-article-snippet__hubs-item-link\" href=\"/ru/hub/linux/\"><span>Настройка Linux</span></a></span><span class=\"tm-article-snippet__hubs-item\"><a class=\"tm-article-snippet__hubs-item-link\" href=\"/ru/hub/php/\"><span>PHP</span></a></span><span class=\"tm-article-snippet__hubs-item\"><a class=\"tm-article-snippet__hubs-item-link\" href=\"/ru/hub/nix/\"><span>*nix</span></a></span><span class=\"tm-article-snippet__hubs-item\"><a class=\"tm-article-snippet__hubs-item-link\" href=\"/ru/hub/s_admin/\"><span>Серверное администрирование</span></a></span></div><div class=\"tm-article-snippet__labels\"><div class=\"tm-article-snippet__label\"><span>\n",
       "           Tutorial\n",
       "         </span></div></div><!-- --><div class=\"tm-article-body tm-article-snippet__lead\">\n",
       " <!-- --><div class=\"article-formatted-body article-formatted-body_version-2\"><p>Наверное, многие сталкивались с ситуацией, когда среди проектов работающих на современном ПО, остается пара полузабытых, а держать отдельную машину под них не хочется. Вариантов решения масса, но в службе поддержки хостинг-компании данная проблема не теряет своей актуальности м моими коллегами был разработан скрипт, помогающий добавить нужную версию php в VestaCP буквально за пару минут. Данный метод уже зарекомендовал себя с хорошей стороны и продолжает радовать сотрудников поддержки. Самое время его опубликовать и помочь всем, кто столкнулся с подобной проблемой. </p></div><a class=\"tm-article-snippet__readmore\" href=\"/ru/company/timeweb/blog/569338/\"><span>Читать далее</span></a></div></div>,\n",
       " <div class=\"tm-article-snippet\"><div class=\"tm-article-snippet__meta-container\"><div class=\"tm-article-snippet__meta\"><span class=\"tm-user-info tm-article-snippet__author\"><a class=\"tm-user-info__userpic\" href=\"/ru/users/MaxRokatansky/\" title=\"MaxRokatansky\"><div class=\"tm-entity-image\"><img alt=\"\" class=\"tm-entity-image__pic\" height=\"24\" loading=\"lazy\" src=\"//habrastorage.org/r/w32/getpro/habr/avatars/b9f/baf/5f9/b9fbaf5f96ae52973706a0716bd9216e.jpg\" width=\"24\"/></div></a><span class=\"tm-user-info__user\"><a class=\"tm-user-info__username\" href=\"/ru/users/MaxRokatansky/\">\n",
       "       MaxRokatansky\n",
       "     </a></span></span><span class=\"tm-article-snippet__datetime-published\"><time datetime=\"2021-07-26T12:04:05.000Z\" title=\"2021-07-26, 15:04\">сегодня в 15:04</time></span></div><!-- --></div><h2 class=\"tm-article-snippet__title tm-article-snippet__title_h2\"><a class=\"tm-article-snippet__title-link\" data-article-link=\"\" href=\"/ru/company/otus/blog/569640/\"><span>Часто задаваемые вопросы о ClickHouse Kafka Engine</span></a></h2><div class=\"tm-article-snippet__hubs\"><span class=\"tm-article-snippet__hubs-item\"><a class=\"tm-article-snippet__hubs-item-link\" href=\"/ru/company/otus/blog/\"><span>Блог компании OTUS</span></a></span><span class=\"tm-article-snippet__hubs-item\"><a class=\"tm-article-snippet__hubs-item-link\" href=\"/ru/hub/web_testing/\"><span>Тестирование веб-сервисов</span></a></span></div><div class=\"tm-article-snippet__labels\"><div class=\"tm-article-snippet__label\"><span>\n",
       "           Перевод\n",
       "         </span></div></div><!-- --><div class=\"tm-article-body tm-article-snippet__lead\">\n",
       " <div class=\"tm-article-snippet__cover tm-article-snippet__cover_cover\"><img class=\"tm-article-snippet__lead-image\" src=\"https://habrastorage.org/getpro/habr/upload_files/cec/297/ec2/cec297ec22c792f8ef503947e9e6bac2.png\" style=\"object-position:0% 0%;\"/></div><div class=\"article-formatted-body article-formatted-body_version-2\"><p>Kafka — это популярный способ потоковой загрузки данных в ClickHouse. ClickHouse имеет встроенный коннектор для этой цели — <a href=\"https://clickhouse.tech/docs/en/engines/table-engines/integrations/kafka/\"><u>движок Kafka</u></a>. Наши друзья из Cloudfare первоначально создали этот движок для ClickHouse. С тех пор движок Kafka был значительно переработан и теперь поддерживается разработчиками Altinity. Однако не всегда очевидно, как использовать его наиболее эффективным образом. Мы попытались восполнить этот пробел, проведя <a href=\"https://altinity.com/webinarspage/2020/1/21/fast-insight-from-fast-data-integrating-clickhouse-and-apache-kafka\"><u>вебинар по Kafka</u></a>, который прошел успешно. В этой статье мы собрали типичные вопросы, которые мы получаем по поводу использования движка Kafka. Надеемся, что наши рекомендации помогут избежать распространенных проблем.</p></div><a class=\"tm-article-snippet__readmore\" href=\"/ru/company/otus/blog/569640/\"><span>Читать далее</span></a></div></div>,\n",
       " <div class=\"tm-article-snippet\"><div class=\"tm-article-snippet__meta-container\"><div class=\"tm-article-snippet__meta\"><span class=\"tm-user-info tm-article-snippet__author\"><a class=\"tm-user-info__userpic\" href=\"/ru/users/s_panteleev/\" title=\"s_panteleev\"><div class=\"tm-entity-image\"><img alt=\"\" class=\"tm-entity-image__pic\" height=\"24\" loading=\"lazy\" src=\"//habrastorage.org/r/w32/getpro/habr/avatars/12b/18b/95d/12b18b95df22c91b3592cda194f3b0d5.jpg\" width=\"24\"/></div></a><span class=\"tm-user-info__user\"><a class=\"tm-user-info__username\" href=\"/ru/users/s_panteleev/\">\n",
       "       s_panteleev\n",
       "     </a></span></span><span class=\"tm-article-snippet__datetime-published\"><time datetime=\"2021-07-26T11:47:16.000Z\" title=\"2021-07-26, 14:47\">сегодня в 14:47</time></span></div><!-- --></div><h2 class=\"tm-article-snippet__title tm-article-snippet__title_h2\"><a class=\"tm-article-snippet__title-link\" data-article-link=\"\" href=\"/ru/post/569652/\"><span>PHP 8.1: до и после</span></a></h2><div class=\"tm-article-snippet__hubs\"><span class=\"tm-article-snippet__hubs-item\"><a class=\"tm-article-snippet__hubs-item-link\" href=\"/ru/hub/webdev/\"><span>Разработка веб-сайтов</span></a></span><span class=\"tm-article-snippet__hubs-item\"><a class=\"tm-article-snippet__hubs-item-link\" href=\"/ru/hub/php/\"><span>PHP</span></a></span></div><div class=\"tm-article-snippet__labels\"><div class=\"tm-article-snippet__label\"><span>\n",
       "           Перевод\n",
       "         </span></div></div><!-- --><div class=\"tm-article-body tm-article-snippet__lead\">\n",
       " <div class=\"tm-article-snippet__cover tm-article-snippet__cover_cover\"><img class=\"tm-article-snippet__lead-image\" src=\"https://habrastorage.org/getpro/habr/upload_files/cba/d30/bfc/cbad30bfc2491cd0e9edc3edf5d8e1bf.jpg\" style=\"object-position:0% 0%;\"/></div><div class=\"article-formatted-body article-formatted-body_version-2\"><p><a href=\"https://wiki.php.net/todo/php81\" rel=\"noopener noreferrer nofollow\">PHP 8.1</a> выйдет через несколько месяцев и я в восторге от множества нововведений! Хочу поделиться реальным влиянием PHP 8.1 на мой собственный код.</p></div><a class=\"tm-article-snippet__readmore\" href=\"/ru/post/569652/\"><span>Читать далее</span></a></div></div>,\n",
       " <div class=\"tm-article-snippet\"><div class=\"tm-article-snippet__meta-container\"><div class=\"tm-article-snippet__meta\"><span class=\"tm-user-info tm-article-snippet__author\"><a class=\"tm-user-info__userpic\" href=\"/ru/users/vlreshet/\" title=\"vlreshet\"><div class=\"tm-entity-image\"><img alt=\"\" class=\"tm-entity-image__pic\" height=\"24\" loading=\"lazy\" src=\"//habrastorage.org/r/w32/getpro/habr/avatars/f55/405/583/f5540558337a9fb5319c370faea2df33.jpg\" width=\"24\"/></div></a><span class=\"tm-user-info__user\"><a class=\"tm-user-info__username\" href=\"/ru/users/vlreshet/\">\n",
       "       vlreshet\n",
       "     </a></span></span><span class=\"tm-article-snippet__datetime-published\"><time datetime=\"2021-07-26T11:28:30.000Z\" title=\"2021-07-26, 14:28\">сегодня в 14:28</time></span></div><!-- --></div><h2 class=\"tm-article-snippet__title tm-article-snippet__title_h2\"><a class=\"tm-article-snippet__title-link\" data-article-link=\"\" href=\"/ru/post/569646/\"><span>Не очень известные возможности Chrome Devtools</span></a></h2><div class=\"tm-article-snippet__hubs\"><span class=\"tm-article-snippet__hubs-item\"><a class=\"tm-article-snippet__hubs-item-link\" href=\"/ru/hub/javascript/\"><span>JavaScript</span></a></span><span class=\"tm-article-snippet__hubs-item\"><a class=\"tm-article-snippet__hubs-item-link\" href=\"/ru/hub/google_chrome/\"><span>Google Chrome</span></a></span></div><div class=\"tm-article-snippet__labels\"><!-- --></div><!-- --><div class=\"tm-article-body tm-article-snippet__lead\">\n",
       " <div class=\"tm-article-snippet__cover tm-article-snippet__cover_cover\"><img class=\"tm-article-snippet__lead-image\" src=\"https://habrastorage.org/getpro/habr/upload_files/97a/99f/6f1/97a99f6f15d8c2ba224cafd59e9712ed.jpg\" style=\"object-position:0% 0%;\"/></div><div class=\"article-formatted-body article-formatted-body_version-2\"><p>Chrome Devtools, безусловно, мощнейший инструмент для разработки, дебага, профайлинга и тестирования в браузере. С каждым релизом в него завозят всё новые и новые фичи. И время от времени на хабре выходят посты типа \"10 крутых фишек Devtools\". Но факт - то ли копирайтовый мир победил, то ли это не слишком интересная тема, но в большинстве случаев авторы описывают одни и те же возможности, которые существуют уже года 4. Мне кажется только ленивый сейчас не знает о console.time, о манипуляциях с анимациями, и о том что ветки DOM-дерева можно drag&amp;drop-ать, и т. д.  </p><p>Поэтому, позвольте же рассказать, какие интересные фичи знаю я. Вряд ли все они станут откровением, но знают о них точно не все.</p></div><a class=\"tm-article-snippet__readmore\" href=\"/ru/post/569646/\"><span>Ну, рассказывай</span></a></div></div>]"
      ]
     },
     "execution_count": 9,
     "metadata": {},
     "output_type": "execute_result"
    }
   ],
   "source": [
    "# извлекаем посты\n",
    "posts = soup.find_all('div', class_='tm-article-snippet')\n",
    "posts"
   ]
  },
  {
   "cell_type": "code",
   "execution_count": null,
   "id": "5b90e9dd",
   "metadata": {},
   "outputs": [],
   "source": [
    "article-formatted-body article-formatted-body_version-2"
   ]
  },
  {
   "cell_type": "code",
   "execution_count": null,
   "id": "d447b068",
   "metadata": {},
   "outputs": [],
   "source": [
    "article-formatted-body article-formatted-body_version-2"
   ]
  },
  {
   "cell_type": "code",
   "execution_count": null,
   "id": "8429631a",
   "metadata": {},
   "outputs": [],
   "source": [
    "article-formatted-body article-formatted-body_version-1"
   ]
  },
  {
   "cell_type": "code",
   "execution_count": null,
   "id": "ca7bb081",
   "metadata": {},
   "outputs": [],
   "source": [
    "article-formatted-body article-formatted-body_version-1"
   ]
  },
  {
   "cell_type": "code",
   "execution_count": null,
   "id": "cfd38a35",
   "metadata": {},
   "outputs": [],
   "source": [
    "article-formatted-body article-formatted-body_version-2"
   ]
  },
  {
   "cell_type": "code",
   "execution_count": null,
   "id": "b445dc12",
   "metadata": {},
   "outputs": [],
   "source": []
  },
  {
   "cell_type": "markdown",
   "id": "7c5a083c",
   "metadata": {},
   "source": [
    "###### 2. Задание 2 <a id='task2'></a>"
   ]
  },
  {
   "cell_type": "code",
   "execution_count": null,
   "id": "31930ecb",
   "metadata": {},
   "outputs": [],
   "source": []
  },
  {
   "cell_type": "code",
   "execution_count": null,
   "id": "59bf4ead",
   "metadata": {},
   "outputs": [],
   "source": []
  }
 ],
 "metadata": {
  "kernelspec": {
   "display_name": "Python 3",
   "language": "python",
   "name": "python3"
  },
  "language_info": {
   "codemirror_mode": {
    "name": "ipython",
    "version": 3
   },
   "file_extension": ".py",
   "mimetype": "text/x-python",
   "name": "python",
   "nbconvert_exporter": "python",
   "pygments_lexer": "ipython3",
   "version": "3.8.8"
  },
  "varInspector": {
   "cols": {
    "lenName": 16,
    "lenType": 16,
    "lenVar": 40
   },
   "kernels_config": {
    "python": {
     "delete_cmd_postfix": "",
     "delete_cmd_prefix": "del ",
     "library": "var_list.py",
     "varRefreshCmd": "print(var_dic_list())"
    },
    "r": {
     "delete_cmd_postfix": ") ",
     "delete_cmd_prefix": "rm(",
     "library": "var_list.r",
     "varRefreshCmd": "cat(var_dic_list()) "
    }
   },
   "types_to_exclude": [
    "module",
    "function",
    "builtin_function_or_method",
    "instance",
    "_Feature"
   ],
   "window_display": false
  }
 },
 "nbformat": 4,
 "nbformat_minor": 5
}
